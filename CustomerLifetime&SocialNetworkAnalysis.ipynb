{
  "nbformat": 4,
  "nbformat_minor": 0,
  "metadata": {
    "colab": {
      "provenance": [],
      "toc_visible": true,
      "include_colab_link": true
    },
    "kernelspec": {
      "name": "python3",
      "display_name": "Python 3"
    },
    "language_info": {
      "name": "python"
    }
  },
  "cells": [
    {
      "cell_type": "markdown",
      "metadata": {
        "id": "view-in-github",
        "colab_type": "text"
      },
      "source": [
        "<a href=\"https://colab.research.google.com/github/arpitamangal/customer-segmentation/blob/main/CustomerLifetime%26SocialNetworkAnalysis.ipynb\" target=\"_parent\"><img src=\"https://colab.research.google.com/assets/colab-badge.svg\" alt=\"Open In Colab\"/></a>"
      ]
    },
    {
      "cell_type": "code",
      "execution_count": null,
      "metadata": {
        "id": "RxjZW8KHywfZ"
      },
      "outputs": [],
      "source": [
        "# Run below commands\n",
        "#!apt-get install openjdk-8-jdk-headless -qq > /dev/null\n",
        "#!wget -q https://archive.apache.org/dist/spark/spark-3.1.2/spark-3.1.2-bin-hadoop3.2.tgz\n",
        "#!tar xf spark-3.1.2-bin-hadoop3.2.tgz\n",
        "#!pip install -q findspark"
      ]
    },
    {
      "cell_type": "code",
      "source": [
        "!pip install pyspark"
      ],
      "metadata": {
        "colab": {
          "base_uri": "https://localhost:8080/"
        },
        "id": "ALJlSDNjTEBY",
        "outputId": "4360ac71-249d-42dd-b0c3-89dab4e07bd0"
      },
      "execution_count": null,
      "outputs": [
        {
          "output_type": "stream",
          "name": "stdout",
          "text": [
            "Looking in indexes: https://pypi.org/simple, https://us-python.pkg.dev/colab-wheels/public/simple/\n",
            "Collecting pyspark\n",
            "  Downloading pyspark-3.4.0.tar.gz (310.8 MB)\n",
            "\u001b[2K     \u001b[90m━━━━━━━━━━━━━━━━━━━━━━━━━━━━━━━━━━━━━━━\u001b[0m \u001b[32m310.8/310.8 MB\u001b[0m \u001b[31m4.1 MB/s\u001b[0m eta \u001b[36m0:00:00\u001b[0m\n",
            "\u001b[?25h  Preparing metadata (setup.py) ... \u001b[?25l\u001b[?25hdone\n",
            "Requirement already satisfied: py4j==0.10.9.7 in /usr/local/lib/python3.10/dist-packages (from pyspark) (0.10.9.7)\n",
            "Building wheels for collected packages: pyspark\n",
            "  Building wheel for pyspark (setup.py) ... \u001b[?25l\u001b[?25hdone\n",
            "  Created wheel for pyspark: filename=pyspark-3.4.0-py2.py3-none-any.whl size=311317130 sha256=6ae312a3a96ca529d25d43eb2e6f8f0605b401c7a4f6d0e4bcc54a11f9665cba\n",
            "  Stored in directory: /root/.cache/pip/wheels/7b/1b/4b/3363a1d04368e7ff0d408e57ff57966fcdf00583774e761327\n",
            "Successfully built pyspark\n",
            "Installing collected packages: pyspark\n",
            "Successfully installed pyspark-3.4.0\n"
          ]
        }
      ]
    },
    {
      "cell_type": "code",
      "source": [
        "#!pip install pyspark\n",
        "#-------------------------------------------------\n",
        "from pyspark.sql import SparkSession\n",
        "from pyspark import SparkConf, SparkContext\n",
        "from datetime import datetime, date, timedelta\n",
        "from dateutil import relativedelta\n",
        "from pyspark.sql import SQLContext, Row\n",
        "from pyspark.sql.types import *\n",
        "from pyspark.sql.functions import *\n",
        "from pyspark.sql import DataFrame\n",
        "from pyspark.sql.functions import *\n",
        "from pyspark.sql.functions import to_timestamp, to_date\n",
        "from pyspark.sql import functions as F\n",
        "from pyspark.sql.functions import collect_list, collect_set, concat, first, array_distinct, col, size, expr\n",
        "from pyspark.sql import DataFrame\n",
        "import random\n",
        "import pandas as pd"
      ],
      "metadata": {
        "id": "JPJjoQYvTgRr"
      },
      "execution_count": null,
      "outputs": []
    },
    {
      "cell_type": "code",
      "source": [
        "#import os\n",
        "#os.environ[\"JAVA_HOME\"] = \"/usr/lib/jvm/java-8-openjdk-amd64\"\n",
        "#os.environ[\"SPARK_HOME\"] = \"/content/spark-3.1.2-bin-hadoop3.2\""
      ],
      "metadata": {
        "id": "Gp4O-F8jIt6f"
      },
      "execution_count": null,
      "outputs": []
    },
    {
      "cell_type": "code",
      "source": [
        "#import findspark\n",
        "#findspark.init()\n",
        "from pyspark.sql import SparkSession\n",
        "from pyspark import SparkConf, SparkContext\n",
        "from datetime import datetime, date, timedelta\n",
        "from dateutil import relativedelta\n",
        "from pyspark.sql import SQLContext, Row\n",
        "from pyspark.sql.types import *\n",
        "from pyspark.sql.functions import *\n",
        "from pyspark.sql import DataFrame\n",
        "from pyspark.sql.functions import *\n",
        "from pyspark.sql.functions import to_timestamp, to_date\n",
        "from pyspark.sql import functions as F\n",
        "from pyspark.sql.functions import collect_list, collect_set, concat, first, array_distinct, col, size, expr\n",
        "from pyspark.sql import DataFrame\n",
        "import random\n",
        "import pandas as pd\n",
        "import re"
      ],
      "metadata": {
        "id": "1K7fLrV7IwWD"
      },
      "execution_count": null,
      "outputs": []
    },
    {
      "cell_type": "code",
      "source": [
        "from pyspark.sql import SparkSession\n",
        "from pyspark import SparkConf, SparkContext"
      ],
      "metadata": {
        "id": "c1Hu1adwSAlm"
      },
      "execution_count": null,
      "outputs": []
    },
    {
      "cell_type": "code",
      "source": [
        "# Define the spark session\n",
        "spark = SparkSession\\\n",
        "        .builder\\\n",
        "        .getOrCreate()"
      ],
      "metadata": {
        "id": "mbsS8I_pIwcw"
      },
      "execution_count": null,
      "outputs": []
    },
    {
      "cell_type": "code",
      "source": [
        "from google.colab import drive\n",
        "drive.mount('/content/drive')"
      ],
      "metadata": {
        "colab": {
          "base_uri": "https://localhost:8080/"
        },
        "id": "xwPRbEXaIwjk",
        "outputId": "cd809159-030a-41f6-f49e-cd8c084aef52"
      },
      "execution_count": null,
      "outputs": [
        {
          "output_type": "stream",
          "name": "stdout",
          "text": [
            "Mounted at /content/drive\n"
          ]
        }
      ]
    },
    {
      "cell_type": "code",
      "source": [
        "from pyspark.sql.functions import udf\n",
        "from pyspark.sql.types import ArrayType, StringType"
      ],
      "metadata": {
        "id": "-v2IGnkbIwoh"
      },
      "execution_count": null,
      "outputs": []
    },
    {
      "cell_type": "markdown",
      "source": [
        "# Text Analytics"
      ],
      "metadata": {
        "id": "bUY6IJPIQqOb"
      }
    },
    {
      "cell_type": "code",
      "source": [
        "venmo_df = spark.read.parquet(\"VenmoSample.snappy.parquet\")\n",
        "\n",
        "# take a random sample of the Venmo DataFrame\n",
        "venmo_sample_df = venmo_df.sample(fraction=0.1, seed=42) # specify the fraction and seed as desired"
      ],
      "metadata": {
        "id": "2lEoEiteIwr7"
      },
      "execution_count": null,
      "outputs": []
    },
    {
      "cell_type": "code",
      "source": [
        "venmo_sample_df.show()"
      ],
      "metadata": {
        "colab": {
          "base_uri": "https://localhost:8080/"
        },
        "id": "4wG3OgarIwua",
        "outputId": "4ec25d47-d1cb-48fa-b460-e62baf27af06"
      },
      "execution_count": null,
      "outputs": [
        {
          "output_type": "stream",
          "name": "stdout",
          "text": [
            "+-------+-------+----------------+-------------------+--------------------+-----------+--------------------+\n",
            "|  user1|  user2|transaction_type|           datetime|         description|is_business|            story_id|\n",
            "+-------+-------+----------------+-------------------+--------------------+-----------+--------------------+\n",
            "| 730075| 804466|         payment|2016-05-26 04:46:45|                Food|      false|57461d46cd03c9af2...|\n",
            "|4682257|1870271|         payment|2016-02-24 09:14:12|     🔮 gypsy things|      false|56cd03e4cd03c9af2...|\n",
            "| 241386|2580543|         payment|2015-05-17 06:00:19|           Furniture|      false|5557cc0407f81c33e...|\n",
            "|3393501|1791591|         payment|2015-03-14 00:24:53|           Bleachers|      false|55031d67cd03c9af2...|\n",
            "|1864528| 437516|         payment|2015-12-07 00:51:11|The decline of we...|      false|5664677fcd03c9af2...|\n",
            "|5670003| 618376|         payment|2016-07-17 03:50:26|              Crepes|      false|578a9e1223e064eac...|\n",
            "| 884214|1386238|         payment|2016-04-03 23:50:03|          ☕️🍴🍰🍳🎂|      false|570149bbcd03c9af2...|\n",
            "|1168366| 735212|         payment|2014-08-18 22:51:21|Shipping and hand...|      false|53f220fa7d0b0354e...|\n",
            "|1751344|2105340|          charge|2015-05-29 05:17:51|    5/27 drycleaning|      false|5567940fe85574434...|\n",
            "|3658258|3655859|          charge|2015-08-28 09:48:26|              Closet|      false|55dfcbfacd03c9af2...|\n",
            "|4828390|4461134|         payment|2016-02-23 03:57:19|           u trippin|      false|56cb681fcd03c9af2...|\n",
            "| 179833| 942891|         payment|2015-05-13 05:23:41|            Za foodZ|      false|55527d6d1a3b58730...|\n",
            "|8894083|2400080|         payment|2016-04-01 00:28:19|  OUTSIDE LANDS 2k16|      false|56fd5e33cd03c9af2...|\n",
            "| 411633|4172797|          charge|2016-08-02 02:30:22|           Groceries|      false|579fa34e23e064eac...|\n",
            "| 303413|3245733|          charge|2016-01-17 02:31:25|               Chick|      false|569a8c7dcd03c9af2...|\n",
            "|1158024|3438972|         payment|2015-08-17 09:11:48|👯🍦🍪🍩 getting ...|      false|55d142e42b64f704e...|\n",
            "|6638728|8528091|         payment|2016-02-23 10:26:27|      Parade day🍻🍻|      false|56cbc353cd03c9af2...|\n",
            "|3204155|4470067|         payment|2016-08-18 22:56:42|Extra cuz i love you|      false|57b5daba23e064eac...|\n",
            "|7104084|7006896|         payment|2015-12-09 05:15:04|                Food|      false|56674858cd03c9af2...|\n",
            "|2674970|3691801|         payment|2015-06-19 06:05:46|               Foodz|      false|55834ecb7b9372746...|\n",
            "+-------+-------+----------------+-------------------+--------------------+-----------+--------------------+\n",
            "only showing top 20 rows\n",
            "\n"
          ]
        }
      ]
    },
    {
      "cell_type": "code",
      "source": [
        "# load the text and emoji dictionaries as PySpark DataFrames or RDDs\n",
        "text_dict_df = spark.read.csv(\"Venmo Word Classification Dictonary Word_Dict.csv\", header=True, inferSchema=True)\n"
      ],
      "metadata": {
        "id": "NLELAoYJIww4"
      },
      "execution_count": null,
      "outputs": []
    },
    {
      "cell_type": "code",
      "source": [
        "text_dict_df.show()"
      ],
      "metadata": {
        "colab": {
          "base_uri": "https://localhost:8080/"
        },
        "id": "kZmd0-0eMqUO",
        "outputId": "2203f095-0049-4a57-d322-49c123610f6f"
      },
      "execution_count": null,
      "outputs": [
        {
          "output_type": "stream",
          "name": "stdout",
          "text": [
            "+----------+---------+------------+--------+-------+--------------+-----------+---------+---------------+\n",
            "|    People|     Food|       Event|Activity| Travel|Transportation|    Utility|     Cash|Illegal/Sarcasm|\n",
            "+----------+---------+------------+--------+-------+--------------+-----------+---------+---------------+\n",
            "|    friend|     food|    birthday|    ball|  beach|          lyft|       bill|     atm |      addiction|\n",
            "|friendship|      bbq|   christmas|    boat|  place|          uber|      cable|    bank |           drug|\n",
            "|      baby|     bean|       happy|     bar|     la|           cab|        fee|    cash |          wangs|\n",
            "|       boy|    latte|        bday|    book|  world|           bus|   electric|    money|           weed|\n",
            "|      girl|breakfast|     wedding|    club|  hotel|           car|electricity|     buck|           anal|\n",
            "|      help|   brunch|        xmas|    card|   trip|           gas|   internet|   wallet|             bj|\n",
            "|      like|   burger|     holiday|   dance|   vega|          taxi|       rent|   monies|        blowjob|\n",
            "|      love|  burrito|         hbd|football|  tahoe|          ride|       wifi|      tip|           boob|\n",
            "|       mom|     cake|   halloween|     fun|    nyc|       rental |    utility|   dollar|          booty|\n",
            "|      save|   cheese|thanksgiving|    game|     dc|         train|        tax|  payback|           blow|\n",
            "|     sweet|  chicken|    bachelor|    gift|     sf|          über|     refund|  lettuce|        cocaine|\n",
            "|      tank|   coffee|        gift|    golf| island|         ubers|      house|    watch|           cock|\n",
            "|     thank|     chip|    donation|    hair|   cabo|      gasolina|      billz|      hat|          dirty|\n",
            "|    thanks|  chinese|     charity|      pt|chicago|       airport|    deposit|  supreme|             dd|\n",
            "|       thx| chipotle|         aid|   movie| airbnb|          fuel|         pg|  bitcoin|          crack|\n",
            "|        ya|    cream|         nye|  lesson|travel |        cruise|         tv|robinhood|           bang|\n",
            "|        yo|   costco|   festivity|    park|boston |           air|      paper|  balance|           dank|\n",
            "|       lol|   dinner|      formal|   party| hostel|          limo|    comcast| expenses|           dick|\n",
            "|        jj|    drink|     shower |   poker|retreat|          bike|      light|   switch|           fart|\n",
            "|      lyfe|    drank|       photo|    pool|   nola|            bp|      phone|    extra|           fuck|\n",
            "+----------+---------+------------+--------+-------+--------------+-----------+---------+---------------+\n",
            "only showing top 20 rows\n",
            "\n"
          ]
        }
      ]
    },
    {
      "cell_type": "code",
      "source": [
        "emoji_dict_df = spark.read.csv(\"Venmo_Emoji_Classification_Dictionary.csv\", header=True, inferSchema=True)"
      ],
      "metadata": {
        "id": "2CMj0l_8MrIu"
      },
      "execution_count": null,
      "outputs": []
    },
    {
      "cell_type": "code",
      "source": [
        "emoji_dict_df.show()"
      ],
      "metadata": {
        "colab": {
          "base_uri": "https://localhost:8080/"
        },
        "id": "9bQC7e7YMrUf",
        "outputId": "918944aa-2a83-4394-f40c-218137334b20"
      },
      "execution_count": null,
      "outputs": [
        {
          "output_type": "stream",
          "name": "stdout",
          "text": [
            "+-----+------+----+--------+--------------+------+-------+\n",
            "|Event|Travel|Food|Activity|Transportation|People|Utility|\n",
            "+-----+------+----+--------+--------------+------+-------+\n",
            "| 🇦🇺|    🏔|  🍇|      👾|            🚄|    😀|      ⚡|\n",
            "| 🇫🇷|     ⛰|  🍈|      🕴|            🚅|    😃|     💡|\n",
            "|   🎂|    🌋|  🍉|      🎪|            🚆|    😄|     🔌|\n",
            "|   🛍|    🗻|  🍊|      🎭|            🚇|    😁|     📺|\n",
            "| 🇨🇦|    🏕|  🍋|      🎨|            🚈|    😆|     🔌|\n",
            "| 🇧🇷|    🏖|  🍌|      🎰|            🚉|    😅|      ⚡|\n",
            "|   🐉|    🏜|  🍍|      🚣|            🚊|    🤣|     💡|\n",
            "|   🎅|    🏝|  🍎|      🛀|            🚝|    😂|     💸|\n",
            "| 🇲🇽|    🏞|  🍏|      🎗|            🚞|    🙂|     💦|\n",
            "| 🇨🇳|    🏟|  🍐|      🎟|            🚋|   🙃-|     💧|\n",
            "|   🐰|    🏛|  🍑|      🎫|            🚌|    😉|     📱|\n",
            "|   🎥|    🏗|  🍒|      🎖|            🚍|    😊|     🏢|\n",
            "|   🍂|    🏘|  🍓|      🏆|            🚎|    😇|     🏣|\n",
            "|   👨|    🏙|  🍅|      🏅|            🚏|    🥰|     🔥|\n",
            "|   💪|    🏚|  🍆|       ⚽|            🚐|   😍-|   null|\n",
            "|   🎓|    🏢|  🌽|       ⚾|            🚑|   🤩-|   null|\n",
            "|   🎃|    🏣|  🌶|      🏀|            🚒|    😘|   null|\n",
            "|   🕎|    🏤|  🍄|      🏐|            🚓|    😗|   null|\n",
            "|   🕉|    🏥|  🌰|      🏈|            🚔|     ☺|   null|\n",
            "| 🇺🇸|    🏦|  🍞|      🏉|            🚕|    😚|   null|\n",
            "+-----+------+----+--------+--------------+------+-------+\n",
            "only showing top 20 rows\n",
            "\n"
          ]
        }
      ]
    },
    {
      "cell_type": "code",
      "source": [
        "import pyspark.sql.functions as F\n",
        "import re\n",
        "\n",
        "# Define a regular expression pattern to match emojis\n",
        "emoji_pattern = r\"[\\U0001F300-\\U0001F64F]|[\\U0001F680-\\U0001F6FF]|[\\u2600-\\u26FF\\u2700-\\u27BF]\"\n",
        "\n",
        "# Create a UDF (User Defined Function) to extract emojis from the description\n",
        "extract_emojis = F.udf(lambda text: ''.join(re.findall(emoji_pattern, text)))\n",
        "\n",
        "# Create a UDF to remove emojis from the description\n",
        "remove_emojis = F.udf(lambda text: re.sub(emoji_pattern, '', text))\n",
        "\n",
        "# Create a UDF to convert text to lowercase\n",
        "convert_to_lowercase = F.udf(lambda text: text.lower())\n",
        "\n",
        "# Add a new column 'emojis' containing the extracted emojis\n",
        "venmo_sample_df = venmo_sample_df.withColumn('emojis', extract_emojis(F.col('description')))\n",
        "\n",
        "# Add a new column 'text_only' containing the text without emojis\n",
        "venmo_sample_df = venmo_sample_df.withColumn('text_only', remove_emojis(F.col('description')))\n",
        "\n",
        "# Add a new column 'text_only_lower' containing the lowercase text\n",
        "venmo_sample_df = venmo_sample_df.withColumn('text_only_lower', convert_to_lowercase(F.col('text_only')))"
      ],
      "metadata": {
        "id": "CaXEDekjMrXN"
      },
      "execution_count": null,
      "outputs": []
    },
    {
      "cell_type": "code",
      "source": [
        "venmo_sample_df.show()"
      ],
      "metadata": {
        "colab": {
          "base_uri": "https://localhost:8080/"
        },
        "id": "43PUvstcMrbD",
        "outputId": "6b18f6a6-2e4c-446e-c388-6c0411bd3e26"
      },
      "execution_count": null,
      "outputs": [
        {
          "output_type": "stream",
          "name": "stdout",
          "text": [
            "+-------+-------+----------------+-------------------+--------------------+-----------+--------------------+---------+--------------------+--------------------+\n",
            "|  user1|  user2|transaction_type|           datetime|         description|is_business|            story_id|   emojis|           text_only|     text_only_lower|\n",
            "+-------+-------+----------------+-------------------+--------------------+-----------+--------------------+---------+--------------------+--------------------+\n",
            "| 730075| 804466|         payment|2016-05-26 04:46:45|                Food|      false|57461d46cd03c9af2...|         |                Food|                food|\n",
            "|4682257|1870271|         payment|2016-02-24 09:14:12|     🔮 gypsy things|      false|56cd03e4cd03c9af2...|       🔮|        gypsy things|        gypsy things|\n",
            "| 241386|2580543|         payment|2015-05-17 06:00:19|           Furniture|      false|5557cc0407f81c33e...|         |           Furniture|           furniture|\n",
            "|3393501|1791591|         payment|2015-03-14 00:24:53|           Bleachers|      false|55031d67cd03c9af2...|         |           Bleachers|           bleachers|\n",
            "|1864528| 437516|         payment|2015-12-07 00:51:11|The decline of we...|      false|5664677fcd03c9af2...|         |The decline of we...|the decline of we...|\n",
            "|5670003| 618376|         payment|2016-07-17 03:50:26|              Crepes|      false|578a9e1223e064eac...|         |              Crepes|              crepes|\n",
            "| 884214|1386238|         payment|2016-04-03 23:50:03|          ☕️🍴🍰🍳🎂|      false|570149bbcd03c9af2...|☕🍴🍰🍳🎂|                   ️|                   ️|\n",
            "|1168366| 735212|         payment|2014-08-18 22:51:21|Shipping and hand...|      false|53f220fa7d0b0354e...|         |Shipping and hand...|shipping and hand...|\n",
            "|1751344|2105340|          charge|2015-05-29 05:17:51|    5/27 drycleaning|      false|5567940fe85574434...|         |    5/27 drycleaning|    5/27 drycleaning|\n",
            "|3658258|3655859|          charge|2015-08-28 09:48:26|              Closet|      false|55dfcbfacd03c9af2...|         |              Closet|              closet|\n",
            "|4828390|4461134|         payment|2016-02-23 03:57:19|           u trippin|      false|56cb681fcd03c9af2...|         |           u trippin|           u trippin|\n",
            "| 179833| 942891|         payment|2015-05-13 05:23:41|            Za foodZ|      false|55527d6d1a3b58730...|         |            Za foodZ|            za foodz|\n",
            "|8894083|2400080|         payment|2016-04-01 00:28:19|  OUTSIDE LANDS 2k16|      false|56fd5e33cd03c9af2...|         |  OUTSIDE LANDS 2k16|  outside lands 2k16|\n",
            "| 411633|4172797|          charge|2016-08-02 02:30:22|           Groceries|      false|579fa34e23e064eac...|         |           Groceries|           groceries|\n",
            "| 303413|3245733|          charge|2016-01-17 02:31:25|               Chick|      false|569a8c7dcd03c9af2...|         |               Chick|               chick|\n",
            "|1158024|3438972|         payment|2015-08-17 09:11:48|👯🍦🍪🍩 getting ...|      false|55d142e42b64f704e...| 👯🍦🍪🍩| getting cookie d...| getting cookie d...|\n",
            "|6638728|8528091|         payment|2016-02-23 10:26:27|      Parade day🍻🍻|      false|56cbc353cd03c9af2...|     🍻🍻|          Parade day|          parade day|\n",
            "|3204155|4470067|         payment|2016-08-18 22:56:42|Extra cuz i love you|      false|57b5daba23e064eac...|         |Extra cuz i love you|extra cuz i love you|\n",
            "|7104084|7006896|         payment|2015-12-09 05:15:04|                Food|      false|56674858cd03c9af2...|         |                Food|                food|\n",
            "|2674970|3691801|         payment|2015-06-19 06:05:46|               Foodz|      false|55834ecb7b9372746...|         |               Foodz|               foodz|\n",
            "+-------+-------+----------------+-------------------+--------------------+-----------+--------------------+---------+--------------------+--------------------+\n",
            "only showing top 20 rows\n",
            "\n"
          ]
        }
      ]
    },
    {
      "cell_type": "code",
      "source": [
        "from pyspark.ml.feature import Tokenizer\n",
        "\n",
        "# Create a tokenizer instance\n",
        "tokenizer = Tokenizer(inputCol='text_only_lower', outputCol='tokens')\n",
        "\n",
        "# Apply the tokenizer to the dataframe\n",
        "venmo_sample_df = tokenizer.transform(venmo_sample_df)"
      ],
      "metadata": {
        "id": "zmzjZWRtMrd8"
      },
      "execution_count": null,
      "outputs": []
    },
    {
      "cell_type": "code",
      "source": [
        "venmo_sample_df.show()"
      ],
      "metadata": {
        "colab": {
          "base_uri": "https://localhost:8080/"
        },
        "id": "LZMLA_cvMrgk",
        "outputId": "d7d56763-42a8-4108-8fff-a86f3554588e"
      },
      "execution_count": null,
      "outputs": [
        {
          "output_type": "stream",
          "name": "stdout",
          "text": [
            "+-------+-------+----------------+-------------------+--------------------+-----------+--------------------+---------+--------------------+--------------------+--------------------+\n",
            "|  user1|  user2|transaction_type|           datetime|         description|is_business|            story_id|   emojis|           text_only|     text_only_lower|              tokens|\n",
            "+-------+-------+----------------+-------------------+--------------------+-----------+--------------------+---------+--------------------+--------------------+--------------------+\n",
            "| 730075| 804466|         payment|2016-05-26 04:46:45|                Food|      false|57461d46cd03c9af2...|         |                Food|                food|              [food]|\n",
            "|4682257|1870271|         payment|2016-02-24 09:14:12|     🔮 gypsy things|      false|56cd03e4cd03c9af2...|       🔮|        gypsy things|        gypsy things|   [, gypsy, things]|\n",
            "| 241386|2580543|         payment|2015-05-17 06:00:19|           Furniture|      false|5557cc0407f81c33e...|         |           Furniture|           furniture|         [furniture]|\n",
            "|3393501|1791591|         payment|2015-03-14 00:24:53|           Bleachers|      false|55031d67cd03c9af2...|         |           Bleachers|           bleachers|         [bleachers]|\n",
            "|1864528| 437516|         payment|2015-12-07 00:51:11|The decline of we...|      false|5664677fcd03c9af2...|         |The decline of we...|the decline of we...|[the, decline, of...|\n",
            "|5670003| 618376|         payment|2016-07-17 03:50:26|              Crepes|      false|578a9e1223e064eac...|         |              Crepes|              crepes|            [crepes]|\n",
            "| 884214|1386238|         payment|2016-04-03 23:50:03|          ☕️🍴🍰🍳🎂|      false|570149bbcd03c9af2...|☕🍴🍰🍳🎂|                   ️|                   ️|                 [️]|\n",
            "|1168366| 735212|         payment|2014-08-18 22:51:21|Shipping and hand...|      false|53f220fa7d0b0354e...|         |Shipping and hand...|shipping and hand...|[shipping, and, h...|\n",
            "|1751344|2105340|          charge|2015-05-29 05:17:51|    5/27 drycleaning|      false|5567940fe85574434...|         |    5/27 drycleaning|    5/27 drycleaning| [5/27, drycleaning]|\n",
            "|3658258|3655859|          charge|2015-08-28 09:48:26|              Closet|      false|55dfcbfacd03c9af2...|         |              Closet|              closet|            [closet]|\n",
            "|4828390|4461134|         payment|2016-02-23 03:57:19|           u trippin|      false|56cb681fcd03c9af2...|         |           u trippin|           u trippin|        [u, trippin]|\n",
            "| 179833| 942891|         payment|2015-05-13 05:23:41|            Za foodZ|      false|55527d6d1a3b58730...|         |            Za foodZ|            za foodz|         [za, foodz]|\n",
            "|8894083|2400080|         payment|2016-04-01 00:28:19|  OUTSIDE LANDS 2k16|      false|56fd5e33cd03c9af2...|         |  OUTSIDE LANDS 2k16|  outside lands 2k16|[outside, lands, ...|\n",
            "| 411633|4172797|          charge|2016-08-02 02:30:22|           Groceries|      false|579fa34e23e064eac...|         |           Groceries|           groceries|         [groceries]|\n",
            "| 303413|3245733|          charge|2016-01-17 02:31:25|               Chick|      false|569a8c7dcd03c9af2...|         |               Chick|               chick|             [chick]|\n",
            "|1158024|3438972|         payment|2015-08-17 09:11:48|👯🍦🍪🍩 getting ...|      false|55d142e42b64f704e...| 👯🍦🍪🍩| getting cookie d...| getting cookie d...|[, getting, cooki...|\n",
            "|6638728|8528091|         payment|2016-02-23 10:26:27|      Parade day🍻🍻|      false|56cbc353cd03c9af2...|     🍻🍻|          Parade day|          parade day|       [parade, day]|\n",
            "|3204155|4470067|         payment|2016-08-18 22:56:42|Extra cuz i love you|      false|57b5daba23e064eac...|         |Extra cuz i love you|extra cuz i love you|[extra, cuz, i, l...|\n",
            "|7104084|7006896|         payment|2015-12-09 05:15:04|                Food|      false|56674858cd03c9af2...|         |                Food|                food|              [food]|\n",
            "|2674970|3691801|         payment|2015-06-19 06:05:46|               Foodz|      false|55834ecb7b9372746...|         |               Foodz|               foodz|             [foodz]|\n",
            "+-------+-------+----------------+-------------------+--------------------+-----------+--------------------+---------+--------------------+--------------------+--------------------+\n",
            "only showing top 20 rows\n",
            "\n"
          ]
        }
      ]
    },
    {
      "cell_type": "markdown",
      "source": [
        "### Classify Venmo’s transactions"
      ],
      "metadata": {
        "id": "cgI9DkRgM97t"
      }
    },
    {
      "cell_type": "code",
      "source": [
        "# Reshaping the text dataset:\n",
        "from pyspark.sql.functions import expr, col, lit\n",
        "\n",
        "# Rename the \"Illegal/Sarcasm\" column\n",
        "text_dict_df = text_dict_df.withColumnRenamed(\"Illegal/Sarcasm\", \"IllegalSarcasm\")\n",
        "\n",
        "# Reshape the DataFrame:\n",
        "reshaped_df = (text_dict_df\n",
        "    .selectExpr(\"stack(\" + str(len(text_dict_df.columns)) + \", \" + \", \".join([\"'\"+c+\"', \"+c for c in text_dict_df.columns]) + \") AS (category, value)\")\n",
        "    .orderBy(col('category'))\n",
        "    .filter(col('value').isNotNull()) # Exclude rows where \"value\" is null\n",
        ")\n",
        "\n",
        "# Show the reshaped DataFrame\n",
        "reshaped_df.show(truncate=False)"
      ],
      "metadata": {
        "colab": {
          "base_uri": "https://localhost:8080/"
        },
        "id": "iq6RFLIBMrjY",
        "outputId": "e9d8d5ef-9c91-4446-c414-a936a87bce5d"
      },
      "execution_count": null,
      "outputs": [
        {
          "output_type": "stream",
          "name": "stdout",
          "text": [
            "+--------+--------+\n",
            "|category|value   |\n",
            "+--------+--------+\n",
            "|Activity|gift    |\n",
            "|Activity|ticket  |\n",
            "|Activity|boat    |\n",
            "|Activity|book    |\n",
            "|Activity|club    |\n",
            "|Activity|card    |\n",
            "|Activity|dance   |\n",
            "|Activity|football|\n",
            "|Activity|fun     |\n",
            "|Activity|game    |\n",
            "|Activity|bar     |\n",
            "|Activity|ball    |\n",
            "|Activity|golf    |\n",
            "|Activity|hair    |\n",
            "|Activity|pt      |\n",
            "|Activity|movie   |\n",
            "|Activity|lesson  |\n",
            "|Activity|park    |\n",
            "|Activity|party   |\n",
            "|Activity|poker   |\n",
            "+--------+--------+\n",
            "only showing top 20 rows\n",
            "\n"
          ]
        }
      ]
    },
    {
      "cell_type": "code",
      "source": [
        "# Reshape the emoji dataset:\n",
        "\n",
        "from pyspark.sql.functions import expr, col, lit\n",
        "\n",
        "# Reshape the DataFrame\n",
        "reshaped_emoji_df = (emoji_dict_df\n",
        "    .selectExpr(\"stack(\" + str(len(emoji_dict_df.columns)) + \", \" + \", \".join([\"'\"+c+\"', \"+c for c in emoji_dict_df.columns]) + \") AS (category2, value2)\")\n",
        "    .orderBy(col('category2'))\n",
        "    .filter(col('value2').isNotNull()) # Exclude rows where \"value\" is null\n",
        ")\n",
        "\n",
        "# Show the reshaped DataFrame\n",
        "reshaped_emoji_df.show(truncate=False)"
      ],
      "metadata": {
        "colab": {
          "base_uri": "https://localhost:8080/"
        },
        "id": "04SmYbPHMrpt",
        "outputId": "d57dd805-815b-44b9-db15-3cbe0fbbfc7d"
      },
      "execution_count": null,
      "outputs": [
        {
          "output_type": "stream",
          "name": "stdout",
          "text": [
            "+---------+------+\n",
            "|category2|value2|\n",
            "+---------+------+\n",
            "|Activity |🏅    |\n",
            "|Activity |🎿    |\n",
            "|Activity |⚽     |\n",
            "|Activity |🕴    |\n",
            "|Activity |⚾     |\n",
            "|Activity |🎭    |\n",
            "|Activity |🏀    |\n",
            "|Activity |🎰    |\n",
            "|Activity |🏐    |\n",
            "|Activity |🛀    |\n",
            "|Activity |🏈    |\n",
            "|Activity |🎟    |\n",
            "|Activity |🏉    |\n",
            "|Activity |🎖    |\n",
            "|Activity |🎾    |\n",
            "|Activity |🏏    |\n",
            "|Activity |🏑    |\n",
            "|Activity |🚣    |\n",
            "|Activity |🏒    |\n",
            "|Activity |🎨    |\n",
            "+---------+------+\n",
            "only showing top 20 rows\n",
            "\n"
          ]
        }
      ]
    },
    {
      "cell_type": "code",
      "source": [
        "from pyspark.sql.functions import array_contains\n",
        "\n",
        "# Perform the first join operation\n",
        "joined_df = venmo_sample_df.join(reshaped_df, array_contains('tokens', reshaped_df.value), 'left')\n",
        "\n",
        "# Perform the second join operation\n",
        "#joined_df = joined_df.join(reshaped_emoji_df, array_contains(reshaped_emoji_df['value'], joined_df['emojis']), 'left')\n",
        "joined_df = joined_df.join(reshaped_emoji_df, col(\"emojis\").contains(reshaped_emoji_df.value2), \"left_outer\")\n",
        "joined_df = joined_df.withColumn('category_class',\n",
        "                                 when(col('category').isNull(), col('category2'))\n",
        "                                 .otherwise(col('category')))\n",
        "\n",
        "joined_df = joined_df.withColumn('category_class',\n",
        "                                 when(col('category_class').isNull(), 'unclassified')\n",
        "                                 .otherwise(col('category_class')))\n",
        "# Display the resulting dataframe\n",
        "joined_df.show(50)"
      ],
      "metadata": {
        "colab": {
          "base_uri": "https://localhost:8080/"
        },
        "id": "0roY_FodNGCK",
        "outputId": "94afff4f-4d3f-4b9f-e9d8-3c4fc5cbea6a"
      },
      "execution_count": null,
      "outputs": [
        {
          "output_type": "stream",
          "name": "stdout",
          "text": [
            "+--------+--------+----------------+-------------------+--------------------+-----------+--------------------+---------+--------------------+--------------------+--------------------+--------------+-----------+---------+------+--------------+\n",
            "|   user1|   user2|transaction_type|           datetime|         description|is_business|            story_id|   emojis|           text_only|     text_only_lower|              tokens|      category|      value|category2|value2|category_class|\n",
            "+--------+--------+----------------+-------------------+--------------------+-----------+--------------------+---------+--------------------+--------------------+--------------------+--------------+-----------+---------+------+--------------+\n",
            "|  730075|  804466|         payment|2016-05-26 04:46:45|                Food|      false|57461d46cd03c9af2...|         |                Food|                food|              [food]|          Food|       food|     null|  null|          Food|\n",
            "| 4682257| 1870271|         payment|2016-02-24 09:14:12|     🔮 gypsy things|      false|56cd03e4cd03c9af2...|       🔮|        gypsy things|        gypsy things|   [, gypsy, things]|          null|       null|     null|  null|  unclassified|\n",
            "|  241386| 2580543|         payment|2015-05-17 06:00:19|           Furniture|      false|5557cc0407f81c33e...|         |           Furniture|           furniture|         [furniture]|       Utility|  furniture|     null|  null|       Utility|\n",
            "| 3393501| 1791591|         payment|2015-03-14 00:24:53|           Bleachers|      false|55031d67cd03c9af2...|         |           Bleachers|           bleachers|         [bleachers]|          null|       null|     null|  null|  unclassified|\n",
            "| 1864528|  437516|         payment|2015-12-07 00:51:11|The decline of we...|      false|5664677fcd03c9af2...|         |The decline of we...|the decline of we...|[the, decline, of...|          null|       null|     null|  null|  unclassified|\n",
            "| 5670003|  618376|         payment|2016-07-17 03:50:26|              Crepes|      false|578a9e1223e064eac...|         |              Crepes|              crepes|            [crepes]|          null|       null|     null|  null|  unclassified|\n",
            "|  884214| 1386238|         payment|2016-04-03 23:50:03|          ☕️🍴🍰🍳🎂|      false|570149bbcd03c9af2...|☕🍴🍰🍳🎂|                   ️|                   ️|                 [️]|          null|       null|    Event|    🎂|         Event|\n",
            "|  884214| 1386238|         payment|2016-04-03 23:50:03|          ☕️🍴🍰🍳🎂|      false|570149bbcd03c9af2...|☕🍴🍰🍳🎂|                   ️|                   ️|                 [️]|          null|       null|     Food|    🍳|          Food|\n",
            "|  884214| 1386238|         payment|2016-04-03 23:50:03|          ☕️🍴🍰🍳🎂|      false|570149bbcd03c9af2...|☕🍴🍰🍳🎂|                   ️|                   ️|                 [️]|          null|       null|     Food|    🍰|          Food|\n",
            "|  884214| 1386238|         payment|2016-04-03 23:50:03|          ☕️🍴🍰🍳🎂|      false|570149bbcd03c9af2...|☕🍴🍰🍳🎂|                   ️|                   ️|                 [️]|          null|       null|     Food|     ☕|          Food|\n",
            "|  884214| 1386238|         payment|2016-04-03 23:50:03|          ☕️🍴🍰🍳🎂|      false|570149bbcd03c9af2...|☕🍴🍰🍳🎂|                   ️|                   ️|                 [️]|          null|       null|     Food|    🍴|          Food|\n",
            "| 1168366|  735212|         payment|2014-08-18 22:51:21|Shipping and hand...|      false|53f220fa7d0b0354e...|         |Shipping and hand...|shipping and hand...|[shipping, and, h...|Transportation|   shipping|     null|  null|Transportation|\n",
            "| 1751344| 2105340|          charge|2015-05-29 05:17:51|    5/27 drycleaning|      false|5567940fe85574434...|         |    5/27 drycleaning|    5/27 drycleaning| [5/27, drycleaning]|       Utility|drycleaning|     null|  null|       Utility|\n",
            "| 3658258| 3655859|          charge|2015-08-28 09:48:26|              Closet|      false|55dfcbfacd03c9af2...|         |              Closet|              closet|            [closet]|          null|       null|     null|  null|  unclassified|\n",
            "| 4828390| 4461134|         payment|2016-02-23 03:57:19|           u trippin|      false|56cb681fcd03c9af2...|         |           u trippin|           u trippin|        [u, trippin]|          null|       null|     null|  null|  unclassified|\n",
            "|  179833|  942891|         payment|2015-05-13 05:23:41|            Za foodZ|      false|55527d6d1a3b58730...|         |            Za foodZ|            za foodz|         [za, foodz]|          Food|      foodz|     null|  null|          Food|\n",
            "|  179833|  942891|         payment|2015-05-13 05:23:41|            Za foodZ|      false|55527d6d1a3b58730...|         |            Za foodZ|            za foodz|         [za, foodz]|          Food|         za|     null|  null|          Food|\n",
            "| 8894083| 2400080|         payment|2016-04-01 00:28:19|  OUTSIDE LANDS 2k16|      false|56fd5e33cd03c9af2...|         |  OUTSIDE LANDS 2k16|  outside lands 2k16|[outside, lands, ...|          null|       null|     null|  null|  unclassified|\n",
            "|  411633| 4172797|          charge|2016-08-02 02:30:22|           Groceries|      false|579fa34e23e064eac...|         |           Groceries|           groceries|         [groceries]|          Food|  groceries|     null|  null|          Food|\n",
            "|  303413| 3245733|          charge|2016-01-17 02:31:25|               Chick|      false|569a8c7dcd03c9af2...|         |               Chick|               chick|             [chick]|          Food|      chick|     null|  null|          Food|\n",
            "| 1158024| 3438972|         payment|2015-08-17 09:11:48|👯🍦🍪🍩 getting ...|      false|55d142e42b64f704e...| 👯🍦🍪🍩| getting cookie d...| getting cookie d...|[, getting, cooki...|          Food|     cookie|     Food|    🍦|          Food|\n",
            "| 1158024| 3438972|         payment|2015-08-17 09:11:48|👯🍦🍪🍩 getting ...|      false|55d142e42b64f704e...| 👯🍦🍪🍩| getting cookie d...| getting cookie d...|[, getting, cooki...|          Food|     cookie|     Food|    🍩|          Food|\n",
            "| 1158024| 3438972|         payment|2015-08-17 09:11:48|👯🍦🍪🍩 getting ...|      false|55d142e42b64f704e...| 👯🍦🍪🍩| getting cookie d...| getting cookie d...|[, getting, cooki...|          Food|     cookie|     Food|    🍪|          Food|\n",
            "| 1158024| 3438972|         payment|2015-08-17 09:11:48|👯🍦🍪🍩 getting ...|      false|55d142e42b64f704e...| 👯🍦🍪🍩| getting cookie d...| getting cookie d...|[, getting, cooki...|          Food|     cookie|   People|    👯|          Food|\n",
            "| 6638728| 8528091|         payment|2016-02-23 10:26:27|      Parade day🍻🍻|      false|56cbc353cd03c9af2...|     🍻🍻|          Parade day|          parade day|       [parade, day]|      Activity|        day|     Food|    🍻|      Activity|\n",
            "| 3204155| 4470067|         payment|2016-08-18 22:56:42|Extra cuz i love you|      false|57b5daba23e064eac...|         |Extra cuz i love you|extra cuz i love you|[extra, cuz, i, l...|        People|       love|     null|  null|        People|\n",
            "| 3204155| 4470067|         payment|2016-08-18 22:56:42|Extra cuz i love you|      false|57b5daba23e064eac...|         |Extra cuz i love you|extra cuz i love you|[extra, cuz, i, l...|          Cash|      extra|     null|  null|          Cash|\n",
            "| 7104084| 7006896|         payment|2015-12-09 05:15:04|                Food|      false|56674858cd03c9af2...|         |                Food|                food|              [food]|          Food|       food|     null|  null|          Food|\n",
            "| 2674970| 3691801|         payment|2015-06-19 06:05:46|               Foodz|      false|55834ecb7b9372746...|         |               Foodz|               foodz|             [foodz]|          Food|      foodz|     null|  null|          Food|\n",
            "| 6523579| 1323619|         payment|2016-07-04 11:16:16|             Ran old|      false|5779e31023e064eac...|         |             Ran old|             ran old|          [ran, old]|          null|       null|     null|  null|  unclassified|\n",
            "| 3413708| 1589735|          charge|2015-02-05 08:02:14|          Trash bill|      false|54d2b30791bd05aa9...|         |          Trash bill|          trash bill|       [trash, bill]|       Utility|       bill|     null|  null|       Utility|\n",
            "| 3413708| 1589735|          charge|2015-02-05 08:02:14|          Trash bill|      false|54d2b30791bd05aa9...|         |          Trash bill|          trash bill|       [trash, bill]|       Utility|      trash|     null|  null|       Utility|\n",
            "|11339258| 1655285|          charge|2016-09-23 00:14:44|        October wifi|      false|57e4118423e064eac...|         |        October wifi|        october wifi|     [october, wifi]|       Utility|       wifi|     null|  null|       Utility|\n",
            "| 4226498| 4708480|         payment|2016-04-18 01:21:10|                  🍺|      false|5713d416cd03c9af2...|       🍺|                    |                    |                  []|          null|       null|     Food|    🍺|          Food|\n",
            "|  230898|  731601|         payment|2016-07-01 00:58:39|Reverse engineeri...|      false|57755dcf23e064eac...|         |Reverse engineeri...|reverse engineeri...|[reverse, enginee...|          null|       null|     null|  null|  unclassified|\n",
            "|  279563|  767893|         payment|2015-05-27 07:17:22|                Time|      false|55650d12d4aeb63c2...|         |                Time|                time|              [time]|          null|       null|     null|  null|  unclassified|\n",
            "| 3562883| 7420992|         payment|2016-09-29 00:16:21|     Daddy's wealthy|      false|57ebfae523e064eac...|         |     Daddy's wealthy|     daddy's wealthy|  [daddy's, wealthy]|          null|       null|     null|  null|  unclassified|\n",
            "| 6471126|10046265|          charge|2016-05-18 08:00:50|   Butterfinger mklk|      false|573bbec2cd03c9af2...|         |   Butterfinger mklk|   butterfinger mklk|[butterfinger, mklk]|          null|       null|     null|  null|  unclassified|\n",
            "| 1189870|  313842|         payment|2015-04-19 14:50:10|               Drink|      false|55335e32ca817957f...|         |               Drink|               drink|             [drink]|          Food|      drink|     null|  null|          Food|\n",
            "| 2418629| 1597426|         payment|2016-05-31 01:49:16|   Add it to the tab|      false|574c8b2ccd03c9af2...|         |   Add it to the tab|   add it to the tab|[add, it, to, the...|          Food|        tab|     null|  null|          Food|\n",
            "| 2536930| 3989960|          charge|2015-06-01 08:52:22|Chipotle mouthgas...|      false|556bbad6b651bb1cf...|       😛| Chipotle mouthgasm | chipotle mouthgasm |[chipotle, mouthg...|          Food|   chipotle|   People|    😛|          Food|\n",
            "|  265062|  257022|          charge|2015-04-23 19:49:39|Death Star episod...|      false|5538ea63efb06d213...|         |Death Star episod...|death star episod...|[death, star, epi...|IllegalSarcasm|      death|     null|  null|IllegalSarcasm|\n",
            "| 3371047| 4735051|         payment|2015-06-23 03:41:08|                   $|      false|558872e51a3b58178...|         |                   $|                   $|                 [$]|          null|       null|     null|  null|  unclassified|\n",
            "| 1641294| 2421135|         payment|2015-04-21 13:16:12|              🎉🎉🎉|      false|5535eb2c07f81c6d5...|   🎉🎉🎉|                    |                    |                  []|          null|       null| Activity|    🎉|      Activity|\n",
            "| 4892258| 5697557|         payment|2016-04-30 03:25:17|🍕 Mary had a lit...|      false|5723c32dcd03c9af2...|       🍕| Mary had a littl...| mary had a littl...|[, mary, had, a, ...|          Food|       lamb|     Food|    🍕|          Food|\n",
            "| 1814561| 4158566|         payment|2016-03-14 05:35:53|                  🕶|      false|56e5eb49cd03c9af2...|       🕶|                    |                    |                  []|          null|       null|   People|    🕶|        People|\n",
            "| 3118787| 3259892|         payment|2015-06-24 22:52:07|               Bills|      false|558ad227d4aeb62b4...|         |               Bills|               bills|             [bills]|       Utility|      bills|     null|  null|       Utility|\n",
            "|  314599|  654014|         payment|2014-02-01 05:06:38|              Square|      false|52ec1060c62cecac3...|         |              Square|              square|            [square]|          null|       null|     null|  null|  unclassified|\n",
            "| 2705822| 3748522|          charge|2015-04-24 08:52:32|  Date night 3😍😍😍|      false|5539a1e0e85574138...|   😍😍😍|        Date night 3|        date night 3|    [date, night, 3]|      Activity|      night|     null|  null|      Activity|\n",
            "| 2705822| 3748522|          charge|2015-04-24 08:52:32|  Date night 3😍😍😍|      false|5539a1e0e85574138...|   😍😍😍|        Date night 3|        date night 3|    [date, night, 3]|      Activity|       date|     null|  null|      Activity|\n",
            "+--------+--------+----------------+-------------------+--------------------+-----------+--------------------+---------+--------------------+--------------------+--------------------+--------------+-----------+---------+------+--------------+\n",
            "only showing top 50 rows\n",
            "\n"
          ]
        }
      ]
    },
    {
      "cell_type": "code",
      "source": [
        "import pyspark.sql.functions as F\n",
        "\n",
        "joined_df = joined_df.withColumn(\n",
        "    'emojionly',\n",
        "    F.when(F.col('value').isNull() & F.col('value2').isNotNull(), 1).otherwise(0)\n",
        ")"
      ],
      "metadata": {
        "id": "7e8QzOieMrs8"
      },
      "execution_count": null,
      "outputs": []
    },
    {
      "cell_type": "code",
      "source": [
        "joined_df.show(50)"
      ],
      "metadata": {
        "colab": {
          "base_uri": "https://localhost:8080/"
        },
        "id": "3n42Wp5RMrwF",
        "outputId": "de0303c9-16d9-47c0-f18b-00132dc1bbd8"
      },
      "execution_count": null,
      "outputs": [
        {
          "output_type": "stream",
          "name": "stdout",
          "text": [
            "+--------+--------+----------------+-------------------+--------------------+-----------+--------------------+---------+--------------------+--------------------+--------------------+--------------+-----------+---------+------+--------------+---------+\n",
            "|   user1|   user2|transaction_type|           datetime|         description|is_business|            story_id|   emojis|           text_only|     text_only_lower|              tokens|      category|      value|category2|value2|category_class|emojionly|\n",
            "+--------+--------+----------------+-------------------+--------------------+-----------+--------------------+---------+--------------------+--------------------+--------------------+--------------+-----------+---------+------+--------------+---------+\n",
            "|  730075|  804466|         payment|2016-05-26 04:46:45|                Food|      false|57461d46cd03c9af2...|         |                Food|                food|              [food]|          Food|       food|     null|  null|          Food|        0|\n",
            "| 4682257| 1870271|         payment|2016-02-24 09:14:12|     🔮 gypsy things|      false|56cd03e4cd03c9af2...|       🔮|        gypsy things|        gypsy things|   [, gypsy, things]|          null|       null|     null|  null|  unclassified|        0|\n",
            "|  241386| 2580543|         payment|2015-05-17 06:00:19|           Furniture|      false|5557cc0407f81c33e...|         |           Furniture|           furniture|         [furniture]|       Utility|  furniture|     null|  null|       Utility|        0|\n",
            "| 3393501| 1791591|         payment|2015-03-14 00:24:53|           Bleachers|      false|55031d67cd03c9af2...|         |           Bleachers|           bleachers|         [bleachers]|          null|       null|     null|  null|  unclassified|        0|\n",
            "| 1864528|  437516|         payment|2015-12-07 00:51:11|The decline of we...|      false|5664677fcd03c9af2...|         |The decline of we...|the decline of we...|[the, decline, of...|          null|       null|     null|  null|  unclassified|        0|\n",
            "| 5670003|  618376|         payment|2016-07-17 03:50:26|              Crepes|      false|578a9e1223e064eac...|         |              Crepes|              crepes|            [crepes]|          null|       null|     null|  null|  unclassified|        0|\n",
            "|  884214| 1386238|         payment|2016-04-03 23:50:03|          ☕️🍴🍰🍳🎂|      false|570149bbcd03c9af2...|☕🍴🍰🍳🎂|                   ️|                   ️|                 [️]|          null|       null|    Event|    🎂|         Event|        1|\n",
            "|  884214| 1386238|         payment|2016-04-03 23:50:03|          ☕️🍴🍰🍳🎂|      false|570149bbcd03c9af2...|☕🍴🍰🍳🎂|                   ️|                   ️|                 [️]|          null|       null|     Food|    🍳|          Food|        1|\n",
            "|  884214| 1386238|         payment|2016-04-03 23:50:03|          ☕️🍴🍰🍳🎂|      false|570149bbcd03c9af2...|☕🍴🍰🍳🎂|                   ️|                   ️|                 [️]|          null|       null|     Food|    🍰|          Food|        1|\n",
            "|  884214| 1386238|         payment|2016-04-03 23:50:03|          ☕️🍴🍰🍳🎂|      false|570149bbcd03c9af2...|☕🍴🍰🍳🎂|                   ️|                   ️|                 [️]|          null|       null|     Food|     ☕|          Food|        1|\n",
            "|  884214| 1386238|         payment|2016-04-03 23:50:03|          ☕️🍴🍰🍳🎂|      false|570149bbcd03c9af2...|☕🍴🍰🍳🎂|                   ️|                   ️|                 [️]|          null|       null|     Food|    🍴|          Food|        1|\n",
            "| 1168366|  735212|         payment|2014-08-18 22:51:21|Shipping and hand...|      false|53f220fa7d0b0354e...|         |Shipping and hand...|shipping and hand...|[shipping, and, h...|Transportation|   shipping|     null|  null|Transportation|        0|\n",
            "| 1751344| 2105340|          charge|2015-05-29 05:17:51|    5/27 drycleaning|      false|5567940fe85574434...|         |    5/27 drycleaning|    5/27 drycleaning| [5/27, drycleaning]|       Utility|drycleaning|     null|  null|       Utility|        0|\n",
            "| 3658258| 3655859|          charge|2015-08-28 09:48:26|              Closet|      false|55dfcbfacd03c9af2...|         |              Closet|              closet|            [closet]|          null|       null|     null|  null|  unclassified|        0|\n",
            "| 4828390| 4461134|         payment|2016-02-23 03:57:19|           u trippin|      false|56cb681fcd03c9af2...|         |           u trippin|           u trippin|        [u, trippin]|          null|       null|     null|  null|  unclassified|        0|\n",
            "|  179833|  942891|         payment|2015-05-13 05:23:41|            Za foodZ|      false|55527d6d1a3b58730...|         |            Za foodZ|            za foodz|         [za, foodz]|          Food|      foodz|     null|  null|          Food|        0|\n",
            "|  179833|  942891|         payment|2015-05-13 05:23:41|            Za foodZ|      false|55527d6d1a3b58730...|         |            Za foodZ|            za foodz|         [za, foodz]|          Food|         za|     null|  null|          Food|        0|\n",
            "| 8894083| 2400080|         payment|2016-04-01 00:28:19|  OUTSIDE LANDS 2k16|      false|56fd5e33cd03c9af2...|         |  OUTSIDE LANDS 2k16|  outside lands 2k16|[outside, lands, ...|          null|       null|     null|  null|  unclassified|        0|\n",
            "|  411633| 4172797|          charge|2016-08-02 02:30:22|           Groceries|      false|579fa34e23e064eac...|         |           Groceries|           groceries|         [groceries]|          Food|  groceries|     null|  null|          Food|        0|\n",
            "|  303413| 3245733|          charge|2016-01-17 02:31:25|               Chick|      false|569a8c7dcd03c9af2...|         |               Chick|               chick|             [chick]|          Food|      chick|     null|  null|          Food|        0|\n",
            "| 1158024| 3438972|         payment|2015-08-17 09:11:48|👯🍦🍪🍩 getting ...|      false|55d142e42b64f704e...| 👯🍦🍪🍩| getting cookie d...| getting cookie d...|[, getting, cooki...|          Food|     cookie|     Food|    🍦|          Food|        0|\n",
            "| 1158024| 3438972|         payment|2015-08-17 09:11:48|👯🍦🍪🍩 getting ...|      false|55d142e42b64f704e...| 👯🍦🍪🍩| getting cookie d...| getting cookie d...|[, getting, cooki...|          Food|     cookie|     Food|    🍩|          Food|        0|\n",
            "| 1158024| 3438972|         payment|2015-08-17 09:11:48|👯🍦🍪🍩 getting ...|      false|55d142e42b64f704e...| 👯🍦🍪🍩| getting cookie d...| getting cookie d...|[, getting, cooki...|          Food|     cookie|     Food|    🍪|          Food|        0|\n",
            "| 1158024| 3438972|         payment|2015-08-17 09:11:48|👯🍦🍪🍩 getting ...|      false|55d142e42b64f704e...| 👯🍦🍪🍩| getting cookie d...| getting cookie d...|[, getting, cooki...|          Food|     cookie|   People|    👯|          Food|        0|\n",
            "| 6638728| 8528091|         payment|2016-02-23 10:26:27|      Parade day🍻🍻|      false|56cbc353cd03c9af2...|     🍻🍻|          Parade day|          parade day|       [parade, day]|      Activity|        day|     Food|    🍻|      Activity|        0|\n",
            "| 3204155| 4470067|         payment|2016-08-18 22:56:42|Extra cuz i love you|      false|57b5daba23e064eac...|         |Extra cuz i love you|extra cuz i love you|[extra, cuz, i, l...|        People|       love|     null|  null|        People|        0|\n",
            "| 3204155| 4470067|         payment|2016-08-18 22:56:42|Extra cuz i love you|      false|57b5daba23e064eac...|         |Extra cuz i love you|extra cuz i love you|[extra, cuz, i, l...|          Cash|      extra|     null|  null|          Cash|        0|\n",
            "| 7104084| 7006896|         payment|2015-12-09 05:15:04|                Food|      false|56674858cd03c9af2...|         |                Food|                food|              [food]|          Food|       food|     null|  null|          Food|        0|\n",
            "| 2674970| 3691801|         payment|2015-06-19 06:05:46|               Foodz|      false|55834ecb7b9372746...|         |               Foodz|               foodz|             [foodz]|          Food|      foodz|     null|  null|          Food|        0|\n",
            "| 6523579| 1323619|         payment|2016-07-04 11:16:16|             Ran old|      false|5779e31023e064eac...|         |             Ran old|             ran old|          [ran, old]|          null|       null|     null|  null|  unclassified|        0|\n",
            "| 3413708| 1589735|          charge|2015-02-05 08:02:14|          Trash bill|      false|54d2b30791bd05aa9...|         |          Trash bill|          trash bill|       [trash, bill]|       Utility|       bill|     null|  null|       Utility|        0|\n",
            "| 3413708| 1589735|          charge|2015-02-05 08:02:14|          Trash bill|      false|54d2b30791bd05aa9...|         |          Trash bill|          trash bill|       [trash, bill]|       Utility|      trash|     null|  null|       Utility|        0|\n",
            "|11339258| 1655285|          charge|2016-09-23 00:14:44|        October wifi|      false|57e4118423e064eac...|         |        October wifi|        october wifi|     [october, wifi]|       Utility|       wifi|     null|  null|       Utility|        0|\n",
            "| 4226498| 4708480|         payment|2016-04-18 01:21:10|                  🍺|      false|5713d416cd03c9af2...|       🍺|                    |                    |                  []|          null|       null|     Food|    🍺|          Food|        1|\n",
            "|  230898|  731601|         payment|2016-07-01 00:58:39|Reverse engineeri...|      false|57755dcf23e064eac...|         |Reverse engineeri...|reverse engineeri...|[reverse, enginee...|          null|       null|     null|  null|  unclassified|        0|\n",
            "|  279563|  767893|         payment|2015-05-27 07:17:22|                Time|      false|55650d12d4aeb63c2...|         |                Time|                time|              [time]|          null|       null|     null|  null|  unclassified|        0|\n",
            "| 3562883| 7420992|         payment|2016-09-29 00:16:21|     Daddy's wealthy|      false|57ebfae523e064eac...|         |     Daddy's wealthy|     daddy's wealthy|  [daddy's, wealthy]|          null|       null|     null|  null|  unclassified|        0|\n",
            "| 6471126|10046265|          charge|2016-05-18 08:00:50|   Butterfinger mklk|      false|573bbec2cd03c9af2...|         |   Butterfinger mklk|   butterfinger mklk|[butterfinger, mklk]|          null|       null|     null|  null|  unclassified|        0|\n",
            "| 1189870|  313842|         payment|2015-04-19 14:50:10|               Drink|      false|55335e32ca817957f...|         |               Drink|               drink|             [drink]|          Food|      drink|     null|  null|          Food|        0|\n",
            "| 2418629| 1597426|         payment|2016-05-31 01:49:16|   Add it to the tab|      false|574c8b2ccd03c9af2...|         |   Add it to the tab|   add it to the tab|[add, it, to, the...|          Food|        tab|     null|  null|          Food|        0|\n",
            "| 2536930| 3989960|          charge|2015-06-01 08:52:22|Chipotle mouthgas...|      false|556bbad6b651bb1cf...|       😛| Chipotle mouthgasm | chipotle mouthgasm |[chipotle, mouthg...|          Food|   chipotle|   People|    😛|          Food|        0|\n",
            "|  265062|  257022|          charge|2015-04-23 19:49:39|Death Star episod...|      false|5538ea63efb06d213...|         |Death Star episod...|death star episod...|[death, star, epi...|IllegalSarcasm|      death|     null|  null|IllegalSarcasm|        0|\n",
            "| 3371047| 4735051|         payment|2015-06-23 03:41:08|                   $|      false|558872e51a3b58178...|         |                   $|                   $|                 [$]|          null|       null|     null|  null|  unclassified|        0|\n",
            "| 1641294| 2421135|         payment|2015-04-21 13:16:12|              🎉🎉🎉|      false|5535eb2c07f81c6d5...|   🎉🎉🎉|                    |                    |                  []|          null|       null| Activity|    🎉|      Activity|        1|\n",
            "| 4892258| 5697557|         payment|2016-04-30 03:25:17|🍕 Mary had a lit...|      false|5723c32dcd03c9af2...|       🍕| Mary had a littl...| mary had a littl...|[, mary, had, a, ...|          Food|       lamb|     Food|    🍕|          Food|        0|\n",
            "| 1814561| 4158566|         payment|2016-03-14 05:35:53|                  🕶|      false|56e5eb49cd03c9af2...|       🕶|                    |                    |                  []|          null|       null|   People|    🕶|        People|        1|\n",
            "| 3118787| 3259892|         payment|2015-06-24 22:52:07|               Bills|      false|558ad227d4aeb62b4...|         |               Bills|               bills|             [bills]|       Utility|      bills|     null|  null|       Utility|        0|\n",
            "|  314599|  654014|         payment|2014-02-01 05:06:38|              Square|      false|52ec1060c62cecac3...|         |              Square|              square|            [square]|          null|       null|     null|  null|  unclassified|        0|\n",
            "| 2705822| 3748522|          charge|2015-04-24 08:52:32|  Date night 3😍😍😍|      false|5539a1e0e85574138...|   😍😍😍|        Date night 3|        date night 3|    [date, night, 3]|      Activity|      night|     null|  null|      Activity|        0|\n",
            "| 2705822| 3748522|          charge|2015-04-24 08:52:32|  Date night 3😍😍😍|      false|5539a1e0e85574138...|   😍😍😍|        Date night 3|        date night 3|    [date, night, 3]|      Activity|       date|     null|  null|      Activity|        0|\n",
            "+--------+--------+----------------+-------------------+--------------------+-----------+--------------------+---------+--------------------+--------------------+--------------------+--------------+-----------+---------+------+--------------+---------+\n",
            "only showing top 50 rows\n",
            "\n"
          ]
        }
      ]
    },
    {
      "cell_type": "markdown",
      "source": [
        "### Percent of emoji only transactions"
      ],
      "metadata": {
        "id": "t-2W1tBUNRBZ"
      }
    },
    {
      "cell_type": "code",
      "source": [
        "import pyspark.sql.functions as F\n",
        "\n",
        "# Calculate the count of emojionly values\n",
        "emojionly_count = joined_df.select(F.col(\"emojionly\")).groupBy(F.col(\"emojionly\")).agg(F.count(F.col(\"emojionly\")).alias(\"Count_emojionly\"))\n",
        "\n",
        "# Calculate the total count\n",
        "total_count = joined_df.count()\n",
        "\n",
        "# Calculate the percentage\n",
        "emojionly_percentage = emojionly_count.withColumn(\"Percentage\", (F.col(\"Count_emojionly\") / total_count) * 100)\n",
        "\n",
        "# Show the result\n",
        "emojionly_percentage.show()\n",
        "\n",
        "#+---------+---------------+------------------+\n",
        "#|emojionly|Count_emojionly|        Percentage|\n",
        "#+---------+---------------+------------------+\n",
        "#|        1|         256023|29.054266451351523|\n",
        "#|        0|         625166| 70.94573354864848|\n",
        "#+---------+---------------+------------------+\n"
      ],
      "metadata": {
        "colab": {
          "base_uri": "https://localhost:8080/"
        },
        "id": "dDXPHAi7NRpQ",
        "outputId": "fdfbe6d7-602d-4c04-928b-6218d4318a70"
      },
      "execution_count": null,
      "outputs": [
        {
          "output_type": "stream",
          "name": "stdout",
          "text": [
            "+---------+---------------+------------------+\n",
            "|emojionly|Count_emojionly|        Percentage|\n",
            "+---------+---------------+------------------+\n",
            "|        1|         256023|29.054266451351523|\n",
            "|        0|         625166| 70.94573354864848|\n",
            "+---------+---------------+------------------+\n",
            "\n"
          ]
        }
      ]
    },
    {
      "cell_type": "markdown",
      "source": [
        "### Top 5 most popular emoji"
      ],
      "metadata": {
        "id": "5uZ4qhktNa1H"
      }
    },
    {
      "cell_type": "code",
      "source": [
        "import pyspark.sql.functions as F\n",
        "\n",
        "# Filter out null values in value2 column\n",
        "filtered_df = joined_df.filter(F.col(\"value2\").isNotNull())\n",
        "\n",
        "# Group by emoji value and count occurrences\n",
        "emoji_counts = filtered_df.groupBy(\"value2\").count()\n",
        "\n",
        "# Sort the counts in descending order\n",
        "sorted_emoji_counts = emoji_counts.orderBy(F.desc(\"count\"))\n",
        "\n",
        "# Select the top 5 emojis\n",
        "top_5_emojis = sorted_emoji_counts.select(\"value2\", \"count\").limit(5)\n",
        "\n",
        "# Show the top 5 emojis\n",
        "top_5_emojis.show()\n"
      ],
      "metadata": {
        "colab": {
          "base_uri": "https://localhost:8080/"
        },
        "id": "zUDWEUIKNbfW",
        "outputId": "10032845-9898-442f-f42d-0d6c9f054866"
      },
      "execution_count": null,
      "outputs": [
        {
          "output_type": "stream",
          "name": "stdout",
          "text": [
            "+------+-----+\n",
            "|value2|count|\n",
            "+------+-----+\n",
            "|    🍕|10969|\n",
            "|    🍻|10815|\n",
            "|    🎉| 8006|\n",
            "|    🍷| 7286|\n",
            "|    🍺| 6446|\n",
            "+------+-----+\n",
            "\n"
          ]
        }
      ]
    },
    {
      "cell_type": "markdown",
      "source": [
        "### Top 3 popular emoji Categories"
      ],
      "metadata": {
        "id": "Hgc-YHWENfUU"
      }
    },
    {
      "cell_type": "code",
      "source": [
        "import pyspark.sql.functions as F\n",
        "\n",
        "# Filter out null values in value2 column\n",
        "filtered_df = joined_df.filter(F.col(\"category2\").isNotNull())\n",
        "\n",
        "# Group by emoji value and count occurrences\n",
        "emoji_counts = filtered_df.groupBy(\"category2\").count()\n",
        "\n",
        "# Sort the counts in descending order\n",
        "sorted_emoji_counts = emoji_counts.orderBy(F.desc(\"count\"))\n",
        "\n",
        "top_3_emojis_cat = sorted_emoji_counts.select(\"category2\", \"count\").limit(3)\n",
        "\n",
        "top_3_emojis_cat.show()"
      ],
      "metadata": {
        "colab": {
          "base_uri": "https://localhost:8080/"
        },
        "id": "oNANqm_xNepH",
        "outputId": "b225d339-8b2a-41a0-ef6e-1e60b487d02f"
      },
      "execution_count": null,
      "outputs": [
        {
          "output_type": "stream",
          "name": "stdout",
          "text": [
            "+---------+------+\n",
            "|category2| count|\n",
            "+---------+------+\n",
            "|     Food|124945|\n",
            "|   People| 78673|\n",
            "| Activity| 33728|\n",
            "+---------+------+\n",
            "\n"
          ]
        }
      ]
    },
    {
      "cell_type": "markdown",
      "source": [
        "###  Variables to Categorise Spending Bhavior Profile\n",
        "For example, if a user has made 10 transactions, where 5 of them are food and the other 5 are activity, then the user’s spending profile will be 50% food and 50% activity."
      ],
      "metadata": {
        "id": "aJo8kxwBNmgP"
      }
    },
    {
      "cell_type": "code",
      "source": [
        "from pyspark.sql.functions import when, col\n",
        "\n",
        "\n",
        "joined_df = joined_df.withColumn(\"food\", when((col(\"category\") == \"Food\") | (col(\"category2\") == \"Food\"), 1).otherwise(0))\n",
        "joined_df = joined_df.withColumn(\"people\", when((col(\"category\") == \"People\") | (col(\"category2\") == \"People\"), 1).otherwise(0))\n",
        "joined_df = joined_df.withColumn(\"event\", when((col(\"category\") == \"Event\") | (col(\"category2\") == \"Event\"), 1).otherwise(0))\n",
        "joined_df = joined_df.withColumn(\"activity\", when((col(\"category\") == \"Activity\") | (col(\"category2\") == \"Activity\"), 1).otherwise(0))\n",
        "joined_df = joined_df.withColumn(\"travel\", when((col(\"category\") == \"Travel\") | (col(\"category2\") == \"Travel\"), 1).otherwise(0))\n",
        "joined_df = joined_df.withColumn(\"transportation\", when((col(\"category\") == \"Transportation\") | (col(\"category2\") == \"Transportation\"), 1).otherwise(0))\n",
        "joined_df = joined_df.withColumn(\"utility\", when((col(\"category\") == \"Utility\") | (col(\"category2\") == \"Utility\"), 1).otherwise(0))\n",
        "joined_df = joined_df.withColumn(\"cash\", when((col(\"category\") == \"Cash\") | (col(\"category2\") == \"Cash\"), 1).otherwise(0))\n",
        "joined_df = joined_df.withColumn(\"illegalSarcasm\", when((col(\"category\") == \"IllegalSarcasm\") | (col(\"category2\") == \"IllegalSarcasm\"), 1).otherwise(0))\n",
        "\n",
        "joined_df.show()"
      ],
      "metadata": {
        "colab": {
          "base_uri": "https://localhost:8080/"
        },
        "id": "txSRVeQ1Nnb8",
        "outputId": "33b39645-6b4c-4022-dc85-998a82822fd9"
      },
      "execution_count": null,
      "outputs": [
        {
          "output_type": "stream",
          "name": "stdout",
          "text": [
            "+-------+-------+----------------+-------------------+--------------------+-----------+--------------------+---------+--------------------+--------------------+--------------------+--------------+-----------+---------+------+--------------+---------+----+------+-----+--------+------+--------------+-------+----+--------------+\n",
            "|  user1|  user2|transaction_type|           datetime|         description|is_business|            story_id|   emojis|           text_only|     text_only_lower|              tokens|      category|      value|category2|value2|category_class|emojionly|food|people|event|activity|travel|transportation|utility|cash|illegalSarcasm|\n",
            "+-------+-------+----------------+-------------------+--------------------+-----------+--------------------+---------+--------------------+--------------------+--------------------+--------------+-----------+---------+------+--------------+---------+----+------+-----+--------+------+--------------+-------+----+--------------+\n",
            "| 730075| 804466|         payment|2016-05-26 04:46:45|                Food|      false|57461d46cd03c9af2...|         |                Food|                food|              [food]|          Food|       food|     null|  null|          Food|        0|   1|     0|    0|       0|     0|             0|      0|   0|             0|\n",
            "|4682257|1870271|         payment|2016-02-24 09:14:12|     🔮 gypsy things|      false|56cd03e4cd03c9af2...|       🔮|        gypsy things|        gypsy things|   [, gypsy, things]|          null|       null|     null|  null|  unclassified|        0|   0|     0|    0|       0|     0|             0|      0|   0|             0|\n",
            "| 241386|2580543|         payment|2015-05-17 06:00:19|           Furniture|      false|5557cc0407f81c33e...|         |           Furniture|           furniture|         [furniture]|       Utility|  furniture|     null|  null|       Utility|        0|   0|     0|    0|       0|     0|             0|      1|   0|             0|\n",
            "|3393501|1791591|         payment|2015-03-14 00:24:53|           Bleachers|      false|55031d67cd03c9af2...|         |           Bleachers|           bleachers|         [bleachers]|          null|       null|     null|  null|  unclassified|        0|   0|     0|    0|       0|     0|             0|      0|   0|             0|\n",
            "|1864528| 437516|         payment|2015-12-07 00:51:11|The decline of we...|      false|5664677fcd03c9af2...|         |The decline of we...|the decline of we...|[the, decline, of...|          null|       null|     null|  null|  unclassified|        0|   0|     0|    0|       0|     0|             0|      0|   0|             0|\n",
            "|5670003| 618376|         payment|2016-07-17 03:50:26|              Crepes|      false|578a9e1223e064eac...|         |              Crepes|              crepes|            [crepes]|          null|       null|     null|  null|  unclassified|        0|   0|     0|    0|       0|     0|             0|      0|   0|             0|\n",
            "| 884214|1386238|         payment|2016-04-03 23:50:03|          ☕️🍴🍰🍳🎂|      false|570149bbcd03c9af2...|☕🍴🍰🍳🎂|                   ️|                   ️|                 [️]|          null|       null|    Event|    🎂|         Event|        1|   0|     0|    1|       0|     0|             0|      0|   0|             0|\n",
            "| 884214|1386238|         payment|2016-04-03 23:50:03|          ☕️🍴🍰🍳🎂|      false|570149bbcd03c9af2...|☕🍴🍰🍳🎂|                   ️|                   ️|                 [️]|          null|       null|     Food|    🍳|          Food|        1|   1|     0|    0|       0|     0|             0|      0|   0|             0|\n",
            "| 884214|1386238|         payment|2016-04-03 23:50:03|          ☕️🍴🍰🍳🎂|      false|570149bbcd03c9af2...|☕🍴🍰🍳🎂|                   ️|                   ️|                 [️]|          null|       null|     Food|    🍰|          Food|        1|   1|     0|    0|       0|     0|             0|      0|   0|             0|\n",
            "| 884214|1386238|         payment|2016-04-03 23:50:03|          ☕️🍴🍰🍳🎂|      false|570149bbcd03c9af2...|☕🍴🍰🍳🎂|                   ️|                   ️|                 [️]|          null|       null|     Food|     ☕|          Food|        1|   1|     0|    0|       0|     0|             0|      0|   0|             0|\n",
            "| 884214|1386238|         payment|2016-04-03 23:50:03|          ☕️🍴🍰🍳🎂|      false|570149bbcd03c9af2...|☕🍴🍰🍳🎂|                   ️|                   ️|                 [️]|          null|       null|     Food|    🍴|          Food|        1|   1|     0|    0|       0|     0|             0|      0|   0|             0|\n",
            "|1168366| 735212|         payment|2014-08-18 22:51:21|Shipping and hand...|      false|53f220fa7d0b0354e...|         |Shipping and hand...|shipping and hand...|[shipping, and, h...|Transportation|   shipping|     null|  null|Transportation|        0|   0|     0|    0|       0|     0|             1|      0|   0|             0|\n",
            "|1751344|2105340|          charge|2015-05-29 05:17:51|    5/27 drycleaning|      false|5567940fe85574434...|         |    5/27 drycleaning|    5/27 drycleaning| [5/27, drycleaning]|       Utility|drycleaning|     null|  null|       Utility|        0|   0|     0|    0|       0|     0|             0|      1|   0|             0|\n",
            "|3658258|3655859|          charge|2015-08-28 09:48:26|              Closet|      false|55dfcbfacd03c9af2...|         |              Closet|              closet|            [closet]|          null|       null|     null|  null|  unclassified|        0|   0|     0|    0|       0|     0|             0|      0|   0|             0|\n",
            "|4828390|4461134|         payment|2016-02-23 03:57:19|           u trippin|      false|56cb681fcd03c9af2...|         |           u trippin|           u trippin|        [u, trippin]|          null|       null|     null|  null|  unclassified|        0|   0|     0|    0|       0|     0|             0|      0|   0|             0|\n",
            "| 179833| 942891|         payment|2015-05-13 05:23:41|            Za foodZ|      false|55527d6d1a3b58730...|         |            Za foodZ|            za foodz|         [za, foodz]|          Food|      foodz|     null|  null|          Food|        0|   1|     0|    0|       0|     0|             0|      0|   0|             0|\n",
            "| 179833| 942891|         payment|2015-05-13 05:23:41|            Za foodZ|      false|55527d6d1a3b58730...|         |            Za foodZ|            za foodz|         [za, foodz]|          Food|         za|     null|  null|          Food|        0|   1|     0|    0|       0|     0|             0|      0|   0|             0|\n",
            "|8894083|2400080|         payment|2016-04-01 00:28:19|  OUTSIDE LANDS 2k16|      false|56fd5e33cd03c9af2...|         |  OUTSIDE LANDS 2k16|  outside lands 2k16|[outside, lands, ...|          null|       null|     null|  null|  unclassified|        0|   0|     0|    0|       0|     0|             0|      0|   0|             0|\n",
            "| 411633|4172797|          charge|2016-08-02 02:30:22|           Groceries|      false|579fa34e23e064eac...|         |           Groceries|           groceries|         [groceries]|          Food|  groceries|     null|  null|          Food|        0|   1|     0|    0|       0|     0|             0|      0|   0|             0|\n",
            "| 303413|3245733|          charge|2016-01-17 02:31:25|               Chick|      false|569a8c7dcd03c9af2...|         |               Chick|               chick|             [chick]|          Food|      chick|     null|  null|          Food|        0|   1|     0|    0|       0|     0|             0|      0|   0|             0|\n",
            "+-------+-------+----------------+-------------------+--------------------+-----------+--------------------+---------+--------------------+--------------------+--------------------+--------------+-----------+---------+------+--------------+---------+----+------+-----+--------+------+--------------+-------+----+--------------+\n",
            "only showing top 20 rows\n",
            "\n"
          ]
        }
      ]
    },
    {
      "cell_type": "code",
      "source": [
        "selected_joined_df = joined_df.select(\"user1\", \"food\", \"people\", \"event\", \"activity\", \"travel\", \"transportation\", \"utility\", \"cash\", \"illegalSarcasm\")\n",
        "selected_joined_df.show()"
      ],
      "metadata": {
        "colab": {
          "base_uri": "https://localhost:8080/"
        },
        "id": "xhEVt2i7Nrd1",
        "outputId": "4bc5f2ea-e044-4c49-bba0-8e6c9dd0ceeb"
      },
      "execution_count": null,
      "outputs": [
        {
          "output_type": "stream",
          "name": "stdout",
          "text": [
            "+-------+----+------+-----+--------+------+--------------+-------+----+--------------+\n",
            "|  user1|food|people|event|activity|travel|transportation|utility|cash|illegalSarcasm|\n",
            "+-------+----+------+-----+--------+------+--------------+-------+----+--------------+\n",
            "| 730075|   1|     0|    0|       0|     0|             0|      0|   0|             0|\n",
            "|4682257|   0|     0|    0|       0|     0|             0|      0|   0|             0|\n",
            "| 241386|   0|     0|    0|       0|     0|             0|      1|   0|             0|\n",
            "|3393501|   0|     0|    0|       0|     0|             0|      0|   0|             0|\n",
            "|1864528|   0|     0|    0|       0|     0|             0|      0|   0|             0|\n",
            "|5670003|   0|     0|    0|       0|     0|             0|      0|   0|             0|\n",
            "| 884214|   0|     0|    1|       0|     0|             0|      0|   0|             0|\n",
            "| 884214|   1|     0|    0|       0|     0|             0|      0|   0|             0|\n",
            "| 884214|   1|     0|    0|       0|     0|             0|      0|   0|             0|\n",
            "| 884214|   1|     0|    0|       0|     0|             0|      0|   0|             0|\n",
            "| 884214|   1|     0|    0|       0|     0|             0|      0|   0|             0|\n",
            "|1168366|   0|     0|    0|       0|     0|             1|      0|   0|             0|\n",
            "|1751344|   0|     0|    0|       0|     0|             0|      1|   0|             0|\n",
            "|3658258|   0|     0|    0|       0|     0|             0|      0|   0|             0|\n",
            "|4828390|   0|     0|    0|       0|     0|             0|      0|   0|             0|\n",
            "| 179833|   1|     0|    0|       0|     0|             0|      0|   0|             0|\n",
            "| 179833|   1|     0|    0|       0|     0|             0|      0|   0|             0|\n",
            "|8894083|   0|     0|    0|       0|     0|             0|      0|   0|             0|\n",
            "| 411633|   1|     0|    0|       0|     0|             0|      0|   0|             0|\n",
            "| 303413|   1|     0|    0|       0|     0|             0|      0|   0|             0|\n",
            "+-------+----+------+-----+--------+------+--------------+-------+----+--------------+\n",
            "only showing top 20 rows\n",
            "\n"
          ]
        }
      ]
    },
    {
      "cell_type": "code",
      "source": [
        "from pyspark.sql import functions as F\n",
        "\n",
        "# Define the columns to sum\n",
        "columns_to_sum = ['people', 'food', 'event', 'activity', 'travel', 'transportation', 'utility', 'cash', 'illegalSarcasm']\n",
        "\n",
        "# Group by 'user1' and sum the remaining columns\n",
        "summed_df = selected_joined_df.groupBy('user1').agg(\n",
        "    *[F.sum(col_name).alias(f\"total_{col_name}\") for col_name in columns_to_sum]\n",
        ")\n",
        "\n",
        "# Show the resulting DataFrame\n",
        "summed_df.show()"
      ],
      "metadata": {
        "colab": {
          "base_uri": "https://localhost:8080/"
        },
        "id": "5mcxplmBNtoB",
        "outputId": "12598955-0130-405b-a643-42dedb500e57"
      },
      "execution_count": null,
      "outputs": [
        {
          "output_type": "stream",
          "name": "stdout",
          "text": [
            "+-------+------------+----------+-----------+--------------+------------+--------------------+-------------+----------+--------------------+\n",
            "|  user1|total_people|total_food|total_event|total_activity|total_travel|total_transportation|total_utility|total_cash|total_illegalSarcasm|\n",
            "+-------+------------+----------+-----------+--------------+------------+--------------------+-------------+----------+--------------------+\n",
            "|3809372|           0|         0|          0|             0|           0|                   0|            1|         0|                   0|\n",
            "|1862793|           0|         0|          0|             0|           0|                   0|            0|         0|                   1|\n",
            "|4445675|          10|         0|          0|             1|           0|                   5|            0|         0|                   5|\n",
            "|7466454|           1|         0|          0|             0|           0|                   0|            0|         0|                   0|\n",
            "| 835106|           0|         0|          0|             0|           0|                   0|            0|         0|                   0|\n",
            "| 883701|           0|         0|          0|             0|           0|                   0|            0|         0|                   0|\n",
            "|1755286|           2|         0|          0|             1|           0|                   0|            1|         0|                   0|\n",
            "| 243356|           0|         0|          0|             2|           0|                   0|            0|         0|                   0|\n",
            "|5638543|           0|         0|          0|             0|           0|                   0|            0|         0|                   0|\n",
            "|4513456|           0|         0|          0|             2|           0|                   0|            1|         0|                   0|\n",
            "|1367193|           0|         0|          0|             0|           0|                   0|            0|         0|                   0|\n",
            "| 445633|           1|         2|          0|             0|           0|                   2|            0|         0|                   0|\n",
            "|1509497|           0|         0|          0|             0|           0|                   0|            0|         0|                   0|\n",
            "|2986702|           0|         0|          0|             0|           0|                   0|            1|         0|                   0|\n",
            "|2524607|           0|         0|          0|             0|           0|                   0|            0|         0|                   0|\n",
            "|1739972|           0|         0|          0|             0|           0|                   0|            0|         0|                   0|\n",
            "|5601528|           0|         0|          0|             1|           0|                   0|            0|         0|                   0|\n",
            "| 187647|           0|         0|          0|             1|           0|                   0|            1|         0|                   0|\n",
            "|1446447|           0|         0|          0|             0|           0|                   1|            0|         0|                   0|\n",
            "|6860733|           0|         0|          0|             0|           0|                   0|            0|         0|                   0|\n",
            "+-------+------------+----------+-----------+--------------+------------+--------------------+-------------+----------+--------------------+\n",
            "only showing top 20 rows\n",
            "\n"
          ]
        }
      ]
    },
    {
      "cell_type": "code",
      "source": [
        "# Reshaping the data:\n",
        "from pyspark.sql.functions import array, col, explode, lit, struct\n",
        "from pyspark.sql import DataFrame\n",
        "from typing import Iterable\n",
        "\n",
        "\n",
        "# Reshaping the data:\n",
        "def melt(\n",
        "        df: DataFrame,\n",
        "        id_vars: Iterable[str], value_vars: Iterable[str],\n",
        "        var_name: str=\"variable\", value_name: str=\"value\") -> DataFrame:\n",
        "    \"\"\"Convert :class:`DataFrame` from wide to long format.\"\"\"\n",
        "\n",
        "    # Create array<struct<variable: str, value: ...>>\n",
        "    _vars_and_vals = array(*(\n",
        "        struct(lit(c).alias(var_name), col(c).alias(value_name))\n",
        "        for c in value_vars))\n",
        "\n",
        "    # Add to the DataFrame and explode\n",
        "    _tmp = df.withColumn(\"_vars_and_vals\", explode(_vars_and_vals))\n",
        "\n",
        "    cols = id_vars + [\n",
        "            col(\"_vars_and_vals\")[x].alias(x) for x in [var_name, value_name]]\n",
        "    return _tmp.select(*cols)"
      ],
      "metadata": {
        "id": "_L_SKRvANvxM"
      },
      "execution_count": null,
      "outputs": []
    },
    {
      "cell_type": "code",
      "source": [
        "melt(summed_df, id_vars=['user1'],\n",
        "            value_vars=['total_people', 'total_food', 'total_event', 'total_activity', 'total_travel', 'total_transportation', 'total_utility', 'total_cash', 'total_illegalSarcasm']).show()"
      ],
      "metadata": {
        "colab": {
          "base_uri": "https://localhost:8080/"
        },
        "id": "6xDN7wJeNyU0",
        "outputId": "84188585-df2a-4adb-fb07-f3cbf44686b5"
      },
      "execution_count": null,
      "outputs": [
        {
          "output_type": "stream",
          "name": "stdout",
          "text": [
            "+-------+--------------------+-----+\n",
            "|  user1|            variable|value|\n",
            "+-------+--------------------+-----+\n",
            "|3809372|        total_people|    0|\n",
            "|3809372|          total_food|    0|\n",
            "|3809372|         total_event|    0|\n",
            "|3809372|      total_activity|    0|\n",
            "|3809372|        total_travel|    0|\n",
            "|3809372|total_transportation|    0|\n",
            "|3809372|       total_utility|    1|\n",
            "|3809372|          total_cash|    0|\n",
            "|3809372|total_illegalSarcasm|    0|\n",
            "|1862793|        total_people|    0|\n",
            "|1862793|          total_food|    0|\n",
            "|1862793|         total_event|    0|\n",
            "|1862793|      total_activity|    0|\n",
            "|1862793|        total_travel|    0|\n",
            "|1862793|total_transportation|    0|\n",
            "|1862793|       total_utility|    0|\n",
            "|1862793|          total_cash|    0|\n",
            "|1862793|total_illegalSarcasm|    1|\n",
            "|4445675|        total_people|   10|\n",
            "|4445675|          total_food|    0|\n",
            "+-------+--------------------+-----+\n",
            "only showing top 20 rows\n",
            "\n"
          ]
        }
      ]
    },
    {
      "cell_type": "code",
      "source": [
        "user_melt_df = melt(summed_df, id_vars=['user1'],\n",
        "            value_vars=['total_people', 'total_food', 'total_event', 'total_activity', 'total_travel', 'total_transportation', 'total_utility', 'total_cash', 'total_illegalSarcasm'])"
      ],
      "metadata": {
        "id": "4nvLn2JBN0p3"
      },
      "execution_count": null,
      "outputs": []
    },
    {
      "cell_type": "code",
      "source": [
        "from pyspark.sql import SparkSession\n",
        "from pyspark.sql.functions import sum, col, when\n",
        "\n",
        "# Create a Spark session\n",
        "spark = SparkSession.builder.getOrCreate()\n",
        "\n",
        "# Calculate the total for each user1 and variable\n",
        "total_df = user_melt_df.groupby(\"user1\", \"variable\").agg(sum(\"value\").alias(\"total\"))\n",
        "\n",
        "# Join the total_df back to the user_melt_df\n",
        "joined_df2 = user_melt_df.join(total_df, [\"user1\", \"variable\"], \"left\")\n",
        "\n",
        "# Replace null values with 0\n",
        "joined_df2 = joined_df2.fillna(0, subset=[\"total\"])\n",
        "\n",
        "# Calculate the percentage column\n",
        "percentage_df = joined_df2.withColumn(\"percentage\", when(col(\"total\") == 0, 0).otherwise(col(\"value\") / col(\"total\") * 100))\n",
        "\n",
        "# Sort by user1\n",
        "sorted_df = percentage_df.orderBy(col(\"user1\").desc())\n",
        "\n",
        "# Show the resulting DataFrame\n",
        "sorted_df.show(50)"
      ],
      "metadata": {
        "colab": {
          "base_uri": "https://localhost:8080/"
        },
        "id": "x2Hz8ygHN2nJ",
        "outputId": "c4e9737a-efac-4a3d-b2a1-4f6b3ddd77bf"
      },
      "execution_count": null,
      "outputs": [
        {
          "output_type": "stream",
          "name": "stdout",
          "text": [
            "+--------+--------------------+-----+-----+----------+\n",
            "|   user1|            variable|value|total|percentage|\n",
            "+--------+--------------------+-----+-----+----------+\n",
            "|15930503|         total_event|    0|    0|       0.0|\n",
            "|15930503|      total_activity|    0|    0|       0.0|\n",
            "|15930503|total_illegalSarcasm|    0|    0|       0.0|\n",
            "|15930503|          total_cash|    0|    0|       0.0|\n",
            "|15930503|        total_people|    0|    0|       0.0|\n",
            "|15930503|          total_food|    0|    0|       0.0|\n",
            "|15930503|       total_utility|    0|    0|       0.0|\n",
            "|15930503|total_transportation|    0|    0|       0.0|\n",
            "|15930503|        total_travel|    0|    0|       0.0|\n",
            "|15908361|          total_cash|    0|    0|       0.0|\n",
            "|15908361|      total_activity|    0|    0|       0.0|\n",
            "|15908361|          total_food|    0|    0|       0.0|\n",
            "|15908361|         total_event|    1|    1|     100.0|\n",
            "|15908361|total_illegalSarcasm|    0|    0|       0.0|\n",
            "|15908361|        total_people|    0|    0|       0.0|\n",
            "|15908361|       total_utility|    0|    0|       0.0|\n",
            "|15908361|total_transportation|    0|    0|       0.0|\n",
            "|15908361|        total_travel|    0|    0|       0.0|\n",
            "|15900347|          total_food|    0|    0|       0.0|\n",
            "|15900347|      total_activity|    0|    0|       0.0|\n",
            "|15900347|total_illegalSarcasm|    0|    0|       0.0|\n",
            "|15900347|          total_cash|    0|    0|       0.0|\n",
            "|15900347|        total_people|    0|    0|       0.0|\n",
            "|15900347|         total_event|    0|    0|       0.0|\n",
            "|15900347|        total_travel|    0|    0|       0.0|\n",
            "|15900347|total_transportation|    0|    0|       0.0|\n",
            "|15900347|       total_utility|    0|    0|       0.0|\n",
            "|15841342|         total_event|    0|    0|       0.0|\n",
            "|15841342|      total_activity|    0|    0|       0.0|\n",
            "|15841342|        total_people|    0|    0|       0.0|\n",
            "|15841342|          total_cash|    0|    0|       0.0|\n",
            "|15841342|        total_travel|    0|    0|       0.0|\n",
            "|15841342|          total_food|    0|    0|       0.0|\n",
            "|15841342|total_illegalSarcasm|    0|    0|       0.0|\n",
            "|15841342|total_transportation|    0|    0|       0.0|\n",
            "|15841342|       total_utility|    0|    0|       0.0|\n",
            "|15792645|         total_event|    0|    0|       0.0|\n",
            "|15792645|          total_cash|    0|    0|       0.0|\n",
            "|15792645|      total_activity|    1|    1|     100.0|\n",
            "|15792645|total_transportation|    0|    0|       0.0|\n",
            "|15792645|          total_food|    0|    0|       0.0|\n",
            "|15792645|total_illegalSarcasm|    0|    0|       0.0|\n",
            "|15792645|        total_people|    0|    0|       0.0|\n",
            "|15792645|        total_travel|    0|    0|       0.0|\n",
            "|15792645|       total_utility|    0|    0|       0.0|\n",
            "|15786828|      total_activity|    0|    0|       0.0|\n",
            "|15786828|          total_cash|    0|    0|       0.0|\n",
            "|15786828|        total_people|    0|    0|       0.0|\n",
            "|15786828|         total_event|    0|    0|       0.0|\n",
            "|15786828|        total_travel|    0|    0|       0.0|\n",
            "+--------+--------------------+-----+-----+----------+\n",
            "only showing top 50 rows\n",
            "\n"
          ]
        }
      ]
    },
    {
      "cell_type": "markdown",
      "source": [
        "### Dynamic Spending Profile.\n",
        "\n",
        "Let’s explore how a user’s spending profile is evolving over her lifetime in Venmo."
      ],
      "metadata": {
        "id": "vZI40Xx6N5Qc"
      }
    },
    {
      "cell_type": "code",
      "source": [
        "joined_df.show()"
      ],
      "metadata": {
        "colab": {
          "base_uri": "https://localhost:8080/"
        },
        "id": "p-Ovl81sN5xY",
        "outputId": "953e730a-908e-4db2-85bf-024409c37da0"
      },
      "execution_count": null,
      "outputs": [
        {
          "output_type": "stream",
          "name": "stdout",
          "text": [
            "+-------+-------+----------------+-------------------+--------------------+-----------+--------------------+---------+--------------------+--------------------+--------------------+--------------+-----------+---------+------+--------------+---------+----+------+-----+--------+------+--------------+-------+----+--------------+--------------+\n",
            "|  user1|  user2|transaction_type|           datetime|         description|is_business|            story_id|   emojis|           text_only|     text_only_lower|              tokens|      category|      value|category2|value2|category_class|emojionly|food|people|event|activity|travel|transportation|utility|cash|illegalSarcasm|year_and_month|\n",
            "+-------+-------+----------------+-------------------+--------------------+-----------+--------------------+---------+--------------------+--------------------+--------------------+--------------+-----------+---------+------+--------------+---------+----+------+-----+--------+------+--------------+-------+----+--------------+--------------+\n",
            "| 730075| 804466|         payment|2016-05-26 04:46:45|                Food|      false|57461d46cd03c9af2...|         |                Food|                food|              [food]|          Food|       food|     null|  null|          Food|        0|   1|     0|    0|       0|     0|             0|      0|   0|             0|       2016-05|\n",
            "|4682257|1870271|         payment|2016-02-24 09:14:12|     🔮 gypsy things|      false|56cd03e4cd03c9af2...|       🔮|        gypsy things|        gypsy things|   [, gypsy, things]|          null|       null|     null|  null|  unclassified|        0|   0|     0|    0|       0|     0|             0|      0|   0|             0|       2016-02|\n",
            "| 241386|2580543|         payment|2015-05-17 06:00:19|           Furniture|      false|5557cc0407f81c33e...|         |           Furniture|           furniture|         [furniture]|       Utility|  furniture|     null|  null|       Utility|        0|   0|     0|    0|       0|     0|             0|      1|   0|             0|       2015-05|\n",
            "|3393501|1791591|         payment|2015-03-14 00:24:53|           Bleachers|      false|55031d67cd03c9af2...|         |           Bleachers|           bleachers|         [bleachers]|          null|       null|     null|  null|  unclassified|        0|   0|     0|    0|       0|     0|             0|      0|   0|             0|       2015-03|\n",
            "|1864528| 437516|         payment|2015-12-07 00:51:11|The decline of we...|      false|5664677fcd03c9af2...|         |The decline of we...|the decline of we...|[the, decline, of...|          null|       null|     null|  null|  unclassified|        0|   0|     0|    0|       0|     0|             0|      0|   0|             0|       2015-12|\n",
            "|5670003| 618376|         payment|2016-07-17 03:50:26|              Crepes|      false|578a9e1223e064eac...|         |              Crepes|              crepes|            [crepes]|          null|       null|     null|  null|  unclassified|        0|   0|     0|    0|       0|     0|             0|      0|   0|             0|       2016-07|\n",
            "| 884214|1386238|         payment|2016-04-03 23:50:03|          ☕️🍴🍰🍳🎂|      false|570149bbcd03c9af2...|☕🍴🍰🍳🎂|                   ️|                   ️|                 [️]|          null|       null|    Event|    🎂|         Event|        1|   0|     0|    1|       0|     0|             0|      0|   0|             0|       2016-04|\n",
            "| 884214|1386238|         payment|2016-04-03 23:50:03|          ☕️🍴🍰🍳🎂|      false|570149bbcd03c9af2...|☕🍴🍰🍳🎂|                   ️|                   ️|                 [️]|          null|       null|     Food|    🍳|          Food|        1|   1|     0|    0|       0|     0|             0|      0|   0|             0|       2016-04|\n",
            "| 884214|1386238|         payment|2016-04-03 23:50:03|          ☕️🍴🍰🍳🎂|      false|570149bbcd03c9af2...|☕🍴🍰🍳🎂|                   ️|                   ️|                 [️]|          null|       null|     Food|    🍰|          Food|        1|   1|     0|    0|       0|     0|             0|      0|   0|             0|       2016-04|\n",
            "| 884214|1386238|         payment|2016-04-03 23:50:03|          ☕️🍴🍰🍳🎂|      false|570149bbcd03c9af2...|☕🍴🍰🍳🎂|                   ️|                   ️|                 [️]|          null|       null|     Food|     ☕|          Food|        1|   1|     0|    0|       0|     0|             0|      0|   0|             0|       2016-04|\n",
            "| 884214|1386238|         payment|2016-04-03 23:50:03|          ☕️🍴🍰🍳🎂|      false|570149bbcd03c9af2...|☕🍴🍰🍳🎂|                   ️|                   ️|                 [️]|          null|       null|     Food|    🍴|          Food|        1|   1|     0|    0|       0|     0|             0|      0|   0|             0|       2016-04|\n",
            "|1168366| 735212|         payment|2014-08-18 22:51:21|Shipping and hand...|      false|53f220fa7d0b0354e...|         |Shipping and hand...|shipping and hand...|[shipping, and, h...|Transportation|   shipping|     null|  null|Transportation|        0|   0|     0|    0|       0|     0|             1|      0|   0|             0|       2014-08|\n",
            "|1751344|2105340|          charge|2015-05-29 05:17:51|    5/27 drycleaning|      false|5567940fe85574434...|         |    5/27 drycleaning|    5/27 drycleaning| [5/27, drycleaning]|       Utility|drycleaning|     null|  null|       Utility|        0|   0|     0|    0|       0|     0|             0|      1|   0|             0|       2015-05|\n",
            "|3658258|3655859|          charge|2015-08-28 09:48:26|              Closet|      false|55dfcbfacd03c9af2...|         |              Closet|              closet|            [closet]|          null|       null|     null|  null|  unclassified|        0|   0|     0|    0|       0|     0|             0|      0|   0|             0|       2015-08|\n",
            "|4828390|4461134|         payment|2016-02-23 03:57:19|           u trippin|      false|56cb681fcd03c9af2...|         |           u trippin|           u trippin|        [u, trippin]|          null|       null|     null|  null|  unclassified|        0|   0|     0|    0|       0|     0|             0|      0|   0|             0|       2016-02|\n",
            "| 179833| 942891|         payment|2015-05-13 05:23:41|            Za foodZ|      false|55527d6d1a3b58730...|         |            Za foodZ|            za foodz|         [za, foodz]|          Food|      foodz|     null|  null|          Food|        0|   1|     0|    0|       0|     0|             0|      0|   0|             0|       2015-05|\n",
            "| 179833| 942891|         payment|2015-05-13 05:23:41|            Za foodZ|      false|55527d6d1a3b58730...|         |            Za foodZ|            za foodz|         [za, foodz]|          Food|         za|     null|  null|          Food|        0|   1|     0|    0|       0|     0|             0|      0|   0|             0|       2015-05|\n",
            "|8894083|2400080|         payment|2016-04-01 00:28:19|  OUTSIDE LANDS 2k16|      false|56fd5e33cd03c9af2...|         |  OUTSIDE LANDS 2k16|  outside lands 2k16|[outside, lands, ...|          null|       null|     null|  null|  unclassified|        0|   0|     0|    0|       0|     0|             0|      0|   0|             0|       2016-04|\n",
            "| 411633|4172797|          charge|2016-08-02 02:30:22|           Groceries|      false|579fa34e23e064eac...|         |           Groceries|           groceries|         [groceries]|          Food|  groceries|     null|  null|          Food|        0|   1|     0|    0|       0|     0|             0|      0|   0|             0|       2016-08|\n",
            "| 303413|3245733|          charge|2016-01-17 02:31:25|               Chick|      false|569a8c7dcd03c9af2...|         |               Chick|               chick|             [chick]|          Food|      chick|     null|  null|          Food|        0|   1|     0|    0|       0|     0|             0|      0|   0|             0|       2016-01|\n",
            "+-------+-------+----------------+-------------------+--------------------+-----------+--------------------+---------+--------------------+--------------------+--------------------+--------------+-----------+---------+------+--------------+---------+----+------+-----+--------+------+--------------+-------+----+--------------+--------------+\n",
            "only showing top 20 rows\n",
            "\n"
          ]
        }
      ]
    },
    {
      "cell_type": "code",
      "source": [
        "joined_df = joined_df.withColumn(\"year_and_month\", concat(year(col(\"datetime\")).cast(StringType() ), lit(\"-\"),\n",
        "                                              when(month(col(\"datetime\")) <10,\n",
        "                                                   concat(lit(\"0\"), month(col(\"datetime\")).cast(StringType()))).otherwise(month(col(\"datetime\")).cast(StringType())) ))"
      ],
      "metadata": {
        "id": "pTJrFx7KN8Ti"
      },
      "execution_count": null,
      "outputs": []
    },
    {
      "cell_type": "code",
      "source": [
        "from pyspark.sql.window import Window\n",
        "window_val = (Window.partitionBy('user1','category_class').orderBy('year_and_month')\n",
        "             .rowsBetween(Window.unboundedPreceding, 0))\n",
        "window_totals = (Window.partitionBy('user1','year_and_month')\n",
        "             .rowsBetween(Window.unboundedPreceding, 0))"
      ],
      "metadata": {
        "id": "f-Vx01cfN9rd"
      },
      "execution_count": null,
      "outputs": []
    },
    {
      "cell_type": "code",
      "source": [
        "from pyspark.sql import SparkSession\n",
        "from pyspark.sql.window import Window\n",
        "from pyspark.sql.functions import count, col, sum, row_number\n",
        "\n",
        "# Define the window specification for dynamic calculations\n",
        "window_val = Window.partitionBy('user1', 'year_and_month').orderBy('category_class')\n",
        "window_totals = Window.partitionBy('user1', 'year_and_month')\n",
        "\n",
        "# Calculate the dynamic spending Venmo\n",
        "dynamic = joined_df.filter(col(\"category_class\").isNotNull()).groupBy(\"user1\", \"year_and_month\", \"category_class\") \\\n",
        "    .agg(count(\"category_class\").alias(\"transactions\"))\n",
        "\n",
        "dynamic_spending_venmo = dynamic.withColumn(\"total_transactions_category\", sum(col(\"transactions\")).over(window_val)) \\\n",
        "    .withColumn(\"total_transactions_month\", sum(col(\"transactions\")).over(window_totals \\\n",
        "        .rowsBetween(Window.unboundedPreceding, Window.unboundedFollowing))) \\\n",
        "    .withColumn(\"dynamic_percentage\", 100 * (col(\"transactions\") / col(\"total_transactions_month\"))) \\\n",
        "    .withColumn(\"month_count\", dense_rank().over(Window.partitionBy(\"user1\").orderBy(col(\"year_and_month\").desc())) - 1)\n",
        "\n",
        "# Show the resulting DataFrame\n",
        "dynamic_spending_venmo_filtered = dynamic_spending_venmo.filter((col(\"month_count\") >= 0) & (col(\"month_count\") <= 12))\n",
        "dynamic_spending_venmo_filtered.orderBy(col(\"month_count\").desc()).show(70)"
      ],
      "metadata": {
        "colab": {
          "base_uri": "https://localhost:8080/"
        },
        "id": "MnR9q0ZlOCi_",
        "outputId": "412eafb2-cc41-4473-c006-7d691f7105d2"
      },
      "execution_count": null,
      "outputs": [
        {
          "output_type": "stream",
          "name": "stdout",
          "text": [
            "+-------+--------------+--------------+------------+---------------------------+------------------------+------------------+-----------+\n",
            "|  user1|year_and_month|category_class|transactions|total_transactions_category|total_transactions_month|dynamic_percentage|month_count|\n",
            "+-------+--------------+--------------+------------+---------------------------+------------------------+------------------+-----------+\n",
            "| 820531|       2015-11|      Activity|           5|                          5|                      10|              50.0|         12|\n",
            "| 820531|       2015-11|       Utility|           5|                         10|                      10|              50.0|         12|\n",
            "| 148281|       2013-09|          Food|           1|                          1|                       1|             100.0|         11|\n",
            "| 820531|       2015-12|      Activity|           6|                          6|                      12|              50.0|         11|\n",
            "| 820531|       2015-12|       Utility|           6|                         12|                      12|              50.0|         11|\n",
            "| 148281|       2014-06|  unclassified|           1|                          1|                       1|             100.0|         10|\n",
            "| 820531|       2016-01|      Activity|           7|                          7|                      14|              50.0|         10|\n",
            "| 476852|       2014-01|  unclassified|           1|                          1|                       1|             100.0|         10|\n",
            "| 820531|       2016-01|       Utility|           7|                         14|                      14|              50.0|         10|\n",
            "|1246259|       2014-12|          Food|           1|                          1|                       1|             100.0|         10|\n",
            "|1489625|       2014-11|  unclassified|           1|                          1|                       1|             100.0|         10|\n",
            "|  77138|       2012-10|  unclassified|           1|                          1|                       1|             100.0|          9|\n",
            "| 148281|       2014-09|  unclassified|           1|                          1|                       1|             100.0|          9|\n",
            "| 610084|       2014-03|          Food|           1|                          1|                       1|             100.0|          9|\n",
            "| 476852|       2014-04|          Food|           1|                          1|                       1|             100.0|          9|\n",
            "| 820531|       2016-02|      Activity|           6|                          6|                      12|              50.0|          9|\n",
            "|1246259|       2015-02|  unclassified|           1|                          1|                       1|             100.0|          9|\n",
            "| 820531|       2016-02|       Utility|           6|                         12|                      12|              50.0|          9|\n",
            "|1489625|       2015-03|  unclassified|           1|                          1|                       1|             100.0|          9|\n",
            "|4188588|       2015-11|          Cash|           1|                          1|                       1|             100.0|          9|\n",
            "| 148281|       2014-10|      Activity|           2|                          2|                       3| 66.66666666666666|          8|\n",
            "| 125369|       2014-10|  unclassified|           1|                          1|                       1|             100.0|          8|\n",
            "| 148281|       2014-10|  unclassified|           1|                          3|                       3| 33.33333333333333|          8|\n",
            "|  77138|       2012-11|      Activity|           1|                          1|                       2|              50.0|          8|\n",
            "| 175908|       2013-07|          Food|           1|                          1|                       2|              50.0|          8|\n",
            "|  77138|       2012-11|       Utility|           1|                          2|                       2|              50.0|          8|\n",
            "| 175908|       2013-07|       Utility|           1|                          2|                       2|              50.0|          8|\n",
            "| 257334|       2013-04|        People|           1|                          1|                       1|             100.0|          8|\n",
            "| 317427|       2013-10|      Activity|           1|                          1|                       2|              50.0|          8|\n",
            "| 266819|       2013-10|       Utility|           2|                          2|                       2|             100.0|          8|\n",
            "| 317427|       2013-10|          Food|           1|                          2|                       2|              50.0|          8|\n",
            "| 590439|       2014-09|Transportation|           1|                          1|                       1|             100.0|          8|\n",
            "| 339157|       2013-07|       Utility|           1|                          1|                       1|             100.0|          8|\n",
            "| 610084|       2014-05|       Utility|           1|                          1|                       2|              50.0|          8|\n",
            "| 402321|       2014-03|Transportation|           1|                          1|                       1|             100.0|          8|\n",
            "| 610084|       2014-05|  unclassified|           1|                          2|                       2|              50.0|          8|\n",
            "| 424506|       2014-03|          Food|           1|                          1|                       2|              50.0|          8|\n",
            "| 614730|       2014-03|          Food|           1|                          1|                       2|              50.0|          8|\n",
            "| 424506|       2014-03|        People|           1|                          2|                       2|              50.0|          8|\n",
            "| 614730|       2014-03|Transportation|           1|                          2|                       2|              50.0|          8|\n",
            "| 476852|       2014-05|       Utility|           1|                          1|                       1|             100.0|          8|\n",
            "| 820531|       2016-03|      Activity|           8|                          8|                      16|              50.0|          8|\n",
            "|1246259|       2015-03|      Activity|           1|                          1|                       2|              50.0|          8|\n",
            "| 820531|       2016-03|       Utility|           8|                         16|                      16|              50.0|          8|\n",
            "|1246259|       2015-03|          Food|           1|                          2|                       2|              50.0|          8|\n",
            "|2242328|       2014-10|      Activity|           1|                          1|                       2|              50.0|          8|\n",
            "|1333850|       2014-11|  unclassified|           1|                          1|                       1|             100.0|          8|\n",
            "|2242328|       2014-10|        People|           1|                          2|                       2|              50.0|          8|\n",
            "|1489625|       2015-05|  unclassified|           2|                          2|                       2|             100.0|          8|\n",
            "|4188588|       2016-01|          Cash|           2|                          2|                       2|             100.0|          8|\n",
            "| 283863|       2014-01|  unclassified|           1|                          1|                       1|             100.0|          7|\n",
            "| 249401|       2013-09|  unclassified|           1|                          1|                       1|             100.0|          7|\n",
            "| 148281|       2014-12|  unclassified|           1|                          1|                       1|             100.0|          7|\n",
            "| 125369|       2014-12|      Activity|           1|                          1|                       1|             100.0|          7|\n",
            "| 163866|       2014-05|  unclassified|           1|                          1|                       1|             100.0|          7|\n",
            "| 141885|       2013-04|  unclassified|           1|                          1|                       1|             100.0|          7|\n",
            "| 175908|       2013-10|  unclassified|           1|                          1|                       1|             100.0|          7|\n",
            "| 150496|       2013-05|Transportation|           1|                          1|                       1|             100.0|          7|\n",
            "| 180413|       2013-04|  unclassified|           1|                          1|                       1|             100.0|          7|\n",
            "| 152261|       2013-11|  unclassified|           1|                          1|                       1|             100.0|          7|\n",
            "| 190215|       2014-03|          Food|           1|                          1|                       1|             100.0|          7|\n",
            "| 180412|       2014-01|          Food|           2|                          2|                       2|             100.0|          7|\n",
            "| 271099|       2014-02|  unclassified|           1|                          1|                       1|             100.0|          7|\n",
            "| 190382|       2012-12|        Travel|           1|                          1|                       1|             100.0|          7|\n",
            "| 317427|       2013-12|  unclassified|           1|                          1|                       1|             100.0|          7|\n",
            "| 244876|       2014-02|  unclassified|           1|                          1|                       1|             100.0|          7|\n",
            "| 339157|       2013-11|         Event|           1|                          1|                       3| 33.33333333333333|          7|\n",
            "| 165455|       2013-02|  unclassified|           1|                          1|                       1|             100.0|          7|\n",
            "| 339157|       2013-11|          Food|           1|                          2|                       3| 33.33333333333333|          7|\n",
            "| 257334|       2013-06|Transportation|           1|                          1|                       1|             100.0|          7|\n",
            "+-------+--------------+--------------+------------+---------------------------+------------------------+------------------+-----------+\n",
            "only showing top 70 rows\n",
            "\n"
          ]
        }
      ]
    },
    {
      "cell_type": "code",
      "source": [
        "dynamic_spending_venmo_filtered2 = dynamic_spending_venmo_filtered.select(\"user1\",\"category_class\",\"dynamic_percentage\",\"month_count\")"
      ],
      "metadata": {
        "id": "uRkFhsRHdKOz"
      },
      "execution_count": null,
      "outputs": []
    },
    {
      "cell_type": "code",
      "source": [
        "dynamic_spending_venmo_filtered2.show()"
      ],
      "metadata": {
        "colab": {
          "base_uri": "https://localhost:8080/"
        },
        "id": "cwl6uBMgfOoT",
        "outputId": "12cd5cfc-9e4d-4785-ad70-64bdcf85160c"
      },
      "execution_count": null,
      "outputs": [
        {
          "output_type": "stream",
          "name": "stdout",
          "text": [
            "+-----+--------------+------------------+-----------+\n",
            "|user1|category_class|dynamic_percentage|month_count|\n",
            "+-----+--------------+------------------+-----------+\n",
            "|    3|       Utility|             100.0|          0|\n",
            "|   13|  unclassified|             100.0|          0|\n",
            "|   19|      Activity|             100.0|          0|\n",
            "|   43|  unclassified|             100.0|          1|\n",
            "|   43|          Food|             100.0|          0|\n",
            "|   52|          Food|             100.0|          0|\n",
            "|  112|  unclassified|             100.0|          0|\n",
            "|  164|  unclassified|             100.0|          0|\n",
            "|  243|       Utility|             100.0|          0|\n",
            "|  347|          Food|             100.0|          0|\n",
            "|  747|Transportation|             100.0|          3|\n",
            "|  747|Transportation|             100.0|          2|\n",
            "|  747|          Food|             100.0|          1|\n",
            "|  747|          Cash|              50.0|          0|\n",
            "|  747|       Utility|              50.0|          0|\n",
            "|  830|        People|              25.0|          0|\n",
            "|  830|          Food|              75.0|          0|\n",
            "|  879|        People|             100.0|          0|\n",
            "|  906|  unclassified|             100.0|          0|\n",
            "| 1255|          Food|             100.0|          0|\n",
            "+-----+--------------+------------------+-----------+\n",
            "only showing top 20 rows\n",
            "\n"
          ]
        }
      ]
    },
    {
      "cell_type": "code",
      "source": [
        "joined_df.show()"
      ],
      "metadata": {
        "colab": {
          "base_uri": "https://localhost:8080/"
        },
        "id": "Lp85Im38Tqh0",
        "outputId": "eaebc92a-8986-435b-d545-cff06f0de425"
      },
      "execution_count": null,
      "outputs": [
        {
          "output_type": "stream",
          "name": "stdout",
          "text": [
            "+-----+-------+----------------+-------------------+--------------------+-----------+--------------------+--------+--------------------+--------------------+--------------------+--------------+---------+---------+------+--------------+---------+----+------+-----+--------+------+--------------+-------+----+--------------+--------------+-----+----------------------+------------------+\n",
            "|user1|  user2|transaction_type|           datetime|         description|is_business|            story_id|  emojis|           text_only|     text_only_lower|              tokens|      category|    value|category2|value2|category_class|emojionly|food|people|event|activity|travel|transportation|utility|cash|illegalSarcasm|year_and_month|month|first_transaction_date|months_since_first|\n",
            "+-----+-------+----------------+-------------------+--------------------+-----------+--------------------+--------+--------------------+--------------------+--------------------+--------------+---------+---------+------+--------------+---------+----+------+-----+--------+------+--------------+-------+----+--------------+--------------+-----+----------------------+------------------+\n",
            "|    3|7854140|         payment|2016-10-09 03:36:13|Check out this re...|      false|57f958bd23e064eac...|        |Check out this re...|check out this re...|[check, out, this...|       Utility|    check|     null|  null|       Utility|        0|   0|     0|    0|       0|     0|             0|      1|   0|             0|       2016-10|   10|   2016-10-09 03:36:13|                 0|\n",
            "|   13|1941801|          charge|2014-10-16 22:04:27|Starfinder Winter...|      false|543fde7b7d0b0354e...|        |Starfinder Winter...|starfinder winter...|[starfinder, wint...|          null|     null|     null|  null|  unclassified|        0|   0|     0|    0|       0|     0|             0|      0|   0|             0|       2014-10|   10|   2014-10-16 22:04:27|                 0|\n",
            "|   19|  85471|         payment|2014-03-17 21:43:39|                Pool|      false|53270a1bb19abafe2...|        |                Pool|                pool|              [pool]|      Activity|     pool|     null|  null|      Activity|        0|   0|     0|    0|       1|     0|             0|      0|   0|             0|       2014-03|    3|   2014-03-17 21:43:39|                 0|\n",
            "|   43|  49778|         payment|2013-01-08 09:39:09|          ☔ & swords|      false|50eb798d25ee44b9a...|       ☔|            & swords|            & swords|       [, &, swords]|          null|     null|     null|  null|  unclassified|        0|   0|     0|    0|       0|     0|             0|      0|   0|             0|       2013-01|    1|   2013-01-08 09:39:09|                 0|\n",
            "|   52|    225|         payment|2012-08-06 20:48:32|    Curiosity coffee|      false|501fcb30c5b30a098...|        |    Curiosity coffee|    curiosity coffee| [curiosity, coffee]|          Food|   coffee|     null|  null|          Food|        0|   1|     0|    0|       0|     0|             0|      0|   0|             0|       2012-08|    8|   2012-08-06 20:48:32|                 0|\n",
            "|  112|     12|         payment|2015-11-05 02:39:29|for microwave rep...|      false|563a50e1cd03c9af2...|        |for microwave rep...|for microwave rep...|[for, microwave, ...|          null|     null|     null|  null|  unclassified|        0|   0|     0|    0|       0|     0|             0|      0|   0|             0|       2015-11|   11|   2015-11-05 02:39:29|                 0|\n",
            "|  164| 486473|         payment|2016-03-13 10:48:28|              Effies|      false|56e4d4fccd03c9af2...|        |              Effies|              effies|            [effies]|          null|     null|     null|  null|  unclassified|        0|   0|     0|    0|       0|     0|             0|      0|   0|             0|       2016-03|    3|   2016-03-13 10:48:28|                 0|\n",
            "|  243|      9|          charge|2012-12-28 08:52:01|                Maid|      false|50dcedeb25ee44b9a...|        |                Maid|                maid|              [maid]|       Utility|     maid|     null|  null|       Utility|        0|   0|     0|    0|       0|     0|             0|      1|   0|             0|       2012-12|   12|   2012-12-28 08:52:01|                 0|\n",
            "|  347|2131067|         payment|2015-05-11 10:54:34|Uncle Ben's Rice ...|      false|555027fad4aeb646b...|        |Uncle Ben's Rice ...|uncle ben's rice ...|[uncle, ben's, ri...|          Food|     rice|     null|  null|          Food|        0|   1|     0|    0|       0|     0|             0|      0|   0|             0|       2015-05|    5|   2015-05-11 10:54:34|                 0|\n",
            "|  747| 158173|          charge|2013-12-24 10:31:05|                 Cab|      false|52b8f1e9d56b6bac5...|        |                 Cab|                 cab|               [cab]|Transportation|      cab|     null|  null|Transportation|        0|   0|     0|    0|       0|     0|             1|      0|   0|             0|       2013-12|   12|   2013-03-18 21:38:39|                 9|\n",
            "|  747|   1009|          charge|2013-03-18 21:38:39|   Taxi oh dangggggg|      false|5147285325ee44b9a...|        |   Taxi oh dangggggg|   taxi oh dangggggg|[taxi, oh, danggg...|Transportation|     taxi|     null|  null|Transportation|        0|   0|     0|    0|       0|     0|             1|      0|   0|             0|       2013-03|    3|   2013-03-18 21:38:39|                 0|\n",
            "|  830|1291070|         payment|2015-12-13 12:28:09|        PDT 😆🍟🍸🍾|      false|566cf3dacd03c9af2...|😆🍟🍸🍾|                PDT |                pdt |               [pdt]|          null|     null|   People|    😆|        People|        1|   0|     1|    0|       0|     0|             0|      0|   0|             0|       2015-12|   12|   2015-12-13 12:28:09|                 0|\n",
            "|  830|1291070|         payment|2015-12-13 12:28:09|        PDT 😆🍟🍸🍾|      false|566cf3dacd03c9af2...|😆🍟🍸🍾|                PDT |                pdt |               [pdt]|          null|     null|     Food|    🍟|          Food|        1|   1|     0|    0|       0|     0|             0|      0|   0|             0|       2015-12|   12|   2015-12-13 12:28:09|                 0|\n",
            "|  830|1291070|         payment|2015-12-13 12:28:09|        PDT 😆🍟🍸🍾|      false|566cf3dacd03c9af2...|😆🍟🍸🍾|                PDT |                pdt |               [pdt]|          null|     null|     Food|    🍾|          Food|        1|   1|     0|    0|       0|     0|             0|      0|   0|             0|       2015-12|   12|   2015-12-13 12:28:09|                 0|\n",
            "|  830|1291070|         payment|2015-12-13 12:28:09|        PDT 😆🍟🍸🍾|      false|566cf3dacd03c9af2...|😆🍟🍸🍾|                PDT |                pdt |               [pdt]|          null|     null|     Food|    🍸|          Food|        1|   1|     0|    0|       0|     0|             0|      0|   0|             0|       2015-12|   12|   2015-12-13 12:28:09|                 0|\n",
            "|  879|  44731|         payment|2013-07-12 03:42:27|for swindling the...|      false|51df155f7de518fa3...|        |for swindling the...|for swindling the...|[for, swindling, ...|        People|      guy|     null|  null|        People|        0|   0|     1|    0|       0|     0|             0|      0|   0|             0|       2013-07|    7|   2013-07-12 03:42:27|                 0|\n",
            "|  906| 126820|         payment|2013-11-29 14:17:08|              Tx! :)|      false|52983164d56b6bac5...|        |              Tx! :)|              tx! :)|           [tx!, :)]|          null|     null|     null|  null|  unclassified|        0|   0|     0|    0|       0|     0|             0|      0|   0|             0|       2013-11|   11|   2013-11-29 14:17:08|                 0|\n",
            "| 1255|5935714|         payment|2015-12-18 01:58:06|  Chocolate extreme!|      false|5672f7aecd03c9af2...|        |  Chocolate extreme!|  chocolate extreme!|[chocolate, extre...|          Food|chocolate|     null|  null|          Food|        0|   1|     0|    0|       0|     0|             0|      0|   0|             0|       2015-12|   12|   2015-12-18 01:58:06|                 0|\n",
            "| 1632| 791046|         payment|2016-03-09 00:29:45|Flowers in Houn's...|      false|56defdf9cd03c9af2...|      😭|Flowers in Houn's...|flowers in houn's...|[flowers, in, hou...|IllegalSarcasm|      rip|   People|    😭|IllegalSarcasm|        0|   0|     1|    0|       0|     0|             0|      0|   0|             1|       2016-03|    3|   2016-03-09 00:29:45|                 0|\n",
            "| 1636|   1722|         payment|2013-05-22 13:36:44|       Food and beer|      false|519c696825ee44b9a...|        |       Food and beer|       food and beer|   [food, and, beer]|          Food|     food|     null|  null|          Food|        0|   1|     0|    0|       0|     0|             0|      0|   0|             0|       2013-05|    5|   2013-05-22 13:36:44|                 0|\n",
            "+-----+-------+----------------+-------------------+--------------------+-----------+--------------------+--------+--------------------+--------------------+--------------------+--------------+---------+---------+------+--------------+---------+----+------+-----+--------+------+--------------+-------+----+--------------+--------------+-----+----------------------+------------------+\n",
            "only showing top 20 rows\n",
            "\n"
          ]
        }
      ]
    },
    {
      "cell_type": "code",
      "source": [
        "plot_df = joined_df.select(\"user1\", \"category_class\",  \"datetime\")\n",
        "\n",
        "plot_df.show()"
      ],
      "metadata": {
        "colab": {
          "base_uri": "https://localhost:8080/"
        },
        "id": "wXbe9WkNSoBB",
        "outputId": "29e190d0-582f-4f38-f78d-329260fabd70"
      },
      "execution_count": null,
      "outputs": [
        {
          "output_type": "stream",
          "name": "stdout",
          "text": [
            "+-----+--------------+-------------------+\n",
            "|user1|category_class|           datetime|\n",
            "+-----+--------------+-------------------+\n",
            "|    3|       Utility|2016-10-09 03:36:13|\n",
            "|   13|  unclassified|2014-10-16 22:04:27|\n",
            "|   19|      Activity|2014-03-17 21:43:39|\n",
            "|   43|  unclassified|2013-01-08 09:39:09|\n",
            "|   52|          Food|2012-08-06 20:48:32|\n",
            "|  112|  unclassified|2015-11-05 02:39:29|\n",
            "|  164|  unclassified|2016-03-13 10:48:28|\n",
            "|  243|       Utility|2012-12-28 08:52:01|\n",
            "|  347|          Food|2015-05-11 10:54:34|\n",
            "|  747|Transportation|2013-12-24 10:31:05|\n",
            "|  747|Transportation|2013-03-18 21:38:39|\n",
            "|  830|        People|2015-12-13 12:28:09|\n",
            "|  830|          Food|2015-12-13 12:28:09|\n",
            "|  830|          Food|2015-12-13 12:28:09|\n",
            "|  830|          Food|2015-12-13 12:28:09|\n",
            "|  879|        People|2013-07-12 03:42:27|\n",
            "|  906|  unclassified|2013-11-29 14:17:08|\n",
            "| 1255|          Food|2015-12-18 01:58:06|\n",
            "| 1632|IllegalSarcasm|2016-03-09 00:29:45|\n",
            "| 1636|          Food|2013-05-22 13:36:44|\n",
            "+-----+--------------+-------------------+\n",
            "only showing top 20 rows\n",
            "\n"
          ]
        }
      ]
    },
    {
      "cell_type": "code",
      "source": [
        "from pyspark.sql.window import Window\n",
        "from pyspark.sql.functions import col, when, datediff, min\n",
        "\n",
        "plot_df = plot_df.withColumn(\n",
        "    \"first_day\", min(\"datetime\").over(Window.partitionBy(\"user\"))\n",
        ").withColumn(\n",
        "    \"life_point\",\n",
        "    when(col(\"datetime\") == col(\"first_day\"), 0)\n",
        "    .when(datediff(col(\"datetime\"), col(\"first_day\")) <= 30, 1)\n",
        "    .when(datediff(col(\"datetime\"), col(\"first_day\")) <= 60, 2)\n",
        "    .when(datediff(col(\"datetime\"), col(\"first_day\")) <= 90, 3)\n",
        "    .when(datediff(col(\"datetime\"), col(\"first_day\")) <= 120, 4)\n",
        "    .when(datediff(col(\"datetime\"), col(\"first_day\")) <= 150, 5)\n",
        "    .when(datediff(col(\"datetime\"), col(\"first_day\")) <= 180, 6)\n",
        "    .when(datediff(col(\"datetime\"), col(\"first_day\")) <= 210, 7)\n",
        "    .when(datediff(col(\"datetime\"), col(\"first_day\")) <= 240, 8)\n",
        "    .when(datediff(col(\"datetime\"), col(\"first_day\")) <= 270, 9)\n",
        "    .when(datediff(col(\"datetime\"), col(\"first_day\")) <= 300, 10)\n",
        "    .when(datediff(col(\"datetime\"), col(\"first_day\")) <= 330, 11)\n",
        "    .when(datediff(col(\"datetime\"), col(\"first_day\")) <= 360, 12)\n",
        ")\n",
        "\n",
        "plot_df = plot_df.filter(col(\"life_point\") <= 12)\n",
        "\n",
        "plot_df.show(50)\n"
      ],
      "metadata": {
        "colab": {
          "base_uri": "https://localhost:8080/"
        },
        "id": "e-BqbVq0TbZ2",
        "outputId": "e984e6df-a95e-4b57-e783-79bfe0a9ce4c"
      },
      "execution_count": null,
      "outputs": [
        {
          "output_type": "stream",
          "name": "stdout",
          "text": [
            "+-----+--------------+-------------------+-------------------+----------+\n",
            "|user1|category_class|           datetime|          first_day|life_point|\n",
            "+-----+--------------+-------------------+-------------------+----------+\n",
            "|   43|  unclassified|2013-01-08 09:39:09|2012-04-12 11:40:34|        10|\n",
            "|   52|          Food|2012-08-06 20:48:32|2012-04-12 11:40:34|         4|\n",
            "|  243|       Utility|2012-12-28 08:52:01|2012-04-12 11:40:34|         9|\n",
            "|  747|Transportation|2013-03-18 21:38:39|2012-04-12 11:40:34|        12|\n",
            "| 2391|  unclassified|2013-01-23 09:16:42|2012-04-12 11:40:34|        10|\n",
            "| 2721|  unclassified|2012-05-26 00:52:22|2012-04-12 11:40:34|         2|\n",
            "| 2794|          Food|2012-07-01 09:08:55|2012-04-12 11:40:34|         3|\n",
            "| 2794|        Travel|2012-04-29 23:29:52|2012-04-12 11:40:34|         1|\n",
            "| 2794|          Food|2012-04-29 23:29:52|2012-04-12 11:40:34|         1|\n",
            "| 3310|       Utility|2013-03-04 11:48:39|2012-04-12 11:40:34|        11|\n",
            "| 3664|          Food|2012-06-04 23:42:59|2012-04-12 11:40:34|         2|\n",
            "| 3664|          Food|2012-06-04 23:42:59|2012-04-12 11:40:34|         2|\n",
            "| 4262|  unclassified|2012-10-12 06:16:42|2012-04-12 11:40:34|         7|\n",
            "| 5066|IllegalSarcasm|2013-04-04 00:27:30|2012-04-12 11:40:34|        12|\n",
            "| 6329|          Food|2013-01-03 04:05:27|2012-04-12 11:40:34|         9|\n",
            "| 6612|       Utility|2012-12-16 04:04:45|2012-04-12 11:40:34|         9|\n",
            "| 6612|       Utility|2012-12-16 04:04:45|2012-04-12 11:40:34|         9|\n",
            "|25535|          Food|2012-11-18 16:28:00|2012-04-12 11:40:34|         8|\n",
            "|25535|          Food|2012-10-14 07:09:06|2012-04-12 11:40:34|         7|\n",
            "|26384|  unclassified|2012-12-24 07:46:31|2012-04-12 11:40:34|         9|\n",
            "|29894|  unclassified|2013-03-09 07:30:36|2012-04-12 11:40:34|        12|\n",
            "|30139|       Utility|2012-10-26 07:12:24|2012-04-12 11:40:34|         7|\n",
            "|31249|  unclassified|2013-01-01 08:51:05|2012-04-12 11:40:34|         9|\n",
            "|33383|          Food|2013-02-11 06:45:36|2012-04-12 11:40:34|        11|\n",
            "|33764|  unclassified|2012-06-23 10:25:12|2012-04-12 11:40:34|         3|\n",
            "|34084|          Food|2012-07-29 22:42:21|2012-04-12 11:40:34|         4|\n",
            "|34336|  unclassified|2012-04-24 06:12:54|2012-04-12 11:40:34|         1|\n",
            "|35635|  unclassified|2012-12-29 16:30:57|2012-04-12 11:40:34|         9|\n",
            "|36491|IllegalSarcasm|2012-06-30 06:28:12|2012-04-12 11:40:34|         3|\n",
            "|36667|  unclassified|2013-01-21 01:04:11|2012-04-12 11:40:34|        10|\n",
            "|36712|        People|2012-09-08 04:44:30|2012-04-12 11:40:34|         5|\n",
            "|36712|          Food|2012-09-08 04:44:30|2012-04-12 11:40:34|         5|\n",
            "|37289|       Utility|2013-03-23 09:22:37|2012-04-12 11:40:34|        12|\n",
            "|37818|       Utility|2012-06-01 18:57:16|2012-04-12 11:40:34|         2|\n",
            "|38864|  unclassified|2013-02-21 00:02:57|2012-04-12 11:40:34|        11|\n",
            "|39108|  unclassified|2013-04-01 02:59:41|2012-04-12 11:40:34|        12|\n",
            "|39582|          Food|2013-01-05 10:49:37|2012-04-12 11:40:34|         9|\n",
            "|39678|  unclassified|2012-10-11 07:30:22|2012-04-12 11:40:34|         7|\n",
            "|39867|       Utility|2012-11-04 06:14:06|2012-04-12 11:40:34|         7|\n",
            "|39867|      Activity|2012-11-04 06:14:06|2012-04-12 11:40:34|         7|\n",
            "|39867|          Cash|2012-11-04 06:14:06|2012-04-12 11:40:34|         7|\n",
            "|41680|  unclassified|2012-05-18 03:45:28|2012-04-12 11:40:34|         2|\n",
            "|42928|      Activity|2012-10-12 09:15:12|2012-04-12 11:40:34|         7|\n",
            "|43040|  unclassified|2012-11-04 10:35:48|2012-04-12 11:40:34|         7|\n",
            "|43277|  unclassified|2012-05-07 06:34:34|2012-04-12 11:40:34|         1|\n",
            "|43994|  unclassified|2012-12-24 08:10:51|2012-04-12 11:40:34|         9|\n",
            "|44669|  unclassified|2013-01-07 11:13:06|2012-04-12 11:40:34|         9|\n",
            "|45957|          Food|2012-10-22 04:11:03|2012-04-12 11:40:34|         7|\n",
            "|46041|IllegalSarcasm|2012-11-09 13:17:38|2012-04-12 11:40:34|         8|\n",
            "|46372|  unclassified|2012-05-27 08:21:03|2012-04-12 11:40:34|         2|\n",
            "+-----+--------------+-------------------+-------------------+----------+\n",
            "only showing top 50 rows\n",
            "\n"
          ]
        }
      ]
    },
    {
      "cell_type": "code",
      "source": [
        "from pyspark.sql.functions import sum, when, col\n",
        "\n",
        "classification_by_time = plot_df.groupBy(col(\"user1\").alias(\"user1\"), \"life_point\").agg(\n",
        "    (sum(when(col(\"category_class\") == \"Activity\", 1).otherwise(0)) /\n",
        "    sum(when(col(\"category_class\") != \"unclassified\", 1).otherwise(0))).alias(\"count_activity\"),\n",
        "\n",
        "    (sum(when(col(\"category_class\") == \"Food\", 1).otherwise(0)) /\n",
        "    sum(when(col(\"category_class\") != \"unclassified\", 1).otherwise(0))).alias(\"count_food\"),\n",
        "\n",
        "    (sum(when(col(\"category_class\") == \"People\", 1).otherwise(0)) /\n",
        "    sum(when(col(\"category_class\") != \"unclassified\", 1).otherwise(0))).alias(\"count_people\"),\n",
        "\n",
        "    (sum(when(col(\"category_class\") == \"Event\", 1).otherwise(0)) /\n",
        "    sum(when(col(\"category_class\") != \"unclassified\", 1).otherwise(0))).alias(\"count_event\"),\n",
        "\n",
        "    (sum(when(col(\"category_class\") == \"Travel\", 1).otherwise(0)) /\n",
        "    sum(when(col(\"category_class\") != \"unclassified\", 1).otherwise(0))).alias(\"count_travel\"),\n",
        "\n",
        "    (sum(when(col(\"category_class\") == \"Transportation\", 1).otherwise(0)) /\n",
        "    sum(when(col(\"category_class\") != \"unclassified\", 1).otherwise(0))).alias(\"count_transportation\"),\n",
        "\n",
        "    (sum(when(col(\"category_class\") == \"Utility\", 1).otherwise(0)) /\n",
        "    sum(when(col(\"category_class\") != \"unclassified\", 1).otherwise(0))).alias(\"count_utility\"),\n",
        "\n",
        "    (sum(when(col(\"category_class\") == \"Cash\", 1).otherwise(0)) /\n",
        "    sum(when(col(\"category_class\") != \"unclassified\", 1).otherwise(0))).alias(\"count_cash\"),\n",
        "\n",
        "    (sum(when(col(\"category_class\") == \"IllegalSarcasm\", 1).otherwise(0)) /\n",
        "    sum(when(col(\"category_class\") != \"unclassified\", 1).otherwise(0))).alias(\"count_illegal\")\n",
        ")\n",
        "\n",
        "classification_by_time.show(100)\n"
      ],
      "metadata": {
        "colab": {
          "base_uri": "https://localhost:8080/"
        },
        "id": "ZwOJGd4KUDVS",
        "outputId": "b0003911-a2a5-4551-b358-9505a94a3e68"
      },
      "execution_count": null,
      "outputs": [
        {
          "output_type": "stream",
          "name": "stdout",
          "text": [
            "+------+----------+------------------+------------------+------------+-----------+------------------+--------------------+-------------+------------------+-------------+\n",
            "| user1|life_point|    count_activity|        count_food|count_people|count_event|      count_travel|count_transportation|count_utility|        count_cash|count_illegal|\n",
            "+------+----------+------------------+------------------+------------+-----------+------------------+--------------------+-------------+------------------+-------------+\n",
            "| 86796|        11|              null|              null|        null|       null|              null|                null|         null|              null|         null|\n",
            "|166777|        10|              null|              null|        null|       null|              null|                null|         null|              null|         null|\n",
            "| 29489|         1|              null|              null|        null|       null|              null|                null|         null|              null|         null|\n",
            "|117431|        12|               0.0|               0.0|         0.0|        0.0|               0.0|                 0.0|          1.0|               0.0|          0.0|\n",
            "|130871|         4|               0.0|               0.0|         0.0|        0.0|               0.0|                 0.0|          0.0|               1.0|          0.0|\n",
            "|134892|         7|               0.0|               1.0|         0.0|        0.0|               0.0|                 0.0|          0.0|               0.0|          0.0|\n",
            "| 74053|         3|              null|              null|        null|       null|              null|                null|         null|              null|         null|\n",
            "| 43794|         3|              null|              null|        null|       null|              null|                null|         null|              null|         null|\n",
            "|129624|         5|              null|              null|        null|       null|              null|                null|         null|              null|         null|\n",
            "|246998|        12|               0.0|               0.0|         0.0|        0.0|               0.0|                 0.0|          1.0|               0.0|          0.0|\n",
            "|130048|         8|              null|              null|        null|       null|              null|                null|         null|              null|         null|\n",
            "|141513|         5|               0.0|               0.0|         0.0|        0.0|               0.0|                 1.0|          0.0|               0.0|          0.0|\n",
            "|196931|        10|               0.0|               1.0|         0.0|        0.0|               0.0|                 0.0|          0.0|               0.0|          0.0|\n",
            "|224036|        11|              null|              null|        null|       null|              null|                null|         null|              null|         null|\n",
            "| 73816|        12|               0.0|               1.0|         0.0|        0.0|               0.0|                 0.0|          0.0|               0.0|          0.0|\n",
            "|223643|        11|               0.5|               0.0|         0.0|        0.0|               0.5|                 0.0|          0.0|               0.0|          0.0|\n",
            "|113632|         2|0.3333333333333333|               0.0|         0.0|        0.0|0.6666666666666666|                 0.0|          0.0|               0.0|          0.0|\n",
            "|117886|         4|               0.0|               0.0|         0.0|        0.0|               0.0|                 0.0|          1.0|               0.0|          0.0|\n",
            "|136798|        10|               0.0|               1.0|         0.0|        0.0|               0.0|                 0.0|          0.0|               0.0|          0.0|\n",
            "|139684|        10|              null|              null|        null|       null|              null|                null|         null|              null|         null|\n",
            "|163174|         8|              null|              null|        null|       null|              null|                null|         null|              null|         null|\n",
            "|  6612|         9|               0.0|               0.0|         0.0|        0.0|               0.0|                 0.0|          1.0|               0.0|          0.0|\n",
            "|121590|        10|               0.5|               0.0|         0.0|        0.0|               0.0|                 0.0|          0.0|               0.0|          0.5|\n",
            "|127766|         8|              null|              null|        null|       null|              null|                null|         null|              null|         null|\n",
            "|148680|        11|               0.0|               1.0|         0.0|        0.0|               0.0|                 0.0|          0.0|               0.0|          0.0|\n",
            "| 93445|         3|               0.0|               1.0|         0.0|        0.0|               0.0|                 0.0|          0.0|               0.0|          0.0|\n",
            "|155914|        10|               0.0|               0.0|         0.0|        0.0|               0.0|                 0.0|          1.0|               0.0|          0.0|\n",
            "|175203|         8|              null|              null|        null|       null|              null|                null|         null|              null|         null|\n",
            "| 62066|         2|               0.0|               0.0|         0.0|        0.0|               0.0|                 0.0|          1.0|               0.0|          0.0|\n",
            "| 76355|         6|               1.0|               0.0|         0.0|        0.0|               0.0|                 0.0|          0.0|               0.0|          0.0|\n",
            "|157343|         7|               0.0|               0.0|         0.0|        0.0|               0.0|                 0.0|          1.0|               0.0|          0.0|\n",
            "|170581|        11|               0.0|               0.0|         0.0|        0.0|               0.0|                 0.0|          1.0|               0.0|          0.0|\n",
            "|216900|        11|              null|              null|        null|       null|              null|                null|         null|              null|         null|\n",
            "|177785|        11|               0.0|               0.0|         0.0|        0.0|               0.0|                 0.0|          1.0|               0.0|          0.0|\n",
            "|191310|        12|               0.0|               0.0|         0.0|        0.0|               0.0|                 0.0|          1.0|               0.0|          0.0|\n",
            "|200758|        11|              null|              null|        null|       null|              null|                null|         null|              null|         null|\n",
            "|220382|        11|               0.0|               1.0|         0.0|        0.0|               0.0|                 0.0|          0.0|               0.0|          0.0|\n",
            "|238560|        12|               0.0|               0.0|         0.0|        0.0|               0.0|                 0.0|          1.0|               0.0|          0.0|\n",
            "|142016|         6|              null|              null|        null|       null|              null|                null|         null|              null|         null|\n",
            "|159205|        11|               0.0|               1.0|         0.0|        0.0|               0.0|                 0.0|          0.0|               0.0|          0.0|\n",
            "|180943|        11|              null|              null|        null|       null|              null|                null|         null|              null|         null|\n",
            "|190871|         9|               0.0|               0.0|         0.0|        0.0|               0.0|                 0.0|          1.0|               0.0|          0.0|\n",
            "| 60575|        10|               0.0|               1.0|         0.0|        0.0|               0.0|                 0.0|          0.0|               0.0|          0.0|\n",
            "|174835|        12|              null|              null|        null|       null|              null|                null|         null|              null|         null|\n",
            "|234325|        12|              null|              null|        null|       null|              null|                null|         null|              null|         null|\n",
            "| 70058|        10|               1.0|               0.0|         0.0|        0.0|               0.0|                 0.0|          0.0|               0.0|          0.0|\n",
            "|171577|        11|               0.0|               0.0|         0.0|        0.0|               0.0|                 0.0|          1.0|               0.0|          0.0|\n",
            "| 89442|        10|              null|              null|        null|       null|              null|                null|         null|              null|         null|\n",
            "|118903|        11|               0.0|               0.0|         0.0|        0.0|               0.0|                 0.0|          1.0|               0.0|          0.0|\n",
            "|135444|         6|              null|              null|        null|       null|              null|                null|         null|              null|         null|\n",
            "|147414|         8|               0.0|               1.0|         0.0|        0.0|               0.0|                 0.0|          0.0|               0.0|          0.0|\n",
            "|171594|        12|               0.0|               0.0|         0.0|        0.0|               0.0|                 0.0|          1.0|               0.0|          0.0|\n",
            "|199074|        12|              null|              null|        null|       null|              null|                null|         null|              null|         null|\n",
            "|239525|        12|               0.0|               0.0|         0.0|        0.0|               1.0|                 0.0|          0.0|               0.0|          0.0|\n",
            "|200195|        12|              null|              null|        null|       null|              null|                null|         null|              null|         null|\n",
            "|205915|        10|               0.0|               0.0|         0.0|        0.0|               0.0|                 0.0|          1.0|               0.0|          0.0|\n",
            "|110666|        12|               0.0|               0.0|         0.0|        0.0|               0.0|                 0.0|          1.0|               0.0|          0.0|\n",
            "|112187|         5|               0.0|0.6666666666666666|         0.0|        0.0|               0.0|                 0.0|          0.0|0.3333333333333333|          0.0|\n",
            "| 49304|         9|               0.0|               0.5|         0.5|        0.0|               0.0|                 0.0|          0.0|               0.0|          0.0|\n",
            "|125059|         9|              null|              null|        null|       null|              null|                null|         null|              null|         null|\n",
            "| 89917|         8|              null|              null|        null|       null|              null|                null|         null|              null|         null|\n",
            "|109088|         6|               0.0|               0.0|         0.0|        0.0|               0.0|                 0.0|          1.0|               0.0|          0.0|\n",
            "|175364|        12|               1.0|               0.0|         0.0|        0.0|               0.0|                 0.0|          0.0|               0.0|          0.0|\n",
            "|205046|        12|               0.0|               1.0|         0.0|        0.0|               0.0|                 0.0|          0.0|               0.0|          0.0|\n",
            "|124323|         6|              null|              null|        null|       null|              null|                null|         null|              null|         null|\n",
            "|198716|        10|               0.0|               1.0|         0.0|        0.0|               0.0|                 0.0|          0.0|               0.0|          0.0|\n",
            "| 81315|        12|               0.0|               0.0|         1.0|        0.0|               0.0|                 0.0|          0.0|               0.0|          0.0|\n",
            "|163826|        10|              null|              null|        null|       null|              null|                null|         null|              null|         null|\n",
            "| 43933|        12|               0.0|               1.0|         0.0|        0.0|               0.0|                 0.0|          0.0|               0.0|          0.0|\n",
            "|111612|         4|              null|              null|        null|       null|              null|                null|         null|              null|         null|\n",
            "|137801|         9|              null|              null|        null|       null|              null|                null|         null|              null|         null|\n",
            "|206375|        11|               0.0|               0.0|         0.0|        0.0|               0.5|                 0.0|          0.5|               0.0|          0.0|\n",
            "| 43994|         9|              null|              null|        null|       null|              null|                null|         null|              null|         null|\n",
            "| 61016|        12|               0.0|               1.0|         0.0|        0.0|               0.0|                 0.0|          0.0|               0.0|          0.0|\n",
            "| 98974|         8|              null|              null|        null|       null|              null|                null|         null|              null|         null|\n",
            "|184621|        10|               0.0|               1.0|         0.0|        0.0|               0.0|                 0.0|          0.0|               0.0|          0.0|\n",
            "|212078|        10|               0.0|               1.0|         0.0|        0.0|               0.0|                 0.0|          0.0|               0.0|          0.0|\n",
            "|220747|        12|              null|              null|        null|       null|              null|                null|         null|              null|         null|\n",
            "|110155|        12|              null|              null|        null|       null|              null|                null|         null|              null|         null|\n",
            "|112868|        12|               1.0|               0.0|         0.0|        0.0|               0.0|                 0.0|          0.0|               0.0|          0.0|\n",
            "| 80697|        12|              null|              null|        null|       null|              null|                null|         null|              null|         null|\n",
            "|141971|        12|               1.0|               0.0|         0.0|        0.0|               0.0|                 0.0|          0.0|               0.0|          0.0|\n",
            "| 22413|         8|              null|              null|        null|       null|              null|                null|         null|              null|         null|\n",
            "|117886|         5|               1.0|               0.0|         0.0|        0.0|               0.0|                 0.0|          0.0|               0.0|          0.0|\n",
            "|146507|         7|              null|              null|        null|       null|              null|                null|         null|              null|         null|\n",
            "|172383|        10|               0.0|               0.0|         0.0|        0.0|               0.0|                 0.0|          1.0|               0.0|          0.0|\n",
            "|250747|        12|               0.0|               0.5|         0.0|        0.5|               0.0|                 0.0|          0.0|               0.0|          0.0|\n",
            "| 41680|         2|              null|              null|        null|       null|              null|                null|         null|              null|         null|\n",
            "| 86182|        11|               0.0|               1.0|         0.0|        0.0|               0.0|                 0.0|          0.0|               0.0|          0.0|\n",
            "|165838|        12|               0.0|               0.0|         0.0|        0.0|               0.0|                 1.0|          0.0|               0.0|          0.0|\n",
            "| 96412|         6|               0.0|               0.0|         0.0|        0.0|               0.0|                 0.0|          1.0|               0.0|          0.0|\n",
            "| 72464|        12|              null|              null|        null|       null|              null|                null|         null|              null|         null|\n",
            "|134519|        10|               1.0|               0.0|         0.0|        0.0|               0.0|                 0.0|          0.0|               0.0|          0.0|\n",
            "|154853|        11|              null|              null|        null|       null|              null|                null|         null|              null|         null|\n",
            "|185841|        12|               1.0|               0.0|         0.0|        0.0|               0.0|                 0.0|          0.0|               0.0|          0.0|\n",
            "|226265|        12|              null|              null|        null|       null|              null|                null|         null|              null|         null|\n",
            "| 63072|         2|              null|              null|        null|       null|              null|                null|         null|              null|         null|\n",
            "| 83450|         2|               1.0|               0.0|         0.0|        0.0|               0.0|                 0.0|          0.0|               0.0|          0.0|\n",
            "|122352|        11|              null|              null|        null|       null|              null|                null|         null|              null|         null|\n",
            "|129566|         5|               0.5|               0.0|         0.0|        0.0|               0.0|                 0.0|          0.0|               0.5|          0.0|\n",
            "+------+----------+------------------+------------------+------------+-----------+------------------+--------------------+-------------+------------------+-------------+\n",
            "only showing top 100 rows\n",
            "\n"
          ]
        }
      ]
    },
    {
      "cell_type": "code",
      "source": [
        "from pyspark.sql.functions import expr\n",
        "\n",
        "avg_by_time_df = classification_by_time.groupBy(\"life_point\").agg(\n",
        "    avg(\"count_activity\").alias(\"avg_activity\"),\n",
        "    avg(\"count_food\").alias(\"avg_food\"),\n",
        "    avg(\"count_people\").alias(\"avg_people\"),\n",
        "    avg(\"count_event\").alias(\"avg_event\"),\n",
        "    avg(\"count_travel\").alias(\"avg_travel\"),\n",
        "    avg(\"count_transportation\").alias(\"avg_transportation\"),\n",
        "    avg(\"count_utility\").alias(\"avg_utility\"),\n",
        "    avg(\"count_cash\").alias(\"avg_cash\"),\n",
        "    avg(\"count_illegal\").alias(\"avg_illegal\")\n",
        ")\n",
        "\n",
        "melted_columns = ['avg_activity', 'avg_food', 'avg_people', 'avg_event', 'avg_travel', 'avg_transportation',\n",
        "                  'avg_utility', 'avg_cash', 'avg_illegal']\n",
        "\n",
        "melted_columns_expr = \", \".join([\"'{0}', {0}\".format(col) for col in melted_columns])\n",
        "\n",
        "avg_by_time_df = avg_by_time_df.selectExpr(\"life_point\", \"stack({0}, {1}) as (variable, value)\".format(\n",
        "    len(melted_columns), melted_columns_expr\n",
        "))\n",
        "\n",
        "avg_by_time_df.show()\n"
      ],
      "metadata": {
        "colab": {
          "base_uri": "https://localhost:8080/"
        },
        "id": "URKG7d1QW146",
        "outputId": "c56bd5ab-9aa1-45b2-db62-1012096becc0"
      },
      "execution_count": null,
      "outputs": [
        {
          "output_type": "stream",
          "name": "stdout",
          "text": [
            "+----------+------------------+--------------------+\n",
            "|life_point|          variable|               value|\n",
            "+----------+------------------+--------------------+\n",
            "|        12|      avg_activity|  0.2387706855791962|\n",
            "|        12|          avg_food|   0.284160756501182|\n",
            "|        12|        avg_people| 0.04846335697399527|\n",
            "|        12|         avg_event|0.031914893617021274|\n",
            "|        12|        avg_travel|0.040780141843971635|\n",
            "|        12|avg_transportation| 0.08687943262411348|\n",
            "|        12|       avg_utility|  0.1756501182033097|\n",
            "|        12|          avg_cash|  0.0425531914893617|\n",
            "|        12|       avg_illegal|0.050827423167848704|\n",
            "|         1|      avg_activity| 0.09090909090909091|\n",
            "|         1|          avg_food|                 0.5|\n",
            "|         1|        avg_people|                 0.0|\n",
            "|         1|         avg_event|                 0.0|\n",
            "|         1|        avg_travel|0.045454545454545456|\n",
            "|         1|avg_transportation|  0.0303030303030303|\n",
            "|         1|       avg_utility|  0.1515151515151515|\n",
            "|         1|          avg_cash| 0.09090909090909091|\n",
            "|         1|       avg_illegal| 0.09090909090909091|\n",
            "|         6|      avg_activity| 0.17307692307692307|\n",
            "|         6|          avg_food| 0.32905982905982906|\n",
            "+----------+------------------+--------------------+\n",
            "only showing top 20 rows\n",
            "\n"
          ]
        }
      ]
    },
    {
      "cell_type": "code",
      "source": [
        "from pyspark.sql.functions import expr, stddev\n",
        "\n",
        "std_by_time_df = classification_by_time.groupBy(\"life_point\").agg(\n",
        "    stddev(\"count_activity\").alias(\"std_activity\"),\n",
        "    stddev(\"count_food\").alias(\"std_food\"),\n",
        "    stddev(\"count_people\").alias(\"std_people\"),\n",
        "    stddev(\"count_event\").alias(\"std_event\"),\n",
        "    stddev(\"count_travel\").alias(\"std_travel\"),\n",
        "    stddev(\"count_transportation\").alias(\"std_transportation\"),\n",
        "    stddev(\"count_utility\").alias(\"std_utility\"),\n",
        "    stddev(\"count_cash\").alias(\"std_cash\"),\n",
        "    stddev(\"count_illegal\").alias(\"std_illegal\")\n",
        ")\n",
        "\n",
        "melted_columns = ['std_activity', 'std_food', 'std_people', 'std_event', 'std_travel', 'std_transportation',\n",
        "                  'std_utility', 'std_cash', 'std_illegal']\n",
        "\n",
        "melted_columns_expr = \", \".join([\"'{0}', {0}\".format(col) for col in melted_columns])\n",
        "\n",
        "std_by_time_df = std_by_time_df.selectExpr(\"life_point\", \"stack({0}, {1}) as (variable, value)\".format(\n",
        "    len(melted_columns), melted_columns_expr\n",
        "))\n",
        "\n",
        "std_by_time_df.show()\n"
      ],
      "metadata": {
        "colab": {
          "base_uri": "https://localhost:8080/"
        },
        "id": "wUK-CoL8bgMc",
        "outputId": "cdc88096-9b3c-47a4-b642-7df1b4871647"
      },
      "execution_count": null,
      "outputs": [
        {
          "output_type": "stream",
          "name": "stdout",
          "text": [
            "+----------+------------------+-------------------+\n",
            "|life_point|          variable|              value|\n",
            "+----------+------------------+-------------------+\n",
            "|        12|      std_activity| 0.4080319415110253|\n",
            "|        12|          std_food| 0.4350439051056599|\n",
            "|        12|        std_people|0.19874507789871862|\n",
            "|        12|         std_event|0.14895787944256025|\n",
            "|        12|        std_travel|0.19045085951119037|\n",
            "|        12|std_transportation|0.28028336363598955|\n",
            "|        12|       std_utility|  0.370368315878575|\n",
            "|        12|          std_cash|0.18409393663996323|\n",
            "|        12|       std_illegal|0.20887383449025324|\n",
            "|         1|      std_activity|0.30151134457776363|\n",
            "|         1|          std_food|                0.5|\n",
            "|         1|        std_people|                0.0|\n",
            "|         1|         std_event|                0.0|\n",
            "|         1|        std_travel|0.15075567228888181|\n",
            "|         1|std_transportation|0.10050378152592121|\n",
            "|         1|       std_utility|0.34524182711820883|\n",
            "|         1|          std_cash|0.30151134457776363|\n",
            "|         1|       std_illegal|0.30151134457776363|\n",
            "|         6|      std_activity|  0.349594907271664|\n",
            "|         6|          std_food| 0.4627769906876437|\n",
            "+----------+------------------+-------------------+\n",
            "only showing top 20 rows\n",
            "\n"
          ]
        }
      ]
    },
    {
      "cell_type": "code",
      "source": [
        "avg_by_time_pd = avg_by_time_df.toPandas()\n",
        "std_by_time_pd = std_by_time_df.toPandas()"
      ],
      "metadata": {
        "id": "XV09wSkdcdGi"
      },
      "execution_count": null,
      "outputs": []
    },
    {
      "cell_type": "code",
      "source": [
        "import matplotlib.pyplot as plt\n",
        "import pandas as pd\n",
        "\n",
        "# Define the variables and subplots\n",
        "variables = ['activity', 'people', 'travel', 'transportation', 'food', 'illegal', 'cash', 'utility', 'event']\n",
        "fig, axes = plt.subplots(3, 3, figsize=(15, 10))\n",
        "plt.subplots_adjust(hspace=0.4)\n",
        "sns.despine(left=True)\n",
        "\n",
        "# Iterate over variables and create subplots\n",
        "for idx, var in enumerate(variables):\n",
        "    avg_variable = 'avg_' + var\n",
        "    std_variable = 'std_' + var\n",
        "\n",
        "    x = []\n",
        "    lower_bound = []\n",
        "    upper_bound = []\n",
        "\n",
        "    for point in range(1, 13):\n",
        "        avg = avg_by_time_pd.loc[(avg_by_time_pd.variable == avg_variable) & (avg_by_time_pd.life_point == point), 'value'].values[0]\n",
        "        std = std_by_time_pd.loc[(std_by_time_pd.variable == std_variable) & (std_by_time_pd.life_point == point), 'value'].values[0]\n",
        "\n",
        "        x.append(avg)\n",
        "        lower_bound.append(avg - 2 * std)\n",
        "        upper_bound.append(avg + 2 * std)\n",
        "\n",
        "    y = list(range(1, 13))\n",
        "\n",
        "    # Plot the confidence interval\n",
        "    axes[idx // 3, idx % 3].set_xlim(-0.75, 1)\n",
        "    axes[idx // 3, idx % 3].fill_betweenx(y, lower_bound, upper_bound, alpha=0.3)\n",
        "\n",
        "    # Plot the average\n",
        "    axes[idx // 3, idx % 3].scatter(x, y)\n",
        "\n",
        "    axes[idx // 3, idx % 3].set_title(avg_variable)\n",
        "    axes[idx // 3, idx % 3].set_ylabel(\"lifetime in months\")\n",
        "\n",
        "# Show the plots\n",
        "plt.show()\n"
      ],
      "metadata": {
        "colab": {
          "base_uri": "https://localhost:8080/",
          "height": 853
        },
        "id": "BvHEC_oGcnAC",
        "outputId": "249a7192-7539-4215-c233-effe74ee867b"
      },
      "execution_count": null,
      "outputs": [
        {
          "output_type": "display_data",
          "data": {
            "text/plain": [
              "<Figure size 1500x1000 with 9 Axes>"
            ],
            "image/png": "[encoded data removed]"
          },
          "metadata": {}
        }
      ]
    },
    {
      "cell_type": "code",
      "source": [
        "# Most of the average spendings stabilize after the first life point."
      ],
      "metadata": {
        "id": "w5GpefFTdFO-"
      },
      "execution_count": null,
      "outputs": []
    },
    {
      "cell_type": "markdown",
      "source": [
        "# Social Network Analytics (SNA)"
      ],
      "metadata": {
        "id": "512LceTuQKcv"
      }
    },
    {
      "cell_type": "code",
      "source": [
        "spark = SparkSession\\\n",
        "        .builder\\\n",
        "        .master(\"local[*]\")\\\n",
        "        .config(\"spark.jars.packages\", \"graphframes:graphframes:0.8.1-spark3.0-s_2.12\")\\\n",
        "        .getOrCreate()"
      ],
      "metadata": {
        "id": "r31wGKorQ4lF"
      },
      "execution_count": null,
      "outputs": []
    },
    {
      "cell_type": "code",
      "source": [
        "venmo_df = venmo_df.sample(fraction=0.01, seed=42)"
      ],
      "metadata": {
        "id": "zhfe2SbGRFBw"
      },
      "execution_count": null,
      "outputs": []
    },
    {
      "cell_type": "code",
      "execution_count": null,
      "metadata": {
        "colab": {
          "base_uri": "https://localhost:8080/"
        },
        "id": "a3espp4rxSRy",
        "outputId": "d345f256-fe55-4a82-b149-5301938ec9db"
      },
      "outputs": [
        {
          "output_type": "stream",
          "name": "stdout",
          "text": [
            "+-------+--------+----------------+--------------------+--------------------+-----------+--------------------+\n",
            "|  user1|   user2|transaction_type|            datetime|         description|is_business|            story_id|\n",
            "+-------+--------+----------------+--------------------+--------------------+-----------+--------------------+\n",
            "| 473246|  357995|         payment|2016-02-10T08:58:...|                🎅🏿|      false|56ba8b29cd03c9af2...|\n",
            "| 811090|  864824|          charge|2014-12-12T15:17:...|          Zp dinnah!|      false|548a9684ca134c404...|\n",
            "|1508991| 1141580|         payment|2015-01-27T01:46:...|            🍻🍻🍺🍺|      false|54c67d5bca134c404...|\n",
            "|3959333| 2942063|         payment|2016-02-08T23:32:...|              🏡🍾👭|      false|56b8b510cd03c9af2...|\n",
            "|1069346| 3543226|          charge|2015-10-07T10:26:...|        Pay yo bills|      false|561490e5cd03c9af2...|\n",
            "|5621067| 7237863|         payment|2016-05-21T04:54:...|                  📺|      false|573f8799cd03c9af2...|\n",
            "|2164273|  587489|         payment|2015-07-05T11:29:...|              Stuffs|      false|5598b2a607f81c216...|\n",
            "| 550288|  327652|         payment|2013-09-30T23:08:...|       Reimbursement|      false|5249a1f0d56b6bac5...|\n",
            "|7416216|11587064|         payment|2016-07-22T07:32:...|        Thanks again|      false|579169a923e064eac...|\n",
            "| 737239|   77724|          charge|2014-08-31T13:29:...|               Magic|      false|5402c0e77d0b0354e...|\n",
            "|2728526| 3077414|         payment|2015-08-20T08:01:...|                👧🏿|      false|55d526dc5d6cc8730...|\n",
            "|1501871| 1099703|         payment|2015-04-02T06:14:...|           Volcanoes|      false|551c7be607f81c4b9...|\n",
            "|3410728| 2233850|         payment|2016-01-31T14:09:...|                  🙃|      false|56ada514cd03c9af2...|\n",
            "|1474097| 1874860|         payment|2015-03-11T23:22:...|       Frank n beans|      false|55006bd2cd03c9af2...|\n",
            "| 677727| 7611964|         payment|2015-12-03T10:05:...|         Candy grams|      false|565fa37dcd03c9af2...|\n",
            "|1224621| 1223874|         payment|2015-10-07T03:21:...|              ✈️🎃😈|      false|56142d2ecd03c9af2...|\n",
            "|1040339|  338990|         payment|2015-11-14T11:48:...|             Last ga|      false|5646af1ccd03c9af2...|\n",
            "|2429984| 1094020|         payment|2014-10-02T22:37:...|   for pickem week 5|      false|542d71367d0b0354e...|\n",
            "|4576935| 8624986|         payment|2016-07-08T22:39:...|                  🏫|      false|577fc91823e064eac...|\n",
            "|2580631| 8280398|          charge|2016-04-01T00:48:...|Brand new HP Lapt...|      false|56fd6309cd03c9af2...|\n",
            "+-------+--------+----------------+--------------------+--------------------+-----------+--------------------+\n",
            "only showing top 20 rows\n",
            "\n"
          ]
        }
      ],
      "source": [
        "venmo_df.show()"
      ]
    },
    {
      "cell_type": "markdown",
      "metadata": {
        "id": "DuDoHGujPoPp"
      },
      "source": [
        "### Script to find user’s friends and friends of friends\n",
        "\n",
        "(Friend definition: A user’s friend is someone who has transacted with the user, either sending money to the user or receiving money from the user).\n"
      ]
    },
    {
      "cell_type": "code",
      "execution_count": null,
      "metadata": {
        "colab": {
          "base_uri": "https://localhost:8080/"
        },
        "id": "KdymH-t4HAmE",
        "outputId": "0d8dac60-4190-471b-8201-134d7004739a"
      },
      "outputs": [
        {
          "output_type": "stream",
          "name": "stdout",
          "text": [
            "+-------+-------+\n",
            "|  user1|  user2|\n",
            "+-------+-------+\n",
            "|1542962|1561864|\n",
            "|2625628|2626024|\n",
            "|2918884|2244083|\n",
            "| 696661| 198957|\n",
            "| 304267| 276828|\n",
            "|2737539|3002157|\n",
            "|2991028|4114608|\n",
            "|8977153|6819793|\n",
            "|1541941|4726257|\n",
            "|1879914|2950156|\n",
            "|1452517| 525298|\n",
            "| 139135|7819027|\n",
            "|2657367|6903077|\n",
            "|5608012|4441477|\n",
            "|2717207|1552945|\n",
            "|6203804|6252525|\n",
            "| 965058| 221317|\n",
            "|5766322|1789988|\n",
            "|5374147|7286662|\n",
            "|2140410|2450827|\n",
            "+-------+-------+\n",
            "only showing top 20 rows\n",
            "\n"
          ]
        }
      ],
      "source": [
        "user_subset = venmo_df.select(\"user1\", \"user2\").dropDuplicates()\n",
        "# Create a temporary view for the user_subset\n",
        "user_subset.createOrReplaceTempView(\"user_subset\")\n",
        "user_subset.show()"
      ]
    },
    {
      "cell_type": "markdown",
      "source": [
        "#### List of friends and friends of friends"
      ],
      "metadata": {
        "id": "Xj9AFDylu30Y"
      }
    },
    {
      "cell_type": "code",
      "source": [
        "# Find friends for all users\n",
        "query = \"\"\"\n",
        "          SELECT A.user1 AS user_id, A.user2 AS friend_id\n",
        "          FROM user_subset A\n",
        "          UNION\n",
        "          SELECT B.user2 AS user_id, B.user1 AS friend_id\n",
        "          FROM user_subset B\n",
        "\"\"\"\n",
        "\n",
        "user_friends = spark.sql(query)\n",
        "user_friends.createOrReplaceTempView(\"user_friends\")\n",
        "user_friends.show()"
      ],
      "metadata": {
        "colab": {
          "base_uri": "https://localhost:8080/"
        },
        "id": "pzC3ZbjJQrvC",
        "outputId": "14806d33-cff4-4eae-abce-fdd2216200ea"
      },
      "execution_count": null,
      "outputs": [
        {
          "output_type": "stream",
          "name": "stdout",
          "text": [
            "+-------+---------+\n",
            "|user_id|friend_id|\n",
            "+-------+---------+\n",
            "|1542962|  1561864|\n",
            "|2625628|  2626024|\n",
            "|2918884|  2244083|\n",
            "| 696661|   198957|\n",
            "| 304267|   276828|\n",
            "|2737539|  3002157|\n",
            "|2991028|  4114608|\n",
            "|8977153|  6819793|\n",
            "|1541941|  4726257|\n",
            "|1879914|  2950156|\n",
            "|1452517|   525298|\n",
            "| 139135|  7819027|\n",
            "|2657367|  6903077|\n",
            "|5608012|  4441477|\n",
            "|2717207|  1552945|\n",
            "|6203804|  6252525|\n",
            "| 965058|   221317|\n",
            "|5766322|  1789988|\n",
            "|5374147|  7286662|\n",
            "|2140410|  2450827|\n",
            "+-------+---------+\n",
            "only showing top 20 rows\n",
            "\n"
          ]
        }
      ]
    },
    {
      "cell_type": "code",
      "execution_count": null,
      "metadata": {
        "colab": {
          "base_uri": "https://localhost:8080/"
        },
        "id": "_RqRuhhL-z_v",
        "outputId": "9be9db29-213a-4716-c6e5-3c67d1d39490"
      },
      "outputs": [
        {
          "output_type": "stream",
          "name": "stdout",
          "text": [
            "+--------+-----------+--------------+\n",
            "| user_id|    friends|friends_friend|\n",
            "+--------+-----------+--------------+\n",
            "|      10|[71056, 43]|       [47104]|\n",
            "| 1000013|   [882320]|          null|\n",
            "| 1000024|  [1571549]|      [691294]|\n",
            "| 1000031|  [3692874]|          null|\n",
            "| 1000063|   [999123]|          null|\n",
            "|10000740|  [6286189]|          null|\n",
            "| 1000099|  [3149184]|          null|\n",
            "| 1000119|  [1562407]|          null|\n",
            "| 1000129|  [2939678]|          null|\n",
            "| 1000132|  [4300675]|          null|\n",
            "| 1000158|   [511362]|          null|\n",
            "|10001662|  [3759599]|          null|\n",
            "| 1000204|  [4215633]|          null|\n",
            "| 1000222|   [886822]|          null|\n",
            "|10002713|  [8035734]|          null|\n",
            "| 1000278|  [1716420]|     [1918994]|\n",
            "| 1000281|  [5774380]|          null|\n",
            "|10003088|  [1413336]|          null|\n",
            "| 1000318|  [1525495]|      [760137]|\n",
            "|10003386|  [3552552]|          null|\n",
            "+--------+-----------+--------------+\n",
            "only showing top 20 rows\n",
            "\n",
            "time: 15.5 s (started: 2023-05-25 00:26:36 +00:00)\n"
          ]
        }
      ],
      "source": [
        "# Find friends for all users\n",
        "query = \"\"\"\n",
        "          with temp1 as(\n",
        "          SELECT A.user1 AS user_id, A.user2 AS friend_id, 1 AS Contact_Num\n",
        "          FROM user_subset A\n",
        "          UNION\n",
        "          SELECT B.user2 AS user_id, B.user1 AS friend_id, 1 As Contact_Num\n",
        "          FROM user_subset B\n",
        "          ),\n",
        "          temp2 as (\n",
        "          Select distinct A.user_id as user_id,\n",
        "          B.friend_id as friend_id, 2 AS Contact_Num\n",
        "          From temp1 A\n",
        "          Left JOIN temp1 B on A.friend_id = B.user_id\n",
        "          and A.user_id <> B.friend_id\n",
        "          where B.friend_id is not NULL\n",
        "          ),\n",
        "          temp3 as (\n",
        "          Select user_id, friend_id, Contact_Num\n",
        "          from temp1\n",
        "          UNION\n",
        "          Select user_id, friend_id, Contact_Num\n",
        "          from temp2\n",
        "          order by user_id\n",
        "          ),\n",
        "          temp4 as (\n",
        "          Select *,\n",
        "          row_number() OVER(PARTITION BY user_id, friend_id ORDER BY Contact_Num) AS rank_num\n",
        "          FROM temp3\n",
        "          ),\n",
        "          cte_f as (\n",
        "          select user_id,\n",
        "            collect_list(friend_id) as friends\n",
        "            from temp1\n",
        "            group by user_id\n",
        "            ),\n",
        "          cte_ff (\n",
        "          Select user_id, collect_list(friend_id) as friends_friend\n",
        "          FROM temp4\n",
        "          where rank_num =1 and Contact_Num = 2\n",
        "          group by user_id\n",
        "          )\n",
        "          select cte_f.user_id, friends, friends_friend\n",
        "          From cte_f\n",
        "          Left join cte_ff on cte_f.user_id = cte_ff.user_id\n",
        "          order by  user_id\n",
        "\"\"\"\n",
        "\n",
        "all_friends = spark.sql(query)\n",
        "all_friends.show()"
      ]
    },
    {
      "cell_type": "markdown",
      "metadata": {
        "id": "s_B8_IwdPHzy"
      },
      "source": [
        "## Social network metrics across a user’s lifetime in Venmo (from 0 up to 12 months)"
      ]
    },
    {
      "cell_type": "markdown",
      "source": [
        "### Number of friends and number of friends of friends"
      ],
      "metadata": {
        "id": "RBzFWMgDTVPZ"
      }
    },
    {
      "cell_type": "markdown",
      "source": [
        "#### Static count of Friends and Friends of Friends"
      ],
      "metadata": {
        "id": "kAuUmj5JYFdJ"
      }
    },
    {
      "cell_type": "code",
      "execution_count": null,
      "metadata": {
        "colab": {
          "base_uri": "https://localhost:8080/"
        },
        "id": "CZoHEIvxJTal",
        "outputId": "7e495cd9-aaf3-4e6a-df3f-775fce365aac"
      },
      "outputs": [
        {
          "name": "stdout",
          "output_type": "stream",
          "text": [
            "+--------+-----------+--------------+-----+\n",
            "| user_id|Contact_Num|       Contact|Total|\n",
            "+--------+-----------+--------------+-----+\n",
            "|      10|          1|        Friend|    3|\n",
            "|      10|          2|FriendOfFriend|    2|\n",
            "| 1000002|          1|        Friend|    1|\n",
            "|10000027|          1|        Friend|    1|\n",
            "| 1000006|          1|        Friend|    1|\n",
            "| 1000006|          2|FriendOfFriend|    1|\n",
            "| 1000013|          1|        Friend|    4|\n",
            "| 1000013|          2|FriendOfFriend|    5|\n",
            "|10000139|          1|        Friend|    1|\n",
            "|10000139|          2|FriendOfFriend|    1|\n",
            "| 1000022|          1|        Friend|    3|\n",
            "| 1000022|          2|FriendOfFriend|    7|\n",
            "| 1000024|          1|        Friend|    2|\n",
            "| 1000024|          2|FriendOfFriend|    2|\n",
            "|10000289|          1|        Friend|    1|\n",
            "| 1000029|          1|        Friend|    1|\n",
            "| 1000031|          1|        Friend|    3|\n",
            "| 1000031|          2|FriendOfFriend|    6|\n",
            "| 1000035|          1|        Friend|    2|\n",
            "| 1000035|          2|FriendOfFriend|    1|\n",
            "+--------+-----------+--------------+-----+\n",
            "only showing top 20 rows\n",
            "\n",
            "time: 2min 10s (started: 2023-05-17 00:22:29 +00:00)\n"
          ]
        }
      ],
      "source": [
        "# Find friends for all users static\n",
        "query = \"\"\"\n",
        "          with temp1 as(\n",
        "          SELECT A.user1 AS user_id, A.user2 AS friend_id, 1 AS Contact_Num\n",
        "          FROM user_subset A\n",
        "          UNION\n",
        "          SELECT B.user2 AS user_id, B.user1 AS friend_id, 1 As Contact_Num\n",
        "          FROM user_subset B\n",
        "          ),\n",
        "          temp2 as (\n",
        "          Select distinct A.user_id as user_id,\n",
        "          B.friend_id as friend_id, 2 AS Contact_Num\n",
        "          From temp1 A\n",
        "          Left JOIN temp1 B on A.friend_id = B.user_id\n",
        "          and A.user_id <> B.friend_id\n",
        "          where B.friend_id is not NULL\n",
        "          ),\n",
        "          temp3 as (\n",
        "          Select user_id, friend_id, Contact_Num\n",
        "          from temp1\n",
        "          UNION\n",
        "          Select user_id, friend_id, Contact_Num\n",
        "          from temp2\n",
        "          order by user_id\n",
        "          ),\n",
        "          temp4 as (\n",
        "          Select *,\n",
        "          row_number() OVER(PARTITION BY user_id, friend_id ORDER BY Contact_Num) AS rank_num\n",
        "          FROM temp3\n",
        "          )\n",
        "          Select user_id,\n",
        "          CASE\n",
        "          WHEN Contact_Num = 1 THEN 'Friend'\n",
        "          WHEN Contact_Num = 2 THEN 'FriendOfFriend'\n",
        "          END AS Contact,\n",
        "          sum(rank_num) as Total\n",
        "          from temp4\n",
        "          where rank_num =1\n",
        "          group by user_id, Contact_Num\n",
        "          order by user_id, Contact_Num\n",
        "\"\"\"\n",
        "\n",
        "static_friends_count = spark.sql(query)\n",
        "static_friends_count.show()"
      ]
    },
    {
      "cell_type": "markdown",
      "source": [
        "#### Lifetime count of Friends and Friends of Friends"
      ],
      "metadata": {
        "id": "iqfDuqXmYNF5"
      }
    },
    {
      "cell_type": "code",
      "source": [
        "user_month = venmo_df.select(\"user1\", \"user2\",\"datetime\").dropDuplicates()\n",
        "# Create a temporary view for the user_subset\n",
        "user_month.createOrReplaceTempView(\"user_month\")\n",
        "user_month.show()"
      ],
      "metadata": {
        "colab": {
          "base_uri": "https://localhost:8080/"
        },
        "id": "_ebuhuKGvbJn",
        "outputId": "543b826b-d056-4189-a4b3-32911e0c4061"
      },
      "execution_count": null,
      "outputs": [
        {
          "output_type": "stream",
          "name": "stdout",
          "text": [
            "+-------+-------+--------------------+\n",
            "|  user1|  user2|            datetime|\n",
            "+-------+-------+--------------------+\n",
            "|3245723|1951007|2016-08-07T03:50:...|\n",
            "|1688153|1535384|2015-04-26T00:46:...|\n",
            "|1255452|1136797|2014-04-22T07:42:...|\n",
            "|2833021|1448124|2016-10-16T11:54:...|\n",
            "|2968160|1867209|2016-07-10T09:19:...|\n",
            "|8128981|5315878|2016-03-04T05:28:...|\n",
            "| 830284| 830555|2015-03-08T10:16:...|\n",
            "|3026689| 492872|2015-04-17T00:53:...|\n",
            "|1772857|1476983|2015-08-12T01:52:...|\n",
            "|2208210|1915443|2015-10-16T06:30:...|\n",
            "|1849616|1853994|2014-10-06T05:01:...|\n",
            "|7100227|2355572|2016-03-10T08:14:...|\n",
            "|2897725| 922630|2015-07-24T06:25:...|\n",
            "|1124952| 889605|2016-08-09T11:15:...|\n",
            "|2237730|2293597|2016-05-08T23:40:...|\n",
            "|2470605| 661130|2016-01-28T03:20:...|\n",
            "|4152388|6631921|2015-11-18T16:04:...|\n",
            "| 527265| 640428|2015-05-14T23:01:...|\n",
            "| 959416|1301570|2015-10-20T00:32:...|\n",
            "|6138527|9464194|2016-10-01T05:42:...|\n",
            "+-------+-------+--------------------+\n",
            "only showing top 20 rows\n",
            "\n"
          ]
        }
      ]
    },
    {
      "cell_type": "code",
      "source": [
        "# Count friends for all users monthwise\n",
        "query = \"\"\" with temp1 as (\n",
        "          Select distinct user1 as user_id, user2 as friend_id,\n",
        "          datetime\n",
        "          From user_month\n",
        "          Union\n",
        "          Select distinct user2 as user_id, user1 as friend_id,\n",
        "          datetime\n",
        "          From user_month\n",
        "        ),\n",
        "        temp2 as (\n",
        "          Select user_id, min(datetime) as firstDate\n",
        "          From temp1\n",
        "          group by user_id\n",
        "        ),\n",
        "        temp3 as (\n",
        "          Select temp1.user_id, friend_id, datetime, firstDate,\n",
        "          DATEDIFF(month, firstDate, datetime) as month_num,\n",
        "          dense_rank() OVER(PARTITION BY temp1.user_id, friend_id ORDER BY datetime) AS rank_num\n",
        "          From temp1\n",
        "          Left Join temp2 on temp1.user_id = temp2.user_id\n",
        "          where DATEDIFF(month, firstDate, datetime) between 0 and 12\n",
        "        )\n",
        "          Select distinct user_id, month_num,\n",
        "          count(friend_id) OVER(PARTITION BY user_id, datetime) AS friends_count\n",
        "          From temp3\n",
        "          where rank_num =1\n",
        "          order by user_id, month_num\n",
        "\"\"\"\n",
        "\n",
        "dynamic_friends_count = spark.sql(query)\n",
        "dynamic_friends_count.createOrReplaceTempView(\"dynamic_friends_count\")\n",
        "dynamic_friends_count.show()"
      ],
      "metadata": {
        "colab": {
          "base_uri": "https://localhost:8080/"
        },
        "id": "v_ju6AjTQfis",
        "outputId": "7a28e165-0f03-448c-ce37-15122e7ec8e5"
      },
      "execution_count": null,
      "outputs": [
        {
          "output_type": "stream",
          "name": "stdout",
          "text": [
            "+--------+---------+-------------+\n",
            "| user_id|month_num|friends_count|\n",
            "+--------+---------+-------------+\n",
            "|      10|        0|            1|\n",
            "|      10|       12|            1|\n",
            "| 1000013|        0|            1|\n",
            "| 1000024|        0|            1|\n",
            "| 1000031|        0|            1|\n",
            "| 1000063|        0|            1|\n",
            "|10000740|        0|            1|\n",
            "| 1000099|        0|            1|\n",
            "| 1000119|        0|            1|\n",
            "| 1000129|        0|            1|\n",
            "| 1000132|        0|            1|\n",
            "| 1000158|        0|            1|\n",
            "|10001662|        0|            1|\n",
            "| 1000204|        0|            1|\n",
            "| 1000222|        0|            1|\n",
            "|10002713|        0|            1|\n",
            "| 1000278|        0|            1|\n",
            "| 1000281|        0|            1|\n",
            "|10003088|        0|            1|\n",
            "| 1000318|        0|            1|\n",
            "+--------+---------+-------------+\n",
            "only showing top 20 rows\n",
            "\n"
          ]
        }
      ]
    },
    {
      "cell_type": "code",
      "source": [
        "# Count friends of friends for all users\n",
        "query = \"\"\" with temp1 as (\n",
        "          Select distinct user1 as user_id, user2 as friend_id,\n",
        "          datetime\n",
        "          From user_month\n",
        "          Union\n",
        "          Select distinct user2 as user_id, user1 as friend_id,\n",
        "          datetime\n",
        "          From user_month\n",
        "        ),\n",
        "        temp2 as (\n",
        "          Select user_id, min(datetime) as firstDate\n",
        "          From temp1\n",
        "          group by user_id\n",
        "        ),\n",
        "        temp3 as (\n",
        "          Select temp1.user_id as user_id, friend_id, datetime, firstDate,\n",
        "          DATEDIFF(month, firstDate, datetime) as month_num,\n",
        "          dense_rank() OVER(PARTITION BY temp1.user_id, friend_id ORDER BY datetime) AS rank_num\n",
        "          From temp1\n",
        "          Left Join temp2 on temp1.user_id = temp2.user_id\n",
        "          where DATEDIFF(month, firstDate, datetime) between 0 and 12\n",
        "        ),\n",
        "        temp4 as (\n",
        "          Select distinct user_id, friend_id, month_num, 1 As Contact_Num\n",
        "          From temp3\n",
        "          where rank_num =1\n",
        "          UNION\n",
        "          Select distinct A.user_id as user_id,\n",
        "          B.friend_id as friend_id,\n",
        "          DATEDIFF(month, B.datetime, A.firstDate) as month_num,\n",
        "          2 AS Contact_Num\n",
        "          From temp3 A\n",
        "          Left JOIN temp3 B on A.friend_id = B.user_id\n",
        "          and A.user_id <> B.friend_id\n",
        "          where B.friend_id is not NULL\n",
        "          and DATEDIFF(month, B.datetime, A.firstDate) between 0 and 12\n",
        "        ),\n",
        "        temp5 as (\n",
        "          Select *,\n",
        "          row_number() OVER(PARTITION BY user_id, friend_id, month_num ORDER BY Contact_Num) AS rank_num\n",
        "          FROM temp4\n",
        "        )\n",
        "          Select user_id, month_num,\n",
        "          count(friend_id) OVER(PARTITION BY user_id, Contact_Num, month_num) AS friends_friends_count\n",
        "          from temp5\n",
        "          where rank_num=1 and Contact_Num = 2\n",
        "          order by user_id, month_num\n",
        "\n",
        "\"\"\"\n",
        "\n",
        "dynamic_fof_count = spark.sql(query)\n",
        "dynamic_fof_count.createOrReplaceTempView(\"dynamic_fof_count\")\n",
        "dynamic_fof_count.show()"
      ],
      "metadata": {
        "colab": {
          "base_uri": "https://localhost:8080/"
        },
        "id": "qA5z9nmmeGR1",
        "outputId": "66669104-8696-4011-e05d-bf4d3b330460"
      },
      "execution_count": null,
      "outputs": [
        {
          "output_type": "stream",
          "name": "stdout",
          "text": [
            "+--------+---------+---------------------+\n",
            "| user_id|month_num|friends_friends_count|\n",
            "+--------+---------+---------------------+\n",
            "|      10|        6|                    1|\n",
            "| 1000024|        8|                    1|\n",
            "| 1000278|        6|                    1|\n",
            "| 1000318|        2|                    1|\n",
            "| 1001206|        1|                    1|\n",
            "| 1001264|        4|                    1|\n",
            "|10027969|        3|                    1|\n",
            "| 1002827|        6|                    1|\n",
            "| 1003416|        0|                    1|\n",
            "| 1003671|        7|                    1|\n",
            "| 1003971|       12|                    1|\n",
            "|10040360|       10|                    1|\n",
            "|  100490|       10|                    1|\n",
            "| 1006114|        6|                    1|\n",
            "|10061224|        7|                    1|\n",
            "|10066972|        0|                    1|\n",
            "| 1006833|        6|                    1|\n",
            "| 1007396|        6|                    1|\n",
            "| 1008961|        2|                    1|\n",
            "|    1009|        0|                    1|\n",
            "+--------+---------+---------------------+\n",
            "only showing top 20 rows\n",
            "\n"
          ]
        }
      ]
    },
    {
      "cell_type": "code",
      "source": [
        "# create continuous user lifetime\n",
        "month_list = [0,1,2,3,4,5,6,7,8,9,10,11,12]\n",
        "dummy_month = user_friends.select(\"user_id\").distinct().withColumn(\"month_num\", F.array([F.lit(x) for x in month_list]))\n",
        "dummy_month = dummy_month.withColumn(\"month_num\", F.explode(col(\"month_num\"))).orderBy(\"user_id\",\"month_num\")\n",
        "dummy_month.createOrReplaceTempView(\"dummy_month\")\n",
        "dummy_month.show()"
      ],
      "metadata": {
        "colab": {
          "base_uri": "https://localhost:8080/"
        },
        "id": "b6VsPZ6CQdTm",
        "outputId": "e5726910-18f9-4950-e9bb-1e43d7dc95ea"
      },
      "execution_count": null,
      "outputs": [
        {
          "output_type": "stream",
          "name": "stdout",
          "text": [
            "+-------+---------+\n",
            "|user_id|month_num|\n",
            "+-------+---------+\n",
            "|     10|        0|\n",
            "|     10|        1|\n",
            "|     10|        2|\n",
            "|     10|        3|\n",
            "|     10|        4|\n",
            "|     10|        5|\n",
            "|     10|        6|\n",
            "|     10|        7|\n",
            "|     10|        8|\n",
            "|     10|        9|\n",
            "|     10|       10|\n",
            "|     10|       11|\n",
            "|     10|       12|\n",
            "|1000013|        0|\n",
            "|1000013|        1|\n",
            "|1000013|        2|\n",
            "|1000013|        3|\n",
            "|1000013|        4|\n",
            "|1000013|        5|\n",
            "|1000013|        6|\n",
            "+-------+---------+\n",
            "only showing top 20 rows\n",
            "\n"
          ]
        }
      ]
    },
    {
      "cell_type": "code",
      "source": [
        "# Count friends of friends for all users\n",
        "query = \"\"\"\n",
        "        with temp1 as (\n",
        "        Select dummy_month.user_id, dummy_month.month_num\n",
        "        ,COALESCE(dynamic_friends_count.friends_count, 0) AS friends_count\n",
        "        ,COALESCE(dynamic_fof_count.friends_friends_count, 0) AS friends_friends_count\n",
        "        From dummy_month\n",
        "        Left JOIN dynamic_friends_count on dynamic_friends_count.user_id = dummy_month.user_id and dynamic_friends_count.month_num = dummy_month.month_num\n",
        "        Left JOIN dynamic_fof_count ON dynamic_fof_count.user_id = dummy_month.user_id and dynamic_fof_count.month_num = dummy_month.month_num\n",
        "        order by user_id, month_num\n",
        "        )\n",
        "        Select user_id, month_num\n",
        "        ,sum(friends_count) OVER(PARTITION BY user_id order by month_num) AS friends_count_cum\n",
        "        ,sum(friends_friends_count) OVER(PARTITION BY user_id order by month_num) AS friends_friends_count_cum\n",
        "        from temp1\n",
        "        order by user_id, month_num\n",
        "\"\"\"\n",
        "\n",
        "df_f_fof = spark.sql(query)\n",
        "df_f_fof.createOrReplaceTempView(\"df_f_fof\")\n",
        "df_f_fof.show()"
      ],
      "metadata": {
        "colab": {
          "base_uri": "https://localhost:8080/"
        },
        "id": "aLs3xuKxPy-G",
        "outputId": "84d848f7-a96e-4c57-fdc6-cde52a9ce415"
      },
      "execution_count": null,
      "outputs": [
        {
          "output_type": "stream",
          "name": "stdout",
          "text": [
            "+-------+---------+-----------------+-------------------------+\n",
            "|user_id|month_num|friends_count_cum|friends_friends_count_cum|\n",
            "+-------+---------+-----------------+-------------------------+\n",
            "|     10|        0|                1|                        0|\n",
            "|     10|        1|                1|                        0|\n",
            "|     10|        2|                1|                        0|\n",
            "|     10|        3|                1|                        0|\n",
            "|     10|        4|                1|                        0|\n",
            "|     10|        5|                1|                        0|\n",
            "|     10|        6|                1|                        1|\n",
            "|     10|        7|                1|                        1|\n",
            "|     10|        8|                1|                        1|\n",
            "|     10|        9|                1|                        1|\n",
            "|     10|       10|                1|                        1|\n",
            "|     10|       11|                1|                        1|\n",
            "|     10|       12|                2|                        1|\n",
            "|1000013|        0|                1|                        0|\n",
            "|1000013|        1|                1|                        0|\n",
            "|1000013|        2|                1|                        0|\n",
            "|1000013|        3|                1|                        0|\n",
            "|1000013|        4|                1|                        0|\n",
            "|1000013|        5|                1|                        0|\n",
            "|1000013|        6|                1|                        0|\n",
            "+-------+---------+-----------------+-------------------------+\n",
            "only showing top 20 rows\n",
            "\n"
          ]
        }
      ]
    },
    {
      "cell_type": "markdown",
      "source": [
        "#### Lifetime List of Friends and Friends of Friends"
      ],
      "metadata": {
        "id": "Jnd6WPpIvy2z"
      }
    },
    {
      "cell_type": "code",
      "source": [
        "# List friends for all users monthwise\n",
        "query = \"\"\" with temp1 as (\n",
        "          Select distinct user1 as user_id, user2 as friend_id,\n",
        "          datetime\n",
        "          From user_month\n",
        "          Union\n",
        "          Select distinct user2 as user_id, user1 as friend_id,\n",
        "          datetime\n",
        "          From user_month\n",
        "        ),\n",
        "        temp2 as (\n",
        "          Select user_id, min(datetime) as firstDate\n",
        "          From temp1\n",
        "          group by user_id\n",
        "        ),\n",
        "        temp3 as (\n",
        "          Select temp1.user_id, friend_id, datetime, firstDate,\n",
        "          DATEDIFF(month, firstDate, datetime) as month_num,\n",
        "          dense_rank() OVER(PARTITION BY temp1.user_id, friend_id ORDER BY datetime) AS rank_num\n",
        "          From temp1\n",
        "          Left Join temp2 on temp1.user_id = temp2.user_id\n",
        "          where DATEDIFF(month, firstDate, datetime) <=12\n",
        "        ),\n",
        "        temp4 as (\n",
        "          Select distinct user_id,\n",
        "          month_num,\n",
        "          friend_id\n",
        "          From temp3\n",
        "          where rank_num =1\n",
        "        )\n",
        "        Select user_id, month_num,\n",
        "        collect_list(friend_id) OVER(PARTITION BY user_id ORDER BY month_num) as friend_id_list\n",
        "        from temp4\n",
        "        order by user_id, month_num\n",
        "\n",
        "\n",
        "\"\"\"\n",
        "\n",
        "dynamic_friends_list = spark.sql(query)\n",
        "dynamic_friends_list.show()"
      ],
      "metadata": {
        "colab": {
          "base_uri": "https://localhost:8080/"
        },
        "id": "bRaXhgyJpaUG",
        "outputId": "33f9b514-b3e1-429b-9639-2a4f1233a8c9"
      },
      "execution_count": null,
      "outputs": [
        {
          "output_type": "stream",
          "name": "stdout",
          "text": [
            "+--------+---------+--------------+\n",
            "| user_id|month_num|friend_id_list|\n",
            "+--------+---------+--------------+\n",
            "|      10|        0|       [71056]|\n",
            "|      10|       12|   [71056, 43]|\n",
            "| 1000013|        0|      [882320]|\n",
            "| 1000024|        0|     [1571549]|\n",
            "| 1000031|        0|     [3692874]|\n",
            "| 1000063|        0|      [999123]|\n",
            "|10000740|        0|     [6286189]|\n",
            "| 1000099|        0|     [3149184]|\n",
            "| 1000119|        0|     [1562407]|\n",
            "| 1000129|        0|     [2939678]|\n",
            "| 1000132|        0|     [4300675]|\n",
            "| 1000158|        0|      [511362]|\n",
            "|10001662|        0|     [3759599]|\n",
            "| 1000204|        0|     [4215633]|\n",
            "| 1000222|        0|      [886822]|\n",
            "|10002713|        0|     [8035734]|\n",
            "| 1000278|        0|     [1716420]|\n",
            "| 1000281|        0|     [5774380]|\n",
            "|10003088|        0|     [1413336]|\n",
            "| 1000318|        0|     [1525495]|\n",
            "+--------+---------+--------------+\n",
            "only showing top 20 rows\n",
            "\n"
          ]
        }
      ]
    },
    {
      "cell_type": "code",
      "source": [
        "# List friends of friends for all users monthwise\n",
        "query = \"\"\" with temp1 as (\n",
        "          Select distinct user1 as user_id, user2 as friend_id,\n",
        "          datetime\n",
        "          From user_month\n",
        "          Union\n",
        "          Select distinct user2 as user_id, user1 as friend_id,\n",
        "          datetime\n",
        "          From user_month\n",
        "        ),\n",
        "        temp2 as (\n",
        "          Select user_id, min(datetime) as firstDate\n",
        "          From temp1\n",
        "          group by user_id\n",
        "        ),\n",
        "        temp3 as (\n",
        "          Select temp1.user_id as user_id, friend_id, datetime, firstDate,\n",
        "          DATEDIFF(month, firstDate, datetime) as month_num,\n",
        "          dense_rank() OVER(PARTITION BY temp1.user_id, friend_id ORDER BY datetime) AS rank_num\n",
        "          From temp1\n",
        "          Left Join temp2 on temp1.user_id = temp2.user_id\n",
        "          where DATEDIFF(month, firstDate, datetime) between 0 and 12\n",
        "        ),\n",
        "        temp4 as (\n",
        "          Select distinct user_id, friend_id, month_num, 1 As Contact_Num\n",
        "          From temp3\n",
        "          where rank_num =1\n",
        "          UNION\n",
        "          Select distinct A.user_id as user_id,\n",
        "          B.friend_id as friend_id,\n",
        "          DATEDIFF(month, B.datetime, A.firstDate) as month_num,\n",
        "          2 AS Contact_Num\n",
        "          From temp3 A\n",
        "          Left JOIN temp3 B on A.friend_id = B.user_id\n",
        "          and A.user_id <> B.friend_id\n",
        "          where B.friend_id is not NULL\n",
        "          and DATEDIFF(month, B.datetime, A.firstDate) between 0 and 12\n",
        "        ),\n",
        "        temp5 as (\n",
        "          Select *,\n",
        "          row_number() OVER(PARTITION BY user_id, friend_id, month_num ORDER BY Contact_Num) AS rank_num\n",
        "          FROM temp4\n",
        "        ),\n",
        "        temp6 as (\n",
        "          Select user_id, month_num, friend_id\n",
        "          from temp5\n",
        "          where rank_num=1 and Contact_Num = 2\n",
        "        )\n",
        "        Select user_id, month_num,\n",
        "        collect_list(friend_id) OVER(PARTITION BY user_id order by month_num) AS friends_friends_list\n",
        "        from temp6\n",
        "        order by user_id, month_num\n",
        "\n",
        "\"\"\"\n",
        "\n",
        "dynamic_fof_list = spark.sql(query)\n",
        "dynamic_fof_list.show()"
      ],
      "metadata": {
        "colab": {
          "base_uri": "https://localhost:8080/"
        },
        "id": "EfW6c6lIwCSv",
        "outputId": "9829a4e2-af8c-451f-e2c0-2ce527d2ac9a"
      },
      "execution_count": null,
      "outputs": [
        {
          "output_type": "stream",
          "name": "stdout",
          "text": [
            "+--------+---------+--------------------+\n",
            "| user_id|month_num|friends_friends_list|\n",
            "+--------+---------+--------------------+\n",
            "| 1007396|        4|           [1586113]|\n",
            "|10279155|        3|           [2281739]|\n",
            "|10809899|        9|           [2285029]|\n",
            "| 1083330|        9|            [130950]|\n",
            "| 1084455|        5|            [397100]|\n",
            "| 1109017|        2|            [953789]|\n",
            "| 1111929|        3|           [1474414]|\n",
            "|11168716|       11|           [6248339]|\n",
            "| 1117183|        9|           [1995845]|\n",
            "| 1172062|        3|            [964699]|\n",
            "| 1179249|        1|            [535118]|\n",
            "| 1202240|        6|           [1744728]|\n",
            "| 1229847|        0|            [669367]|\n",
            "| 1232856|       12|           [2338080]|\n",
            "| 1243976|       10|           [3551154]|\n",
            "| 1246917|       10|           [2611312]|\n",
            "| 1344168|        7|           [1347032]|\n",
            "| 1375825|        6|           [3189875]|\n",
            "| 1378334|        5|           [5583707]|\n",
            "| 1383318|       12|            [987554]|\n",
            "+--------+---------+--------------------+\n",
            "only showing top 20 rows\n",
            "\n"
          ]
        }
      ]
    },
    {
      "cell_type": "code",
      "source": [
        "# List friends of friends for all users monthwise\n",
        "query = \"\"\" with temp1 as (\n",
        "          Select distinct user1 as user_id, user2 as friend_id,\n",
        "          datetime\n",
        "          From user_month\n",
        "          Union\n",
        "          Select distinct user2 as user_id, user1 as friend_id,\n",
        "          datetime\n",
        "          From user_month\n",
        "        ),\n",
        "        temp2 as (\n",
        "          Select user_id, min(datetime) as firstDate\n",
        "          From temp1\n",
        "          group by user_id\n",
        "        ),\n",
        "        temp3 as (\n",
        "          Select temp1.user_id as user_id, friend_id, datetime, firstDate,\n",
        "          DATEDIFF(month, firstDate, datetime) as month_num,\n",
        "          dense_rank() OVER(PARTITION BY temp1.user_id, friend_id ORDER BY datetime) AS rank_num\n",
        "          From temp1\n",
        "          Left Join temp2 on temp1.user_id = temp2.user_id\n",
        "          where DATEDIFF(month, firstDate, datetime) between 0 and 12\n",
        "        ),\n",
        "        temp4 as (\n",
        "          Select distinct user_id, friend_id, month_num, 1 As Contact_Num\n",
        "          From temp3\n",
        "          where rank_num =1\n",
        "          UNION\n",
        "          Select distinct A.user_id as user_id,\n",
        "          B.friend_id as friend_id,\n",
        "          DATEDIFF(month, B.datetime, A.firstDate) as month_num,\n",
        "          2 AS Contact_Num\n",
        "          From temp3 A\n",
        "          Left JOIN temp3 B on A.friend_id = B.user_id\n",
        "          and A.user_id <> B.friend_id\n",
        "          where B.friend_id is not NULL\n",
        "          and DATEDIFF(month, B.datetime, A.firstDate) between 0 and 12\n",
        "        ),\n",
        "        temp5 as (\n",
        "          Select *,\n",
        "          row_number() OVER(PARTITION BY user_id, friend_id, month_num ORDER BY Contact_Num) AS rank_num\n",
        "          FROM temp4\n",
        "        ),\n",
        "        temp6 as (\n",
        "          Select user_id, month_num, friend_id as friends_friends\n",
        "          from temp5\n",
        "          where rank_num=1 and Contact_Num = 2\n",
        "        ),\n",
        "        temp7 as (\n",
        "          Select distinct user_id,\n",
        "          month_num,\n",
        "          friend_id as friends\n",
        "          From temp3\n",
        "          where rank_num =1\n",
        "          ),\n",
        "        temp8 as (\n",
        "          Select dummy_month.user_id, dummy_month.month_num\n",
        "          ,friends\n",
        "          ,friends_friends\n",
        "          From dummy_month\n",
        "          Left JOIN temp7 on temp7.user_id = dummy_month.user_id and temp7.month_num = dummy_month.month_num\n",
        "          Left JOIN temp6 ON temp6.user_id = dummy_month.user_id and temp6.month_num = dummy_month.month_num\n",
        "          )\n",
        "          Select temp8.user_id as user_id, temp8.month_num as month_num\n",
        "        ,collect_list(friends) OVER(PARTITION BY user_id order by month_num) AS friends_list\n",
        "        ,collect_list(friends_friends) OVER(PARTITION BY user_id order by month_num) AS friends_friends_list\n",
        "        from temp8\n",
        "        order by user_id, month_num\n",
        "\n",
        "\"\"\"\n",
        "\n",
        "df_f_fof_list = spark.sql(query)\n",
        "df_f_fof_list.createOrReplaceTempView(\"df_f_fof_list\")\n",
        "df_f_fof_list.show()"
      ],
      "metadata": {
        "colab": {
          "base_uri": "https://localhost:8080/"
        },
        "id": "z8YdOc0tgeyo",
        "outputId": "32c09d92-9103-4842-b727-a93bdb1b528e"
      },
      "execution_count": null,
      "outputs": [
        {
          "output_type": "stream",
          "name": "stdout",
          "text": [
            "+-------+---------+------------+--------------------+\n",
            "|user_id|month_num|friends_list|friends_friends_list|\n",
            "+-------+---------+------------+--------------------+\n",
            "|     10|        0|     [71056]|                  []|\n",
            "|     10|        1|     [71056]|                  []|\n",
            "|     10|        2|     [71056]|                  []|\n",
            "|     10|        3|     [71056]|                  []|\n",
            "|     10|        4|     [71056]|                  []|\n",
            "|     10|        5|     [71056]|                  []|\n",
            "|     10|        6|     [71056]|             [47104]|\n",
            "|     10|        7|     [71056]|             [47104]|\n",
            "|     10|        8|     [71056]|             [47104]|\n",
            "|     10|        9|     [71056]|             [47104]|\n",
            "|     10|       10|     [71056]|             [47104]|\n",
            "|     10|       11|     [71056]|             [47104]|\n",
            "|     10|       12| [71056, 43]|             [47104]|\n",
            "|1000013|        0|    [882320]|                  []|\n",
            "|1000013|        1|    [882320]|                  []|\n",
            "|1000013|        2|    [882320]|                  []|\n",
            "|1000013|        3|    [882320]|                  []|\n",
            "|1000013|        4|    [882320]|                  []|\n",
            "|1000013|        5|    [882320]|                  []|\n",
            "|1000013|        6|    [882320]|                  []|\n",
            "+-------+---------+------------+--------------------+\n",
            "only showing top 20 rows\n",
            "\n"
          ]
        }
      ]
    },
    {
      "cell_type": "markdown",
      "metadata": {
        "id": "JRekvkXByRaY"
      },
      "source": [
        "### Clustering coefficient of a user's network"
      ]
    },
    {
      "cell_type": "code",
      "source": [
        "from pyspark.sql.window import Window"
      ],
      "metadata": {
        "id": "Oy80w29GBB7o"
      },
      "execution_count": null,
      "outputs": []
    },
    {
      "cell_type": "code",
      "source": [
        "# Define a window specification to partition the data by user_id and order by month\n",
        "windowSpec = Window.partitionBy(\"user_id\").orderBy(\"month_num\")"
      ],
      "metadata": {
        "id": "EWZNSqpSbwwj"
      },
      "execution_count": null,
      "outputs": []
    },
    {
      "cell_type": "code",
      "source": [
        "# Calculate the clustering coefficient month-wise\n",
        "df_f_fof = df_f_fof.withColumn(\"triangles\", (df_f_fof[\"friends_count_cum\"] * (df_f_fof[\"friends_count_cum\"] - 1)) / 2)\n",
        "df_f_fof.show()"
      ],
      "metadata": {
        "colab": {
          "base_uri": "https://localhost:8080/"
        },
        "id": "IUg-Qe0ebzob",
        "outputId": "2c438377-4fbc-4f46-f38f-9a49240b5d30"
      },
      "execution_count": null,
      "outputs": [
        {
          "output_type": "stream",
          "name": "stdout",
          "text": [
            "+-------+---------+-----------------+-------------------------+---------+\n",
            "|user_id|month_num|friends_count_cum|friends_friends_count_cum|triangles|\n",
            "+-------+---------+-----------------+-------------------------+---------+\n",
            "|     10|        0|                1|                        0|      0.0|\n",
            "|     10|        1|                1|                        0|      0.0|\n",
            "|     10|        2|                1|                        0|      0.0|\n",
            "|     10|        3|                1|                        0|      0.0|\n",
            "|     10|        4|                1|                        0|      0.0|\n",
            "|     10|        5|                1|                        0|      0.0|\n",
            "|     10|        6|                1|                        1|      0.0|\n",
            "|     10|        7|                1|                        1|      0.0|\n",
            "|     10|        8|                1|                        1|      0.0|\n",
            "|     10|        9|                1|                        1|      0.0|\n",
            "|     10|       10|                1|                        1|      0.0|\n",
            "|     10|       11|                1|                        1|      0.0|\n",
            "|     10|       12|                2|                        1|      1.0|\n",
            "|1000013|        0|                1|                        0|      0.0|\n",
            "|1000013|        1|                1|                        0|      0.0|\n",
            "|1000013|        2|                1|                        0|      0.0|\n",
            "|1000013|        3|                1|                        0|      0.0|\n",
            "|1000013|        4|                1|                        0|      0.0|\n",
            "|1000013|        5|                1|                        0|      0.0|\n",
            "|1000013|        6|                1|                        0|      0.0|\n",
            "+-------+---------+-----------------+-------------------------+---------+\n",
            "only showing top 20 rows\n",
            "\n"
          ]
        }
      ]
    },
    {
      "cell_type": "code",
      "source": [
        "df_f_fof = df_f_fof.withColumn(\"possible_triangles\", (df_f_fof[\"friends_count_cum\"] + df_f_fof[\"friends_friends_count_cum\"]) * (df_f_fof[\"friends_count_cum\"] + df_f_fof[\"friends_friends_count_cum\"] - 1) / 2)\n",
        "df_f_fof.show()"
      ],
      "metadata": {
        "colab": {
          "base_uri": "https://localhost:8080/"
        },
        "id": "REpt8la4cw3x",
        "outputId": "1a9c4c5c-dc8c-495e-eb33-e32cad930168"
      },
      "execution_count": null,
      "outputs": [
        {
          "output_type": "stream",
          "name": "stdout",
          "text": [
            "+-------+---------+-----------------+-------------------------+---------+------------------+\n",
            "|user_id|month_num|friends_count_cum|friends_friends_count_cum|triangles|possible_triangles|\n",
            "+-------+---------+-----------------+-------------------------+---------+------------------+\n",
            "|     10|        0|                1|                        0|      0.0|               0.0|\n",
            "|     10|        1|                1|                        0|      0.0|               0.0|\n",
            "|     10|        2|                1|                        0|      0.0|               0.0|\n",
            "|     10|        3|                1|                        0|      0.0|               0.0|\n",
            "|     10|        4|                1|                        0|      0.0|               0.0|\n",
            "|     10|        5|                1|                        0|      0.0|               0.0|\n",
            "|     10|        6|                1|                        1|      0.0|               1.0|\n",
            "|     10|        7|                1|                        1|      0.0|               1.0|\n",
            "|     10|        8|                1|                        1|      0.0|               1.0|\n",
            "|     10|        9|                1|                        1|      0.0|               1.0|\n",
            "|     10|       10|                1|                        1|      0.0|               1.0|\n",
            "|     10|       11|                1|                        1|      0.0|               1.0|\n",
            "|     10|       12|                2|                        1|      1.0|               3.0|\n",
            "|1000013|        0|                1|                        0|      0.0|               0.0|\n",
            "|1000013|        1|                1|                        0|      0.0|               0.0|\n",
            "|1000013|        2|                1|                        0|      0.0|               0.0|\n",
            "|1000013|        3|                1|                        0|      0.0|               0.0|\n",
            "|1000013|        4|                1|                        0|      0.0|               0.0|\n",
            "|1000013|        5|                1|                        0|      0.0|               0.0|\n",
            "|1000013|        6|                1|                        0|      0.0|               0.0|\n",
            "+-------+---------+-----------------+-------------------------+---------+------------------+\n",
            "only showing top 20 rows\n",
            "\n"
          ]
        }
      ]
    },
    {
      "cell_type": "code",
      "source": [
        "df_f_fof = df_f_fof.withColumn(\"clustering_coefficient\", F.when(df_f_fof[\"possible_triangles\"] > 0, df_f_fof[\"triangles\"] / df_f_fof[\"possible_triangles\"]).otherwise(0))\n",
        "df_f_fof.createOrReplaceTempView(\"df_f_fof\")\n",
        "df_f_fof.show()"
      ],
      "metadata": {
        "colab": {
          "base_uri": "https://localhost:8080/"
        },
        "id": "V06XWbXqdfnX",
        "outputId": "ed865d17-3c3a-49d9-cd47-67fb36486a9a"
      },
      "execution_count": null,
      "outputs": [
        {
          "output_type": "stream",
          "name": "stdout",
          "text": [
            "+-------+---------+-----------------+-------------------------+---------+------------------+----------------------+\n",
            "|user_id|month_num|friends_count_cum|friends_friends_count_cum|triangles|possible_triangles|clustering_coefficient|\n",
            "+-------+---------+-----------------+-------------------------+---------+------------------+----------------------+\n",
            "|     10|        0|                1|                        0|      0.0|               0.0|                   0.0|\n",
            "|     10|        1|                1|                        0|      0.0|               0.0|                   0.0|\n",
            "|     10|        2|                1|                        0|      0.0|               0.0|                   0.0|\n",
            "|     10|        3|                1|                        0|      0.0|               0.0|                   0.0|\n",
            "|     10|        4|                1|                        0|      0.0|               0.0|                   0.0|\n",
            "|     10|        5|                1|                        0|      0.0|               0.0|                   0.0|\n",
            "|     10|        6|                1|                        1|      0.0|               1.0|                   0.0|\n",
            "|     10|        7|                1|                        1|      0.0|               1.0|                   0.0|\n",
            "|     10|        8|                1|                        1|      0.0|               1.0|                   0.0|\n",
            "|     10|        9|                1|                        1|      0.0|               1.0|                   0.0|\n",
            "|     10|       10|                1|                        1|      0.0|               1.0|                   0.0|\n",
            "|     10|       11|                1|                        1|      0.0|               1.0|                   0.0|\n",
            "|     10|       12|                2|                        1|      1.0|               3.0|    0.3333333333333333|\n",
            "|1000013|        0|                1|                        0|      0.0|               0.0|                   0.0|\n",
            "|1000013|        1|                1|                        0|      0.0|               0.0|                   0.0|\n",
            "|1000013|        2|                1|                        0|      0.0|               0.0|                   0.0|\n",
            "|1000013|        3|                1|                        0|      0.0|               0.0|                   0.0|\n",
            "|1000013|        4|                1|                        0|      0.0|               0.0|                   0.0|\n",
            "|1000013|        5|                1|                        0|      0.0|               0.0|                   0.0|\n",
            "|1000013|        6|                1|                        0|      0.0|               0.0|                   0.0|\n",
            "+-------+---------+-----------------+-------------------------+---------+------------------+----------------------+\n",
            "only showing top 20 rows\n",
            "\n"
          ]
        }
      ]
    },
    {
      "cell_type": "markdown",
      "metadata": {
        "id": "DVRSV2fJxHoQ"
      },
      "source": [
        "### Page rank of each user"
      ]
    },
    {
      "cell_type": "code",
      "source": [
        "from graphframes import GraphFrame"
      ],
      "metadata": {
        "id": "nEmLsL-dxCIQ"
      },
      "execution_count": null,
      "outputs": []
    },
    {
      "cell_type": "code",
      "source": [
        "vertices = user_friends.selectExpr(\"user_id as id\").distinct()\n",
        "edges = user_friends.selectExpr(\"user_id as src\", \"friend_id as dst\")\n",
        "graph = GraphFrame(vertices, edges)\n",
        "pagerank = graph.pageRank(resetProbability=0.15, tol=0.01)\n",
        "df_pagerank = pagerank.vertices.selectExpr(\"id as user_id\", \"pagerank\").orderBy(\"pagerank\", ascending=False)\n",
        "df_pagerank.createOrReplaceTempView(\"df_pagerank\")\n",
        "df_pagerank.show()"
      ],
      "metadata": {
        "id": "2qNOowP8yM6Q",
        "colab": {
          "base_uri": "https://localhost:8080/"
        },
        "outputId": "581c939e-c433-412e-c2d2-5fe69ec976a9"
      },
      "execution_count": null,
      "outputs": [
        {
          "output_type": "stream",
          "name": "stderr",
          "text": [
            "/usr/local/lib/python3.10/dist-packages/pyspark/sql/dataframe.py:169: UserWarning: DataFrame.sql_ctx is an internal property, and will be removed in future releases. Use DataFrame.sparkSession instead.\n",
            "  warnings.warn(\n",
            "/usr/local/lib/python3.10/dist-packages/pyspark/sql/dataframe.py:148: UserWarning: DataFrame constructor is internal. Do not directly use it.\n",
            "  warnings.warn(\"DataFrame constructor is internal. Do not directly use it.\")\n"
          ]
        },
        {
          "output_type": "stream",
          "name": "stdout",
          "text": [
            "+-------+------------------+\n",
            "|user_id|          pagerank|\n",
            "+-------+------------------+\n",
            "|1002607| 9.569389128569794|\n",
            "| 820531| 6.602097862209916|\n",
            "|6671483|2.7174323451866407|\n",
            "|1116467|2.3004584985886547|\n",
            "| 170573|2.3004584985886547|\n",
            "|2076699|2.3004584985886547|\n",
            "| 351821|2.3004584985886547|\n",
            "|1265238|2.3004584985886547|\n",
            "| 724531|2.3004584985886547|\n",
            "| 354930|2.3004584985886547|\n",
            "| 759712|2.3004584985886547|\n",
            "| 248224|2.2209268318494257|\n",
            "| 831087|2.1949498763871733|\n",
            "| 433480| 2.194949876387173|\n",
            "| 537760| 2.194949876387173|\n",
            "|2581403|2.1047283031943644|\n",
            "|1227346|2.1047283031943644|\n",
            "| 613769|2.0391985842582367|\n",
            "|1738566|2.0328780183573394|\n",
            "| 185517|  2.01448310594115|\n",
            "+-------+------------------+\n",
            "only showing top 20 rows\n",
            "\n"
          ]
        }
      ]
    },
    {
      "cell_type": "markdown",
      "source": [
        "### Final SNA output"
      ],
      "metadata": {
        "id": "CeN_LNp4IIrk"
      }
    },
    {
      "cell_type": "code",
      "source": [
        "# Count friends of friends for all users\n",
        "query = \"\"\"\n",
        "        Select A.user_id, A.month_num\n",
        "        ,friends_count_cum\n",
        "        ,friends_friends_count_cum\n",
        "        ,clustering_coefficient\n",
        "        ,pagerank\n",
        "        from df_f_fof A\n",
        "        Left Join df_pagerank B on A.user_id = B.user_id\n",
        "        order by user_id, month_num\n",
        "\"\"\"\n",
        "\n",
        "df_venmo_sna = spark.sql(query)\n",
        "df_venmo_sna.createOrReplaceTempView(\"df_venmo_sna\")\n",
        "df_venmo_sna.show()"
      ],
      "metadata": {
        "colab": {
          "base_uri": "https://localhost:8080/"
        },
        "id": "9H2fndUtALx2",
        "outputId": "030f240a-f484-4b90-9acb-c4ffa21dc673"
      },
      "execution_count": null,
      "outputs": [
        {
          "output_type": "stream",
          "name": "stdout",
          "text": [
            "+-------+---------+-----------------+-------------------------+----------------------+------------------+\n",
            "|user_id|month_num|friends_count_cum|friends_friends_count_cum|clustering_coefficient|          pagerank|\n",
            "+-------+---------+-----------------+-------------------------+----------------------+------------------+\n",
            "|     10|        0|                1|                        0|                   0.0|1.2772318716875664|\n",
            "|     10|        1|                1|                        0|                   0.0|1.2772318716875664|\n",
            "|     10|        2|                1|                        0|                   0.0|1.2772318716875664|\n",
            "|     10|        3|                1|                        0|                   0.0|1.2772318716875664|\n",
            "|     10|        4|                1|                        0|                   0.0|1.2772318716875664|\n",
            "|     10|        5|                1|                        0|                   0.0|1.2772318716875664|\n",
            "|     10|        6|                1|                        1|                   0.0|1.2772318716875664|\n",
            "|     10|        7|                1|                        1|                   0.0|1.2772318716875664|\n",
            "|     10|        8|                1|                        1|                   0.0|1.2772318716875664|\n",
            "|     10|        9|                1|                        1|                   0.0|1.2772318716875664|\n",
            "|     10|       10|                1|                        1|                   0.0|1.2772318716875664|\n",
            "|     10|       11|                1|                        1|                   0.0|1.2772318716875664|\n",
            "|     10|       12|                2|                        1|    0.3333333333333333|1.2772318716875664|\n",
            "|1000013|        0|                1|                        0|                   0.0|1.0016935844938735|\n",
            "|1000013|        1|                1|                        0|                   0.0|1.0016935844938735|\n",
            "|1000013|        2|                1|                        0|                   0.0|1.0016935844938735|\n",
            "|1000013|        3|                1|                        0|                   0.0|1.0016935844938735|\n",
            "|1000013|        4|                1|                        0|                   0.0|1.0016935844938735|\n",
            "|1000013|        5|                1|                        0|                   0.0|1.0016935844938735|\n",
            "|1000013|        6|                1|                        0|                   0.0|1.0016935844938735|\n",
            "+-------+---------+-----------------+-------------------------+----------------------+------------------+\n",
            "only showing top 20 rows\n",
            "\n"
          ]
        }
      ]
    },
    {
      "cell_type": "code",
      "source": [
        "# df_venmo_sna.write.csv(\"venmo_sna.csv\", header=True, mode=\"overwrite\")"
      ],
      "metadata": {
        "id": "hM9HQbo0uIgU"
      },
      "execution_count": null,
      "outputs": []
    },
    {
      "cell_type": "markdown",
      "source": [
        "# Predictive Analytics with MLlib"
      ],
      "metadata": {
        "id": "GhQz_IPwRpYk"
      }
    },
    {
      "cell_type": "code",
      "source": [
        "spark = SparkSession\\\n",
        "        .builder\\\n",
        "        .getOrCreate()"
      ],
      "metadata": {
        "id": "X0uRQrwiSFma"
      },
      "execution_count": null,
      "outputs": []
    },
    {
      "cell_type": "markdown",
      "source": [
        "### How many transactions user had committed during her/his twelve months in Venmo? (Y variable for the predictive analytics)"
      ],
      "metadata": {
        "id": "KbaNhxaapIQu"
      }
    },
    {
      "cell_type": "code",
      "source": [
        "# SparkSession setup\n",
        "spark = SparkSession.builder.appName(\"Venmo\").getOrCreate()\n",
        "\n",
        "# Loading the dataset\n",
        "dataframe = spark.read.parquet(\"VenmoSample.snappy.parquet\")\n",
        "# Isolating unique user1 IDs\n",
        "distinct_user1_ids = dataframe.select(\"user1\").distinct()\n",
        "\n",
        "# Subsetting 10% of the user1 IDs randomly\n",
        "random_subset_ids = distinct_user1_ids.sample(withReplacement=False, fraction=0.01, seed=11111)\n",
        "\n",
        "random_subset_ids.show()\n",
        "\n",
        "# Filtering the original dataset with the subset of user1 IDs\n",
        "filtered_dataframe = dataframe.join(random_subset_ids, on=\"user1\")\n",
        "\n",
        "filtered_dataframe.show()\n",
        "\n",
        "filtered_dataframe.createOrReplaceTempView(\"Sample\")\n",
        "\n",
        "from pyspark.sql import functions as F\n",
        "\n",
        "# Calculate max and min dates for each user\n",
        "date_ranges = filtered_dataframe.groupBy(\"user1\").agg(\n",
        "    F.max(\"datetime\").alias(\"last_transaction\"),\n",
        "    F.min(\"datetime\").alias(\"first_transaction\")\n",
        ")\n",
        "\n",
        "# Filter users who have been on the platform for over a year\n",
        "valid_users = date_ranges.filter(\n",
        "    F.datediff(F.col(\"last_transaction\"), F.col(\"first_transaction\")) > 365\n",
        ")\n",
        "\n",
        "# Join back to the original dataframe to retain transaction records along with last_transaction\n",
        "valid_transactions = filtered_dataframe.join(\n",
        "    valid_users,\n",
        "    on=\"user1\"\n",
        ")\n",
        "\n",
        "# Calculate the total number of transactions in the first year for each user\n",
        "transactions_count = valid_transactions.filter(\n",
        "    (F.col(\"datetime\") >= F.date_sub(F.col(\"last_transaction\"), 365)) &\n",
        "    (F.col(\"datetime\") <= F.col(\"last_transaction\"))\n",
        ").groupBy(\"user1\").agg(\n",
        "    F.count(\"datetime\").alias(\"total_transactions\")\n",
        ")\n",
        "\n",
        "transactions_count.show()"
      ],
      "metadata": {
        "colab": {
          "base_uri": "https://localhost:8080/"
        },
        "id": "Oosj4yFWpFNi",
        "outputId": "863acbf8-3ba0-4c3c-a650-a3c94e2faaf6"
      },
      "execution_count": null,
      "outputs": [
        {
          "output_type": "stream",
          "name": "stdout",
          "text": [
            "+-------+\n",
            "|  user1|\n",
            "+-------+\n",
            "|   6620|\n",
            "| 243392|\n",
            "| 317828|\n",
            "| 321666|\n",
            "| 333479|\n",
            "| 619248|\n",
            "| 663961|\n",
            "| 707930|\n",
            "| 731446|\n",
            "| 750639|\n",
            "| 751485|\n",
            "| 768789|\n",
            "| 900004|\n",
            "| 934818|\n",
            "| 971791|\n",
            "|1056442|\n",
            "|1074192|\n",
            "|1162591|\n",
            "|1285756|\n",
            "|1330274|\n",
            "+-------+\n",
            "only showing top 20 rows\n",
            "\n",
            "+-------+-------+----------------+-------------------+--------------------+-----------+--------------------+\n",
            "|  user1|  user2|transaction_type|           datetime|         description|is_business|            story_id|\n",
            "+-------+-------+----------------+-------------------+--------------------+-----------+--------------------+\n",
            "|1582311| 880966|         payment|2016-05-19 21:49:27|          🏰🌠🎠🎆🚗|      false|573dd277cd03c9af2...|\n",
            "|1136626|3288280|          charge|2016-07-17 19:34:52|            THE DOME|      false|578b7b6c23e064eac...|\n",
            "|2383212|2045295|         payment|2016-01-31 05:08:16|                  🍺|      false|56ad2640cd03c9af2...|\n",
            "|2257760|1933300|         payment|2016-02-06 05:24:19|                  🐭|      false|56b51303cd03c9af2...|\n",
            "|6477174|3529055|         payment|2016-05-23 08:15:37|                🎉🍽|      false|574259b9cd03c9af2...|\n",
            "| 387392| 535788|         payment|2014-12-06 04:47:27|              🐔🐥🐣|      false|548219dffe5f22c0b...|\n",
            "|5397688|2825242|         payment|2015-08-04 08:11:57|         Fried balls|      false|55c0115e5d6cc819a...|\n",
            "|2652941|2008848|         payment|2015-12-01 00:55:56|           Paulieeee|      false|565c7f9ccd03c9af2...|\n",
            "| 943545|2417306|         payment|2016-05-06 07:00:47|                🌮🍷|      false|572bdeafcd03c9af2...|\n",
            "|1016167|3378360|         payment|2016-09-18 14:31:23|            Belmonts|      false|57de42cb23e064eac...|\n",
            "|5396538|8790036|         payment|2016-07-22 08:19:21|                🏠💸|      false|5791749923e064eac...|\n",
            "|2068886|8986632|         payment|2016-05-04 22:59:12|   Installs Ad!!! 😎|      false|572a1c50cd03c9af2...|\n",
            "|2908182|7468842|          charge|2016-04-24 00:48:57|   Brudderhood event|      false|571bb589cd03c9af2...|\n",
            "|4505943|2232284|         payment|2015-08-18 07:16:18| Chinese and beer 🍃|      false|55d27952583c0412f...|\n",
            "|1319361|1404004|         payment|2016-05-25 08:22:39|                🍵🍕|      false|5744fe5fcd03c9af2...|\n",
            "| 332591| 180630|          charge|2014-11-14 02:24:09|Cable Gas and Ele...|      false|5464f7497d0b0354e...|\n",
            "|6224071|1025926|         payment|2016-03-04 14:14:58|              ☀️🌊🎉|      false|56d927e2cd03c9af2...|\n",
            "| 346145|1238063|         payment|2014-11-27 16:39:54|                  🍗|      false|5476e35a0cfa78941...|\n",
            "|  59891| 144581|          charge|2013-08-26 03:46:07|   for bike headlamp|      false|521a6d0fd56b6bac5...|\n",
            "|2906690|5005360|         payment|2015-07-27 06:24:32|       Gas &7-Eleven|      false|55b56c301a3b582ca...|\n",
            "+-------+-------+----------------+-------------------+--------------------+-----------+--------------------+\n",
            "only showing top 20 rows\n",
            "\n",
            "+-------+------------------+\n",
            "|  user1|total_transactions|\n",
            "+-------+------------------+\n",
            "|4207530|                 6|\n",
            "|2262896|                17|\n",
            "|1677250|                 5|\n",
            "|1849772|                 5|\n",
            "|2232389|                 4|\n",
            "|2318886|                 6|\n",
            "|3443754|                13|\n",
            "|5841051|                 5|\n",
            "|1588738|                10|\n",
            "| 220404|                 1|\n",
            "|1253375|                 2|\n",
            "| 753766|                 5|\n",
            "|2554348|                 7|\n",
            "|1972255|                 4|\n",
            "|3932144|                 2|\n",
            "|2705642|                 2|\n",
            "| 618678|                12|\n",
            "| 809364|                 2|\n",
            "| 533484|                 1|\n",
            "| 846231|                 1|\n",
            "+-------+------------------+\n",
            "only showing top 20 rows\n",
            "\n"
          ]
        }
      ]
    },
    {
      "cell_type": "markdown",
      "source": [
        "### Creating recency and frequency variables for CRM RFM framework. Here, we don’t have monetary amounts, so we will focus on just RF.\n",
        "\n",
        "Recency refers to the last time a user was active, and frequency is how often a user uses Venmo in a month."
      ],
      "metadata": {
        "id": "vKeYwMyrpS4a"
      }
    },
    {
      "cell_type": "code",
      "source": [
        "from pyspark.sql import functions as F\n",
        "from pyspark.sql import SparkSession\n",
        "from pyspark.sql.functions import col\n",
        "from pyspark.sql.window import Window  # Importing the Window class\n",
        "\n",
        "# Convert datetime to date\n",
        "valid_transactions = valid_transactions.withColumn('transaction_date', F.to_date('datetime'))\n",
        "\n",
        "# Define window partitioned by user1\n",
        "user_window = Window.partitionBy('user1')\n",
        "\n",
        "# Find the most recent transaction date for each user and calculate the difference in days and months\n",
        "valid_transactions = valid_transactions.withColumn('latest_transaction_date', F.max('transaction_date').over(user_window))\n",
        "valid_transactions = valid_transactions.withColumn('days_since_transaction', F.datediff('latest_transaction_date', 'transaction_date'))\n",
        "valid_transactions = valid_transactions.withColumn('lifetime_point', (valid_transactions['days_since_transaction'] / 30).cast('integer'))\n",
        "\n",
        "# Filter out transactions that occurred after the first 12 months\n",
        "valid_transactions = valid_transactions.filter(valid_transactions.lifetime_point <= 11)\n",
        "\n",
        "# Group transactions by user1 and months_since_transaction\n",
        "grouped_transactions = valid_transactions.groupBy('user1', 'lifetime_point')\n",
        "\n",
        "# Calculate recency and frequency for each group\n",
        "recency_and_frequency = grouped_transactions.agg(\n",
        "    # Recency is calculated as the maximum number of days in a month (30) minus the maximum number of days since a transaction in that month\n",
        "    (30 * (F.col('lifetime_point') + 1) - F.max('days_since_transaction')).alias('recency'),\n",
        "\n",
        "    # Frequency is calculated as the number of days in a month (30) divided by the number of transactions in that month\n",
        "    (30 / F.count('*')).alias('frequency')\n",
        ")\n",
        "\n",
        "recency_and_frequency.show()"
      ],
      "metadata": {
        "colab": {
          "base_uri": "https://localhost:8080/"
        },
        "id": "koCfblPppPH0",
        "outputId": "a99ccfb6-9561-450d-f98c-910dabf69b8e"
      },
      "execution_count": null,
      "outputs": [
        {
          "output_type": "stream",
          "name": "stdout",
          "text": [
            "+-----+--------------+-------+---------+\n",
            "|user1|lifetime_point|recency|frequency|\n",
            "+-----+--------------+-------+---------+\n",
            "| 5232|             7|     13|     15.0|\n",
            "| 5232|             9|      3|     30.0|\n",
            "| 5232|             0|     30|     30.0|\n",
            "| 5232|             8|     10|     30.0|\n",
            "|36513|             0|     30|     30.0|\n",
            "|46520|             0|     12|     10.0|\n",
            "|46520|             4|      2|     10.0|\n",
            "|46520|             3|     28|     15.0|\n",
            "|46520|             7|      3|     10.0|\n",
            "|46520|             6|     27|     30.0|\n",
            "|49505|             0|      5|     15.0|\n",
            "|49577|             7|      9|     15.0|\n",
            "|49577|             5|     14|     30.0|\n",
            "|49577|             0|     30|     30.0|\n",
            "|52525|             0|     30|     30.0|\n",
            "|62177|             0|     30|     30.0|\n",
            "|65802|            11|      7|     30.0|\n",
            "|65802|             6|     16|     30.0|\n",
            "|65802|             1|     11|     15.0|\n",
            "|65802|             0|     14|     15.0|\n",
            "+-----+--------------+-------+---------+\n",
            "only showing top 20 rows\n",
            "\n"
          ]
        }
      ]
    },
    {
      "cell_type": "markdown",
      "source": [
        "### Regress recency and frequency on Total Transactions"
      ],
      "metadata": {
        "id": "XEWq0goXpd8u"
      }
    },
    {
      "cell_type": "code",
      "source": [
        "# Join the two dataframes\n",
        "combined_df = recency_and_frequency.join(transactions_count, on='user1', how='inner')\n",
        "\n",
        "# Show the combined dataframe\n",
        "combined_df.show()\n",
        "\n",
        "combined_df_single_partition = combined_df.coalesce(1)\n",
        "\n",
        "# Save the combined dataframe as a single CSV file\n",
        "combined_df_single_partition.write.csv(\"combined_df.csv\", header=True, mode=\"overwrite\")"
      ],
      "metadata": {
        "colab": {
          "base_uri": "https://localhost:8080/"
        },
        "id": "DlS9xmM0piUL",
        "outputId": "b2ef4939-2b76-4a04-9f3d-17748d624921"
      },
      "execution_count": null,
      "outputs": [
        {
          "output_type": "stream",
          "name": "stdout",
          "text": [
            "+-----+--------------+-------+---------+------------------+\n",
            "|user1|lifetime_point|recency|frequency|total_transactions|\n",
            "+-----+--------------+-------+---------+------------------+\n",
            "| 5232|             7|     13|     15.0|                 5|\n",
            "| 5232|             9|      3|     30.0|                 5|\n",
            "| 5232|             0|     30|     30.0|                 5|\n",
            "| 5232|             8|     10|     30.0|                 5|\n",
            "|36513|             0|     30|     30.0|                 1|\n",
            "|46520|             0|     12|     10.0|                12|\n",
            "|46520|             4|      2|     10.0|                12|\n",
            "|46520|             3|     28|     15.0|                12|\n",
            "|46520|             7|      3|     10.0|                12|\n",
            "|46520|             6|     27|     30.0|                12|\n",
            "|49505|             0|      5|     15.0|                 2|\n",
            "|49577|             7|      9|     15.0|                 4|\n",
            "|49577|             5|     14|     30.0|                 4|\n",
            "|49577|             0|     30|     30.0|                 4|\n",
            "|52525|             0|     30|     30.0|                 1|\n",
            "|62177|             0|     30|     30.0|                 1|\n",
            "|65802|            11|      7|     30.0|                 7|\n",
            "|65802|             6|     16|     30.0|                 7|\n",
            "|65802|             1|     11|     15.0|                 7|\n",
            "|65802|             0|     14|     15.0|                 7|\n",
            "+-----+--------------+-------+---------+------------------+\n",
            "only showing top 20 rows\n",
            "\n"
          ]
        }
      ]
    },
    {
      "cell_type": "code",
      "source": [
        "from pyspark.ml.regression import LinearRegression\n",
        "from pyspark.ml.feature import VectorAssembler\n",
        "import matplotlib.pyplot as plt\n",
        "\n",
        "mse_dict = {}\n",
        "\n",
        "for i in range(13):\n",
        "    filtered_df = combined_df.filter(combined_df.lifetime_point == i)\n",
        "\n",
        "    if filtered_df.count() == 0:\n",
        "        continue\n",
        "\n",
        "    train_data, test_data = filtered_df.randomSplit([0.8, 0.2], seed=42)\n",
        "\n",
        "    assembler = VectorAssembler(inputCols=[\"recency\", \"frequency\"], outputCol=\"features\")\n",
        "\n",
        "    train_data = assembler.transform(train_data)\n",
        "    test_data = assembler.transform(test_data)\n",
        "\n",
        "    train_dataset = train_data.select(\"features\", \"total_transactions\").withColumnRenamed(\"total_transactions\", \"Y\")\n",
        "    test_dataset = test_data.select(\"features\", \"total_transactions\").withColumnRenamed(\"total_transactions\", \"Y\")\n",
        "\n",
        "    lr = LinearRegression(featuresCol=\"features\", labelCol=\"Y\")\n",
        "\n",
        "    lr_model = lr.fit(train_dataset)\n",
        "\n",
        "    predictions = lr_model.transform(test_dataset)\n",
        "\n",
        "    mse = predictions.selectExpr(\"POWER((Y - prediction), 2) as mse\").groupBy().mean(\"mse\").collect()[0][0]\n",
        "    mse_dict[i] = mse\n",
        "\n",
        "plt.figure(figsize=(8, 6))\n",
        "plt.plot(range(12), mse_dict.values(), marker='o')\n",
        "plt.xlabel(\"Lifetime Point\")\n",
        "plt.ylabel(\"MSE\")\n",
        "plt.title(\"MSE for Each Lifetime Point\")\n",
        "plt.show()"
      ],
      "metadata": {
        "colab": {
          "base_uri": "https://localhost:8080/",
          "height": 564
        },
        "id": "RTAa1W_-pvGZ",
        "outputId": "b8eb9851-9526-4832-a1a1-49936db314f0"
      },
      "execution_count": null,
      "outputs": [
        {
          "output_type": "display_data",
          "data": {
            "text/plain": [
              "<Figure size 800x600 with 1 Axes>"
            ],
            "image/png": "[encoded data removed]"
          },
          "metadata": {}
        }
      ]
    },
    {
      "cell_type": "markdown",
      "source": [
        "The predictive accuracy of recency and frequency in determining the total number of transactions improves and stabilizes over time, but there may be other influential factors during the early stages that contribute to the variability in the predictions.\n"
      ],
      "metadata": {
        "id": "d8sMxlTx9DDM"
      }
    },
    {
      "cell_type": "markdown",
      "source": [
        "### Regress recency, frequency AND the spending behavior profile on total transations."
      ],
      "metadata": {
        "id": "_fI878havJkY"
      }
    },
    {
      "cell_type": "code",
      "source": [
        "from pyspark.sql import SparkSession\n",
        "\n",
        "spark = SparkSession.builder.appName('loadData').getOrCreate()\n",
        "\n",
        "file_path = 'Customer behvaior.csv'\n",
        "customer_behavior = spark.read.csv(file_path, header=True)\n",
        "\n",
        "# To see the first few rows of the loaded data\n",
        "customer_behavior.show()"
      ],
      "metadata": {
        "colab": {
          "base_uri": "https://localhost:8080/"
        },
        "id": "ZGysZo4evINc",
        "outputId": "fc7df157-a7f5-4677-8da8-e4bcc87680b0"
      },
      "execution_count": null,
      "outputs": [
        {
          "output_type": "stream",
          "name": "stdout",
          "text": [
            "+--------+-----+--------+----+-----+-----+--------------+------+--------------+------+-------+------------------+\n",
            "|   user1|month|Activity|Cash|Event| Food|IllegalSarcasm|People|Transportation|Travel|Utility|dynamic_percentage|\n",
            "+--------+-----+--------+----+-----+-----+--------------+------+--------------+------+-------+------------------+\n",
            "| 1000013|    6|       0|   0|    0|100.0|             0|     0|             0|     0|      0|             100.0|\n",
            "| 1000057|    5|       0|   0|    0|100.0|             0|     0|             0|     0|      0|             100.0|\n",
            "|10000940|    4|   100.0|   0|    0|    0|             0|     0|             0|     0|      0|             100.0|\n",
            "|10003651|    4|       0|   0|    0|    0|             0|     0|             0|     0|  100.0|             100.0|\n",
            "| 1000387|    1|       0|   0|    0|    0|             0|     0|             0|     0|  100.0|             100.0|\n",
            "| 1000501|   10|       0|   0|    0|    0|             0|     0|             0|     0|  100.0|             100.0|\n",
            "| 1000535|   10|       0|   0|    0|    0|             0|     0|         100.0|     0|      0|             100.0|\n",
            "|10005784|    6|       0|   0|    0|    0|         100.0|     0|             0|     0|      0|             100.0|\n",
            "| 1000628|    8|   100.0|   0|    0|    0|             0|     0|             0|     0|      0|             100.0|\n",
            "|10007866|    7|       0|   0|    0|100.0|             0|     0|             0|     0|      0|             100.0|\n",
            "| 1000864|    4|       0|   0|    0|100.0|             0|     0|             0|     0|      0|             100.0|\n",
            "| 1001157|   11|       0|   0|    0|    0|             0|     0|             0|     0|  100.0|             100.0|\n",
            "| 1001184|    7|       0|   0|    0|    0|             0|     0|             0|     0|  100.0|             100.0|\n",
            "|10013427|    4|   100.0|   0|    0|    0|             0|     0|             0|     0|      0|             100.0|\n",
            "|10017665|    4|       0|   0|    0|    0|             0|     0|             0|     0|  100.0|             100.0|\n",
            "|10019023|   10|       0|   0|    0|100.0|             0|     0|             0|     0|      0|             100.0|\n",
            "| 1002102|    5|       0|   0|100.0|    0|             0|     0|             0|     0|      0|             100.0|\n",
            "| 1002240|    6|       0|   0|    0|100.0|             0|     0|             0|     0|      0|             100.0|\n",
            "|10023521|    8|       0|   0|    0|100.0|             0|     0|             0|     0|      0|             100.0|\n",
            "| 1002514|    6|       0|   0|    0|    0|             0| 100.0|             0|     0|      0|             100.0|\n",
            "+--------+-----+--------+----+-----+-----+--------------+------+--------------+------+-------+------------------+\n",
            "only showing top 20 rows\n",
            "\n"
          ]
        }
      ]
    },
    {
      "cell_type": "code",
      "source": [
        "from pyspark.sql import SparkSession\n",
        "from pyspark.sql.functions import col\n",
        "customer_behavior.createOrReplaceTempView(\"customer_behavior\")\n",
        "recency_and_frequency.createOrReplaceTempView(\"recency_and_frequency\")\n",
        "transactions_count.createOrReplaceTempView(\"transactions_count\")\n",
        "df_regression2 = spark.sql(\"\"\"\n",
        "select transactions_count.user1, lifetime_point, recency, frequency, Activity, Cash, Event, Food, IllegalSarcasm, People, Transportation, Travel, Utility, total_transactions as Y\n",
        "from customer_behavior\n",
        "join transactions_count on customer_behavior.user1 = transactions_count.user1\n",
        "join recency_and_frequency on recency_and_frequency.user1 = customer_behavior.user1\"\"\")\n",
        "df_regression2.show()\n"
      ],
      "metadata": {
        "colab": {
          "base_uri": "https://localhost:8080/"
        },
        "id": "UbU4poPnvewc",
        "outputId": "9e9b3151-3182-490e-a229-fab9bffb8693"
      },
      "execution_count": null,
      "outputs": [
        {
          "output_type": "stream",
          "name": "stdout",
          "text": [
            "+-----+--------------+-------+---------+--------+----+-----+-----+--------------+------+--------------+------+-------+---+\n",
            "|user1|lifetime_point|recency|frequency|Activity|Cash|Event| Food|IllegalSarcasm|People|Transportation|Travel|Utility|  Y|\n",
            "+-----+--------------+-------+---------+--------+----+-----+-----+--------------+------+--------------+------+-------+---+\n",
            "|61428|             9|      6|     15.0|       0|   0|    0|    0|             0|     0|             0|     0|  100.0|  6|\n",
            "|61428|            11|     14|     30.0|       0|   0|    0|    0|             0|     0|             0|     0|  100.0|  6|\n",
            "|61428|             7|     20|     30.0|       0|   0|    0|    0|             0|     0|             0|     0|  100.0|  6|\n",
            "|61428|             4|     18|     30.0|       0|   0|    0|    0|             0|     0|             0|     0|  100.0|  6|\n",
            "|61428|             0|     30|     30.0|       0|   0|    0|    0|             0|     0|             0|     0|  100.0|  6|\n",
            "|65258|            11|     19|     30.0|       0|   0|    0|100.0|             0|     0|             0|     0|      0|  8|\n",
            "|65258|             5|     24|     30.0|       0|   0|    0|100.0|             0|     0|             0|     0|      0|  8|\n",
            "|65258|             2|     27|     30.0|       0|   0|    0|100.0|             0|     0|             0|     0|      0|  8|\n",
            "|65258|             6|      3|     15.0|       0|   0|    0|100.0|             0|     0|             0|     0|      0|  8|\n",
            "|65258|             7|      7|     30.0|       0|   0|    0|100.0|             0|     0|             0|     0|      0|  8|\n",
            "|65258|             0|     30|     30.0|       0|   0|    0|100.0|             0|     0|             0|     0|      0|  8|\n",
            "|65258|             3|     22|     30.0|       0|   0|    0|100.0|             0|     0|             0|     0|      0|  8|\n",
            "|65523|             0|     30|     30.0|       0|   0|    0|100.0|             0|     0|             0|     0|      0|  3|\n",
            "|65523|             1|      1|     30.0|       0|   0|    0|100.0|             0|     0|             0|     0|      0|  3|\n",
            "|65523|             5|     29|     30.0|       0|   0|    0|100.0|             0|     0|             0|     0|      0|  3|\n",
            "|71388|             0|     11|     15.0|       0|   0|    0|100.0|             0|     0|             0|     0|      0|  6|\n",
            "|71388|             1|      8|     30.0|       0|   0|    0|100.0|             0|     0|             0|     0|      0|  6|\n",
            "|71388|            10|     12|     30.0|       0|   0|    0|100.0|             0|     0|             0|     0|      0|  6|\n",
            "|71388|             9|      5|     30.0|       0|   0|    0|100.0|             0|     0|             0|     0|      0|  6|\n",
            "|71388|             8|      5|     30.0|       0|   0|    0|100.0|             0|     0|             0|     0|      0|  6|\n",
            "+-----+--------------+-------+---------+--------+----+-----+-----+--------------+------+--------------+------+-------+---+\n",
            "only showing top 20 rows\n",
            "\n"
          ]
        }
      ]
    },
    {
      "cell_type": "code",
      "source": [
        "# df_regression2.write.csv('combined_regression', header=True, mode='overwrite')"
      ],
      "metadata": {
        "id": "1k3J9Xc2vZqK"
      },
      "execution_count": null,
      "outputs": []
    },
    {
      "cell_type": "code",
      "source": [
        "#reload data\n",
        "file_path = 'combined_regression'\n",
        "customer_behavior_2 = spark.read.csv(file_path, header=True)\n",
        "\n",
        "# To see the first few rows of the loaded data\n",
        "customer_behavior_2.show()"
      ],
      "metadata": {
        "colab": {
          "base_uri": "https://localhost:8080/"
        },
        "id": "wAFav4eHvtA5",
        "outputId": "bfeea52c-ff24-4d9b-82ab-d1fa9478bdea"
      },
      "execution_count": null,
      "outputs": [
        {
          "output_type": "stream",
          "name": "stdout",
          "text": [
            "+-----+--------------+-------+---------+--------+----+-----+-----+--------------+------+--------------+------+-------+---+\n",
            "|user1|lifetime_point|recency|frequency|Activity|Cash|Event| Food|IllegalSarcasm|People|Transportation|Travel|Utility|  Y|\n",
            "+-----+--------------+-------+---------+--------+----+-----+-----+--------------+------+--------------+------+-------+---+\n",
            "|61428|             9|      6|     15.0|       0|   0|    0|    0|             0|     0|             0|     0|  100.0|  6|\n",
            "|61428|            11|     14|     30.0|       0|   0|    0|    0|             0|     0|             0|     0|  100.0|  6|\n",
            "|61428|             7|     20|     30.0|       0|   0|    0|    0|             0|     0|             0|     0|  100.0|  6|\n",
            "|61428|             4|     18|     30.0|       0|   0|    0|    0|             0|     0|             0|     0|  100.0|  6|\n",
            "|61428|             0|     30|     30.0|       0|   0|    0|    0|             0|     0|             0|     0|  100.0|  6|\n",
            "|65258|            11|     19|     30.0|       0|   0|    0|100.0|             0|     0|             0|     0|      0|  8|\n",
            "|65258|             5|     24|     30.0|       0|   0|    0|100.0|             0|     0|             0|     0|      0|  8|\n",
            "|65258|             2|     27|     30.0|       0|   0|    0|100.0|             0|     0|             0|     0|      0|  8|\n",
            "|65258|             6|      3|     15.0|       0|   0|    0|100.0|             0|     0|             0|     0|      0|  8|\n",
            "|65258|             7|      7|     30.0|       0|   0|    0|100.0|             0|     0|             0|     0|      0|  8|\n",
            "|65258|             0|     30|     30.0|       0|   0|    0|100.0|             0|     0|             0|     0|      0|  8|\n",
            "|65258|             3|     22|     30.0|       0|   0|    0|100.0|             0|     0|             0|     0|      0|  8|\n",
            "|65523|             0|     30|     30.0|       0|   0|    0|100.0|             0|     0|             0|     0|      0|  3|\n",
            "|65523|             1|      1|     30.0|       0|   0|    0|100.0|             0|     0|             0|     0|      0|  3|\n",
            "|65523|             5|     29|     30.0|       0|   0|    0|100.0|             0|     0|             0|     0|      0|  3|\n",
            "|71388|             0|     11|     15.0|       0|   0|    0|100.0|             0|     0|             0|     0|      0|  6|\n",
            "|71388|             1|      8|     30.0|       0|   0|    0|100.0|             0|     0|             0|     0|      0|  6|\n",
            "|71388|            10|     12|     30.0|       0|   0|    0|100.0|             0|     0|             0|     0|      0|  6|\n",
            "|71388|             9|      5|     30.0|       0|   0|    0|100.0|             0|     0|             0|     0|      0|  6|\n",
            "|71388|             8|      5|     30.0|       0|   0|    0|100.0|             0|     0|             0|     0|      0|  6|\n",
            "+-----+--------------+-------+---------+--------+----+-----+-----+--------------+------+--------------+------+-------+---+\n",
            "only showing top 20 rows\n",
            "\n"
          ]
        }
      ]
    },
    {
      "cell_type": "code",
      "source": [
        "from pyspark.sql.functions import col\n",
        "from pyspark.sql.types import DoubleType\n",
        "from pyspark.ml.regression import LinearRegression\n",
        "from pyspark.ml.feature import VectorAssembler\n",
        "import matplotlib.pyplot as plt\n",
        "\n",
        "# Convert the \"Y\" column to DoubleType\n",
        "customer_behavior_2 = customer_behavior_2.withColumn(\"Y\", col(\"Y\").cast(DoubleType()))\n",
        "\n",
        "mse_dict = {}\n",
        "\n",
        "for i in range(13):\n",
        "    filtered_df = customer_behavior_2.filter(customer_behavior_2.lifetime_point == i)\n",
        "\n",
        "    if filtered_df.count() == 0:\n",
        "        continue\n",
        "\n",
        "    # Convert the columns to DoubleType\n",
        "    columns_to_cast = [\"recency\", \"frequency\", \"Activity\", \"Cash\",\n",
        "                       \"Event\", \"Food\", \"IllegalSarcasm\", \"People\",\n",
        "                       \"Transportation\", \"Travel\", \"Utility\"]\n",
        "\n",
        "    for col_name in columns_to_cast:\n",
        "        filtered_df = filtered_df.withColumn(col_name, col(col_name).cast(\"double\"))\n",
        "\n",
        "    assembler = VectorAssembler(inputCols=columns_to_cast, outputCol=\"features\")\n",
        "\n",
        "    filtered_df = assembler.transform(filtered_df)\n",
        "\n",
        "    train_data, test_data = filtered_df.randomSplit([0.8, 0.2], seed=42)\n",
        "\n",
        "    train_dataset = train_data.select(\"features\", \"Y\")\n",
        "    test_dataset = test_data.select(\"features\", \"Y\")\n",
        "\n",
        "    lr = LinearRegression(featuresCol=\"features\", labelCol=\"Y\")\n",
        "\n",
        "    lr_model = lr.fit(train_dataset)\n",
        "\n",
        "    predictions = lr_model.transform(test_dataset)\n",
        "\n",
        "    mse = predictions.selectExpr(\"POWER((Y - prediction), 2) as mse\").groupBy().mean(\"mse\").collect()[0][0]\n",
        "    mse_dict[i] = mse\n",
        "\n",
        "# Plot the MSE for each lifetime point\n",
        "plt.figure(figsize=(8, 6))\n",
        "plt.plot(list(mse_dict.keys()), list(mse_dict.values()), marker='o')\n",
        "plt.xlabel(\"Lifetime Point\")\n",
        "plt.ylabel(\"MSE\")\n",
        "plt.title(\"MSE for Each Lifetime Point with Behavior Metrics\")\n",
        "plt.show()"
      ],
      "metadata": {
        "colab": {
          "base_uri": "https://localhost:8080/",
          "height": 564
        },
        "id": "yK39Tj_Evy5n",
        "outputId": "09005a22-f570-4f27-ff4e-f716adc367f5"
      },
      "execution_count": null,
      "outputs": [
        {
          "output_type": "display_data",
          "data": {
            "text/plain": [
              "<Figure size 800x600 with 1 Axes>"
            ],
            "image/png": "[encoded data removed]"
          },
          "metadata": {}
        }
      ]
    },
    {
      "cell_type": "markdown",
      "source": [
        "### Regress the social network metrics on total transactions."
      ],
      "metadata": {
        "id": "x_woj5XqwFkR"
      }
    },
    {
      "cell_type": "code",
      "source": [
        "socialnetworkmetrics = spark.read.csv(\"venmo_sna.csv\", header=True)\n",
        "socialnetworkmetrics.show()"
      ],
      "metadata": {
        "colab": {
          "base_uri": "https://localhost:8080/"
        },
        "id": "Px_AmCoPwE-g",
        "outputId": "ec002599-7949-4d38-be6a-255a1318b09e"
      },
      "execution_count": null,
      "outputs": [
        {
          "output_type": "stream",
          "name": "stdout",
          "text": [
            "+-------+---------+-----------------+-------------------------+----------------------+------------------+\n",
            "|user_id|month_num|friends_count_cum|friends_friends_count_cum|clustering_coefficient|          pagerank|\n",
            "+-------+---------+-----------------+-------------------------+----------------------+------------------+\n",
            "|     10|        0|                1|                        0|                   0.0|1.2772318716875664|\n",
            "|     10|        1|                1|                        0|                   0.0|1.2772318716875664|\n",
            "|     10|        2|                1|                        0|                   0.0|1.2772318716875664|\n",
            "|     10|        3|                1|                        0|                   0.0|1.2772318716875664|\n",
            "|     10|        4|                1|                        0|                   0.0|1.2772318716875664|\n",
            "|     10|        5|                1|                        0|                   0.0|1.2772318716875664|\n",
            "|     10|        6|                1|                        1|                   0.0|1.2772318716875664|\n",
            "|     10|        7|                1|                        1|                   0.0|1.2772318716875664|\n",
            "|     10|        8|                1|                        1|                   0.0|1.2772318716875664|\n",
            "|     10|        9|                1|                        1|                   0.0|1.2772318716875664|\n",
            "|     10|       10|                1|                        1|                   0.0|1.2772318716875664|\n",
            "|     10|       11|                1|                        1|                   0.0|1.2772318716875664|\n",
            "|     10|       12|                2|                        1|    0.3333333333333333|1.2772318716875664|\n",
            "|1000013|        0|                1|                        0|                   0.0|1.0016935844938735|\n",
            "|1000013|        1|                1|                        0|                   0.0|1.0016935844938735|\n",
            "|1000013|        2|                1|                        0|                   0.0|1.0016935844938735|\n",
            "|1000013|        3|                1|                        0|                   0.0|1.0016935844938735|\n",
            "|1000013|        4|                1|                        0|                   0.0|1.0016935844938735|\n",
            "|1000013|        5|                1|                        0|                   0.0|1.0016935844938735|\n",
            "|1000013|        6|                1|                        0|                   0.0|1.0016935844938735|\n",
            "+-------+---------+-----------------+-------------------------+----------------------+------------------+\n",
            "only showing top 20 rows\n",
            "\n"
          ]
        }
      ]
    },
    {
      "cell_type": "code",
      "source": [
        "customer_behavior_2.createOrReplaceTempView(\"customer_behavior_2\")\n",
        "socialnetworkmetrics.createOrReplaceTempView(\"socialnetworkmetrics\")\n",
        "transactions_count.createOrReplaceTempView(\"transactions_count\")\n",
        "\n",
        "df_regression3 = spark.sql(\"\"\"\n",
        "    SELECT lifetime_point, recency, frequency, pagerank, clustering_coefficient, total_transactions AS Y\n",
        "    FROM recency_and_frequency\n",
        "    JOIN transactions_count ON recency_and_frequency.user1 = transactions_count.user1\n",
        "    JOIN socialnetworkmetrics ON recency_and_frequency.user1 = socialnetworkmetrics.user_id\n",
        "\"\"\")\n",
        "df_regression3.show()"
      ],
      "metadata": {
        "colab": {
          "base_uri": "https://localhost:8080/"
        },
        "id": "1robC77owJ3s",
        "outputId": "3e1fbd18-d84f-4090-f372-0ae8b722060b"
      },
      "execution_count": null,
      "outputs": [
        {
          "output_type": "stream",
          "name": "stdout",
          "text": [
            "+--------------+-------+---------+------------------+----------------------+---+\n",
            "|lifetime_point|recency|frequency|          pagerank|clustering_coefficient|  Y|\n",
            "+--------------+-------+---------+------------------+----------------------+---+\n",
            "|             8|      1|     30.0|1.0016935844938735|                   0.0|  9|\n",
            "|             8|      1|     30.0|1.0016935844938735|                   0.0|  9|\n",
            "|             8|      1|     30.0|1.0016935844938735|                   0.0|  9|\n",
            "|             8|      1|     30.0|1.0016935844938735|                   0.0|  9|\n",
            "|             8|      1|     30.0|1.0016935844938735|                   0.0|  9|\n",
            "|             8|      1|     30.0|1.0016935844938735|                   0.0|  9|\n",
            "|             8|      1|     30.0|1.0016935844938735|                   0.0|  9|\n",
            "|             8|      1|     30.0|1.0016935844938735|                   0.0|  9|\n",
            "|             8|      1|     30.0|1.0016935844938735|                   0.0|  9|\n",
            "|             8|      1|     30.0|1.0016935844938735|                   0.0|  9|\n",
            "|             8|      1|     30.0|1.0016935844938735|                   0.0|  9|\n",
            "|             8|      1|     30.0|1.0016935844938735|                   0.0|  9|\n",
            "|             8|      1|     30.0|1.0016935844938735|                   0.0|  9|\n",
            "|             6|     15|     10.0|1.0016935844938735|                   0.0|  9|\n",
            "|             6|     15|     10.0|1.0016935844938735|                   0.0|  9|\n",
            "|             6|     15|     10.0|1.0016935844938735|                   0.0|  9|\n",
            "|             6|     15|     10.0|1.0016935844938735|                   0.0|  9|\n",
            "|             6|     15|     10.0|1.0016935844938735|                   0.0|  9|\n",
            "|             6|     15|     10.0|1.0016935844938735|                   0.0|  9|\n",
            "|             6|     15|     10.0|1.0016935844938735|                   0.0|  9|\n",
            "+--------------+-------+---------+------------------+----------------------+---+\n",
            "only showing top 20 rows\n",
            "\n"
          ]
        }
      ]
    },
    {
      "cell_type": "code",
      "source": [
        "from pyspark.ml.feature import VectorAssembler\n",
        "from pyspark.ml.regression import LinearRegression\n",
        "from pyspark.ml.evaluation import RegressionEvaluator\n",
        "from pyspark.sql.functions import col\n",
        "import matplotlib.pyplot as plt\n",
        "\n",
        "# Convert string columns to numeric types\n",
        "df_regression3 = df_regression3.withColumn(\"pagerank\", col(\"pagerank\").cast(\"double\"))\n",
        "df_regression3 = df_regression3.withColumn(\"clustering_coefficient\", col(\"clustering_coefficient\").cast(\"double\"))\n",
        "\n",
        "# Prepare the data for regression\n",
        "assembler = VectorAssembler(inputCols=[\"recency\", \"frequency\", \"pagerank\", \"clustering_coefficient\"], outputCol=\"features\")\n",
        "regression_data = assembler.transform(df_regression3)\n",
        "\n",
        "mse_values = []\n",
        "\n",
        "# Perform regression analysis for each lifetime point\n",
        "for point in range(1, 12):\n",
        "    # Filter data for the current lifetime point\n",
        "    point_data = regression_data.filter(regression_data.lifetime_point == point)\n",
        "\n",
        "    # Split the data into training and testing sets\n",
        "    (training_data, testing_data) = point_data.randomSplit([0.7, 0.3])\n",
        "\n",
        "    # Create a Linear Regression model\n",
        "    lr = LinearRegression(featuresCol=\"features\", labelCol=\"Y\")\n",
        "\n",
        "    # Train the model\n",
        "    model = lr.fit(training_data)\n",
        "\n",
        "    # Make predictions on the testing data\n",
        "    predictions = model.transform(testing_data)\n",
        "\n",
        "    # Calculate the MSE\n",
        "    evaluator = RegressionEvaluator(labelCol=\"Y\", predictionCol=\"prediction\", metricName=\"mse\")\n",
        "    mse = evaluator.evaluate(predictions)\n",
        "    mse_values.append(mse)\n",
        "\n",
        "# Plot the MSE for each lifetime point\n",
        "plt.plot(range(1, 12), mse_values, marker='o')\n",
        "plt.xlabel(\"Lifetime Point\")\n",
        "plt.ylabel(\"MSE\")\n",
        "plt.title(\"MSE for Social Network Metrics at Each Lifetime Point\")\n",
        "plt.show()\n"
      ],
      "metadata": {
        "colab": {
          "base_uri": "https://localhost:8080/",
          "height": 472
        },
        "id": "-dvskLiMwcDj",
        "outputId": "1b348a06-33a1-4f46-e44b-ae99a8e956fa"
      },
      "execution_count": null,
      "outputs": [
        {
          "output_type": "display_data",
          "data": {
            "text/plain": [
              "<Figure size 640x480 with 1 Axes>"
            ],
            "image/png": "[encoded data removed]"
          },
          "metadata": {}
        }
      ]
    },
    {
      "cell_type": "markdown",
      "source": [
        "The graph highlights the varying performance of the prediction model at different stages of the customer lifetime. Similarly, when the social metrics variable is added, the overall trend goes downward but with intermittent increases and decreases."
      ],
      "metadata": {
        "id": "YGjDnEWq9P_l"
      }
    },
    {
      "cell_type": "markdown",
      "source": [
        "### Regress the social network metrics and the spending behavior of social network on total transactions."
      ],
      "metadata": {
        "id": "D_5SP5Vaw7gW"
      }
    },
    {
      "cell_type": "code",
      "source": [
        "#reload data\n",
        "file_path = 'combined_regression'\n",
        "customer_behavior_2 = spark.read.csv(file_path, header=True)\n",
        "\n",
        "# To see the first few rows of the loaded data\n",
        "customer_behavior_2.show()\n",
        "\n",
        "# # To see the first few rows of the loaded data\n",
        "\n",
        "\n",
        "customer_behavior_2.createOrReplaceTempView(\"customer_behavior\")\n",
        "transactions_count.createOrReplaceTempView(\"transactions_count\")\n",
        "socialnetworkmetrics.createOrReplaceTempView(\"socialnetworkmetrics\")\n",
        "\n",
        "df_regression4 = spark.sql(\"\"\"\n",
        "    SELECT `customer_behavior`.`lifetime_point`, `customer_behavior`.`recency`, `customer_behavior`.`frequency`, `socialnetworkmetrics`.`pagerank`, `socialnetworkmetrics`.`clustering_coefficient`, `customer_behavior`.`Activity`, `customer_behavior`.`Cash`, `customer_behavior`.`Event`, `customer_behavior`.`Food`, `customer_behavior`.`IllegalSarcasm`, `customer_behavior`.`People`, `customer_behavior`.`Transportation`, `customer_behavior`.`Travel`, `customer_behavior`.`Utility`, `transactions_count`.`total_transactions` AS Y\n",
        "    FROM socialnetworkmetrics\n",
        "    JOIN transactions_count ON socialnetworkmetrics.user_id = transactions_count.user1\n",
        "    JOIN customer_behavior ON customer_behavior.user1 = socialnetworkmetrics.user_id\n",
        "\"\"\")\n",
        "\n",
        "df_regression4.show()"
      ],
      "metadata": {
        "colab": {
          "base_uri": "https://localhost:8080/"
        },
        "id": "1LZLl2g8w8N7",
        "outputId": "bfdc0a6d-9ac7-40a6-b02f-9c0e3e847323"
      },
      "execution_count": null,
      "outputs": [
        {
          "output_type": "stream",
          "name": "stdout",
          "text": [
            "+-----+--------------+-------+---------+--------+----+-----+-----+--------------+------+--------------+------+-------+---+\n",
            "|user1|lifetime_point|recency|frequency|Activity|Cash|Event| Food|IllegalSarcasm|People|Transportation|Travel|Utility|  Y|\n",
            "+-----+--------------+-------+---------+--------+----+-----+-----+--------------+------+--------------+------+-------+---+\n",
            "|61428|             9|      6|     15.0|       0|   0|    0|    0|             0|     0|             0|     0|  100.0|  6|\n",
            "|61428|            11|     14|     30.0|       0|   0|    0|    0|             0|     0|             0|     0|  100.0|  6|\n",
            "|61428|             7|     20|     30.0|       0|   0|    0|    0|             0|     0|             0|     0|  100.0|  6|\n",
            "|61428|             4|     18|     30.0|       0|   0|    0|    0|             0|     0|             0|     0|  100.0|  6|\n",
            "|61428|             0|     30|     30.0|       0|   0|    0|    0|             0|     0|             0|     0|  100.0|  6|\n",
            "|65258|            11|     19|     30.0|       0|   0|    0|100.0|             0|     0|             0|     0|      0|  8|\n",
            "|65258|             5|     24|     30.0|       0|   0|    0|100.0|             0|     0|             0|     0|      0|  8|\n",
            "|65258|             2|     27|     30.0|       0|   0|    0|100.0|             0|     0|             0|     0|      0|  8|\n",
            "|65258|             6|      3|     15.0|       0|   0|    0|100.0|             0|     0|             0|     0|      0|  8|\n",
            "|65258|             7|      7|     30.0|       0|   0|    0|100.0|             0|     0|             0|     0|      0|  8|\n",
            "|65258|             0|     30|     30.0|       0|   0|    0|100.0|             0|     0|             0|     0|      0|  8|\n",
            "|65258|             3|     22|     30.0|       0|   0|    0|100.0|             0|     0|             0|     0|      0|  8|\n",
            "|65523|             0|     30|     30.0|       0|   0|    0|100.0|             0|     0|             0|     0|      0|  3|\n",
            "|65523|             1|      1|     30.0|       0|   0|    0|100.0|             0|     0|             0|     0|      0|  3|\n",
            "|65523|             5|     29|     30.0|       0|   0|    0|100.0|             0|     0|             0|     0|      0|  3|\n",
            "|71388|             0|     11|     15.0|       0|   0|    0|100.0|             0|     0|             0|     0|      0|  6|\n",
            "|71388|             1|      8|     30.0|       0|   0|    0|100.0|             0|     0|             0|     0|      0|  6|\n",
            "|71388|            10|     12|     30.0|       0|   0|    0|100.0|             0|     0|             0|     0|      0|  6|\n",
            "|71388|             9|      5|     30.0|       0|   0|    0|100.0|             0|     0|             0|     0|      0|  6|\n",
            "|71388|             8|      5|     30.0|       0|   0|    0|100.0|             0|     0|             0|     0|      0|  6|\n",
            "+-----+--------------+-------+---------+--------+----+-----+-----+--------------+------+--------------+------+-------+---+\n",
            "only showing top 20 rows\n",
            "\n",
            "+--------------+-------+---------+------------------+----------------------+--------+----+-----+----+--------------+------+--------------+------+-------+---+\n",
            "|lifetime_point|recency|frequency|          pagerank|clustering_coefficient|Activity|Cash|Event|Food|IllegalSarcasm|People|Transportation|Travel|Utility|  Y|\n",
            "+--------------+-------+---------+------------------+----------------------+--------+----+-----+----+--------------+------+--------------+------+-------+---+\n",
            "|             4|      8|     30.0|1.0016935844938735|                   0.0|       0|   0|    0|   0|             0|     0|         100.0|     0|      0| 13|\n",
            "|             7|     13|     30.0|1.0016935844938735|                   0.0|       0|   0|    0|   0|             0|     0|         100.0|     0|      0| 13|\n",
            "|             1|     11|     10.0|1.0016935844938735|                   0.0|       0|   0|    0|   0|             0|     0|         100.0|     0|      0| 13|\n",
            "|             3|      9|     30.0|1.0016935844938735|                   0.0|       0|   0|    0|   0|             0|     0|         100.0|     0|      0| 13|\n",
            "|            11|      2|     30.0|1.0016935844938735|                   0.0|       0|   0|    0|   0|             0|     0|         100.0|     0|      0| 13|\n",
            "|             6|      4|     10.0|1.0016935844938735|                   0.0|       0|   0|    0|   0|             0|     0|         100.0|     0|      0| 13|\n",
            "|             0|     30|     30.0|1.0016935844938735|                   0.0|       0|   0|    0|   0|             0|     0|         100.0|     0|      0| 13|\n",
            "|             8|     18|     30.0|1.0016935844938735|                   0.0|       0|   0|    0|   0|             0|     0|         100.0|     0|      0| 13|\n",
            "|             4|      8|     30.0|1.0016935844938735|                   0.0|       0|   0|100.0|   0|             0|     0|             0|     0|      0| 13|\n",
            "|             7|     13|     30.0|1.0016935844938735|                   0.0|       0|   0|100.0|   0|             0|     0|             0|     0|      0| 13|\n",
            "|             1|     11|     10.0|1.0016935844938735|                   0.0|       0|   0|100.0|   0|             0|     0|             0|     0|      0| 13|\n",
            "|             3|      9|     30.0|1.0016935844938735|                   0.0|       0|   0|100.0|   0|             0|     0|             0|     0|      0| 13|\n",
            "|            11|      2|     30.0|1.0016935844938735|                   0.0|       0|   0|100.0|   0|             0|     0|             0|     0|      0| 13|\n",
            "|             6|      4|     10.0|1.0016935844938735|                   0.0|       0|   0|100.0|   0|             0|     0|             0|     0|      0| 13|\n",
            "|             0|     30|     30.0|1.0016935844938735|                   0.0|       0|   0|100.0|   0|             0|     0|             0|     0|      0| 13|\n",
            "|             8|     18|     30.0|1.0016935844938735|                   0.0|       0|   0|100.0|   0|             0|     0|             0|     0|      0| 13|\n",
            "|             4|      8|     30.0|1.0016935844938735|                   0.0|       0|   0|    0|   0|             0|     0|         100.0|     0|      0| 13|\n",
            "|             7|     13|     30.0|1.0016935844938735|                   0.0|       0|   0|    0|   0|             0|     0|         100.0|     0|      0| 13|\n",
            "|             1|     11|     10.0|1.0016935844938735|                   0.0|       0|   0|    0|   0|             0|     0|         100.0|     0|      0| 13|\n",
            "|             3|      9|     30.0|1.0016935844938735|                   0.0|       0|   0|    0|   0|             0|     0|         100.0|     0|      0| 13|\n",
            "+--------------+-------+---------+------------------+----------------------+--------+----+-----+----+--------------+------+--------------+------+-------+---+\n",
            "only showing top 20 rows\n",
            "\n"
          ]
        }
      ]
    },
    {
      "cell_type": "code",
      "source": [
        "\n",
        "# Cast columns to the appropriate data types\n",
        "df_regression4 = df_regression4.withColumn(\"pagerank\", col(\"pagerank\").cast(\"double\"))\n",
        "df_regression4 = df_regression4.withColumn(\"clustering_coefficient\", col(\"clustering_coefficient\").cast(\"double\"))\n",
        "df_regression4 = df_regression4.withColumn(\"Activity\", col(\"Activity\").cast(\"double\"))\n",
        "df_regression4 = df_regression4.withColumn(\"Cash\", col(\"Cash\").cast(\"double\"))\n",
        "df_regression4 = df_regression4.withColumn(\"Event\", col(\"Event\").cast(\"double\"))\n",
        "df_regression4 = df_regression4.withColumn(\"Food\", col(\"Food\").cast(\"double\"))\n",
        "df_regression4 = df_regression4.withColumn(\"IllegalSarcasm\", col(\"IllegalSarcasm\").cast(\"double\"))\n",
        "df_regression4 = df_regression4.withColumn(\"People\", col(\"People\").cast(\"double\"))\n",
        "df_regression4 = df_regression4.withColumn(\"Transportation\", col(\"Transportation\").cast(\"double\"))\n",
        "df_regression4 = df_regression4.withColumn(\"Travel\", col(\"Travel\").cast(\"double\"))\n",
        "df_regression4 = df_regression4.withColumn(\"Utility\", col(\"Utility\").cast(\"double\"))\n",
        "df_regression4 = df_regression4.withColumn(\"Y\", col(\"Y\").cast(\"double\"))\n",
        "\n",
        "# Assemble the features into a vector\n",
        "assembler = VectorAssembler(\n",
        "    inputCols=[\"pagerank\", \"clustering_coefficient\", \"Activity\", \"Cash\", \"Event\", \"Food\", \"IllegalSarcasm\", \"People\", \"Transportation\", \"Travel\", \"Utility\"],\n",
        "    outputCol=\"features\")\n",
        "\n",
        "# Apply the vector assembler on the dataframe\n",
        "df_assembled = assembler.transform(df_regression4)\n",
        "\n",
        "# Split the data into train and test sets\n",
        "train_data, test_data = df_assembled.randomSplit([0.8, 0.2], seed=42)\n",
        "\n",
        "# Initialize the linear regression model\n",
        "lr = LinearRegression(labelCol=\"Y\")\n",
        "\n",
        "# Initialize a dictionary to store the MSE for each lifetime point\n",
        "mse_dict = {}\n",
        "\n",
        "for lifetime_point in range(13):\n",
        "    # Filter the data for the current lifetime point\n",
        "    train_data_filtered = train_data.filter(train_data.lifetime_point == lifetime_point)\n",
        "    test_data_filtered = test_data.filter(test_data.lifetime_point == lifetime_point)\n",
        "\n",
        "    # Check if the training dataset is not empty\n",
        "    if train_data_filtered.count() == 0:\n",
        "        print(f\"No data available for lifetime point {lifetime_point}\")\n",
        "        continue\n",
        "\n",
        "    # Fit the linear regression model on the training data\n",
        "    model = lr.fit(train_data_filtered)\n",
        "\n",
        "    # Make predictions on the test data\n",
        "    predictions = model.transform(test_data_filtered)\n",
        "\n",
        "    # Evaluate the model using MSE\n",
        "    evaluator = RegressionEvaluator(labelCol=\"Y\", metricName=\"mse\")\n",
        "    mse = evaluator.evaluate(predictions)\n",
        "\n",
        "    # Store the MSE for the current lifetime point\n",
        "    mse_dict[lifetime_point] = mse\n",
        "\n",
        "# Extract the lifetime points and MSE values\n",
        "lifetime_points = list(mse_dict.keys())\n",
        "mse_values = list(mse_dict.values())\n",
        "\n",
        "# Plot the MSE for each lifetime point\n",
        "plt.plot(lifetime_points, mse_values, marker='o')\n",
        "plt.xlabel(\"Lifetime Point\")\n",
        "plt.ylabel(\"MSE\")\n",
        "plt.title(\"MSE for Each Lifetime Point\")\n",
        "plt.show()\n",
        "\n",
        "\n",
        "\n",
        "\n",
        "\n"
      ],
      "metadata": {
        "colab": {
          "base_uri": "https://localhost:8080/",
          "height": 508
        },
        "id": "T9-6BhY96Zxe",
        "outputId": "16218654-2f9e-4a68-85a1-6cc7f23c9690"
      },
      "execution_count": null,
      "outputs": [
        {
          "output_type": "stream",
          "name": "stdout",
          "text": [
            "No data available for lifetime point 9\n",
            "No data available for lifetime point 12\n"
          ]
        },
        {
          "output_type": "display_data",
          "data": {
            "text/plain": [
              "<Figure size 640x480 with 1 Axes>"
            ],
            "image/png": "[encoded data removed]"
          },
          "metadata": {}
        }
      ]
    },
    {
      "cell_type": "markdown",
      "source": [
        "When both variables are added, the MSE drops between lifetime 6-8 and then increases drastically."
      ],
      "metadata": {
        "id": "_j5iVjqC9YQu"
      }
    }
  ]
}